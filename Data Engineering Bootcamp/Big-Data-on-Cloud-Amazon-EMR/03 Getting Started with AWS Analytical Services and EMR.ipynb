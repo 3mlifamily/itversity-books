{
 "cells": [
  {
   "cell_type": "markdown",
   "metadata": {},
   "source": [
    "# Getting Started with AWS Analytical Services and EMR"
   ]
  },
  {
   "cell_type": "markdown",
   "metadata": {},
   "source": [
    "As part of this session we will actually see the overview of AWS Analytics Services and Elastic Map Reduce (EMR). We will also create our first cluster using EMR.\n",
    "* We will start with terminating cluster that is created in last session.\n",
    "* AWS Analytics Services\n",
    "    * Elastic Map Reduce\n",
    "    * Athena\n",
    "    * Kinesis\n",
    "    * Elastic Search\n",
    "    * and more\n",
    "* Related Services\n",
    "    * Red Shift\n",
    "    * Dynamo DB\n",
    "* Difference between regular on-prem clusters vs. clusters leveraging cloud’s pay as you go model\n",
    "    * Criteria\n",
    "    * Performance implications\n",
    "    * Advantages and Disadvantages of both types of clusters\n",
    "* EMR Pricing\n",
    "* Create EMR cluster using quick options\n",
    "* Understand the create life cycle\n",
    "* Overview about AWS CLI"
   ]
  }
 ],
 "metadata": {
  "kernelspec": {
   "display_name": "Python 3",
   "language": "python",
   "name": "python3"
  },
  "language_info": {
   "codemirror_mode": {
    "name": "ipython",
    "version": 3
   },
   "file_extension": ".py",
   "mimetype": "text/x-python",
   "name": "python",
   "nbconvert_exporter": "python",
   "pygments_lexer": "ipython3",
   "version": "3.6.8"
  }
 },
 "nbformat": 4,
 "nbformat_minor": 4
}
