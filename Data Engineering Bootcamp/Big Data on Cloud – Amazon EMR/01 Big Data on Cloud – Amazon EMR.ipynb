{
 "cells": [
  {
   "cell_type": "markdown",
   "metadata": {},
   "source": [
    "# Big Data on Cloud – Amazon EMR"
   ]
  },
  {
   "cell_type": "markdown",
   "metadata": {},
   "source": [
    "As part of this module we will see how to leverage Amazon EMR to build big data clusters and process data\n",
    "* Basics of AWS – EC2, s3, key pair, security groups etc\n",
    "* Setting up EMR clusters\n",
    "* Understand EMR features and compare with regular clusters – Cost vs. Performance\n",
    "* Process data using step execution\n",
    "* Planning clusters for auto scaling"
   ]
  }
 ],
 "metadata": {
  "kernelspec": {
   "display_name": "Python 3",
   "language": "python",
   "name": "python3"
  },
  "language_info": {
   "codemirror_mode": {
    "name": "ipython",
    "version": 3
   },
   "file_extension": ".py",
   "mimetype": "text/x-python",
   "name": "python",
   "nbconvert_exporter": "python",
   "pygments_lexer": "ipython3",
   "version": "3.6.8"
  }
 },
 "nbformat": 4,
 "nbformat_minor": 4
}
