{
 "cells": [
  {
   "cell_type": "markdown",
   "metadata": {},
   "source": [
    "# **Step Execution and Advanced Options of EMR**"
   ]
  },
  {
   "cell_type": "markdown",
   "metadata": {},
   "source": [
    "As part of this session we will see step execution in EMR and also go through advanced options to get clusters with custom services.\n",
    "\n",
    "* Understanding Step Execution\n",
    "* Running simple hive script using Step Execution\n",
    "* Running simple Spark Job using Step Execution\n",
    "* Understand advanced options to get cluster with custom services\n",
    "* AWS EMR Cluster – Masters, Cores and Tasks\n",
    "* Create cluster with Spark\n",
    "* Run pyspark, spark-shell to validate Spark setup"
   ]
  }
 ],
 "metadata": {
  "kernelspec": {
   "display_name": "Python 3",
   "language": "python",
   "name": "python3"
  },
  "language_info": {
   "codemirror_mode": {
    "name": "ipython",
    "version": 3
   },
   "file_extension": ".py",
   "mimetype": "text/x-python",
   "name": "python",
   "nbconvert_exporter": "python",
   "pygments_lexer": "ipython3",
   "version": "3.6.8"
  }
 },
 "nbformat": 4,
 "nbformat_minor": 4
}
