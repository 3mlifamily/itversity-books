{
 "cells": [
  {
   "cell_type": "markdown",
   "metadata": {},
   "source": [
    "# Spark SQL – Basic Transformations such as filtering, aggregations, joins etc\n",
    "\n",
    "As part of this session we will see basic transformations we can perform on top of Data Frames such as filtering, aggregations, joins etc using SQL. We will build end to end application by taking a simple problem statement.\n",
    "\n",
    "* Spark SQL – Overview\n",
    "* Problem Statement – Get daily product revenue\n",
    "* Relationship with Hive\n",
    "* Projecting data using select\n",
    "* Filtering data using where\n",
    "* Joining Data Sets\n",
    "* Grouping data and performing aggregations\n",
    "* Sorting data\n"
   ]
  },
  {
   "cell_type": "markdown",
   "metadata": {},
   "source": [
    "### Spark SQL – Overview\n",
    "\n",
    "Let us recap about Data Frame Operations. It is one of the 2 ways we can process Data Frames.\n",
    "\n",
    "* Selection or Projection – select clause\n",
    "* Filtering data – where clause\n",
    "* Joins – join (supports outer join as well)\n",
    "* ggregations – group by and aggregations with support of functions such as sum, avg, min, max etc\n",
    "* Sorting – order by\n",
    "* Analytics Functions – aggregations, ranking and windowing functions\n",
    "\n",
    "# Problem Statement – Get daily product revenue\n",
    "Here is the problem statement for which we will be exploring Data Frame APIs to come up with final solution.\n",
    "\n",
    "* Get daily product revenue\n",
    "* orders – order_id, order_date, order_customer_id, order_status\n",
    "* order_items – order_item_id, order_item_order_id, order_item_product_id, order_item_quantity, order_item_subtotal, order_item_product_price\n",
    "* Data is comma separated\n",
    "* We will fetch data using spark.read.csv\n",
    "* Apply type cast functions to convert fields into their original type where ever is applicable.\n"
   ]
  },
  {
   "cell_type": "code",
   "execution_count": null,
   "metadata": {},
   "outputs": [],
   "source": [
    "spark = SparkSession. \\\n",
    "  builder. \\\n",
    "  master('local'). \\\n",
    "  appName('CSV Example'). \\\n",
    "  getOrCreate()\n",
    "\n",
    "orders = spark.read. \\\n",
    "  format('csv'). \\\n",
    "  schema('order_id int, order_date string, order_customer_id int, order_status string'). \\\n",
    "  load('/Users/itversity/Research/data/retail_db/orders')\n",
    "\n",
    "orders.printSchema()\n",
    "orders.show()\n",
    "\n",
    "orderItems = spark.read. \\\n",
    "  format('csv'). \\\n",
    "  schema('''order_item_id int, \n",
    "            order_item_order_id int, \n",
    "            order_item_product_id int, \n",
    "            order_item_quantity int,\n",
    "            order_item_subtotal float,\n",
    "            order_item_product_price float\n",
    "         '''). \\\n",
    "  load('/Users/itversity/Research/data/retail_db/order_items')\n",
    "\n",
    "orderItems.printSchema()\n",
    "orderItems.show()"
   ]
  },
  {
   "cell_type": "code",
   "execution_count": null,
   "metadata": {},
   "outputs": [],
   "source": [
    "# In case you are using pycharm, first you need to create object of type SparkSession\n",
    "spark = SparkSession. \\\n",
    "  builder. \\\n",
    "  master('local'). \\\n",
    "  appName('CSV Example'). \\\n",
    "  getOrCreate()\n",
    "\n",
    "ordersCSV = spark.read. \\\n",
    "  csv('/public/retail_db/orders'). \\\n",
    "  toDF('order_id', 'order_date', 'order_customer_id', 'order_status')\n",
    "\n",
    "orderItemsCSV = spark.read. \\\n",
    "  csv('/public/retail_db/order_items'). \\\n",
    "  toDF('order_item_id', 'order_item_order_id', 'order_item_product_id', \n",
    "       'order_item_quantity', 'order_item_subtotal', 'order_item_product_price')\n",
    "\n",
    "from pyspark.sql.types import IntegerType, FloatType\n",
    "\n",
    "orders = ordersCSV. \\\n",
    "  withColumn('order_id', ordersCSV.order_id.cast(IntegerType())). \\\n",
    "  withColumn('order_customer_id', ordersCSV.order_customer_id.cast(IntegerType()))\n",
    "\n",
    "orders.printSchema()\n",
    "orders.show()\n",
    "\n",
    "orderItems = orderItemsCSV.\\\n",
    "    withColumn('order_item_id', orderItemsCSV.order_item_id.cast(IntegerType())). \\\n",
    "    withColumn('order_item_order_id', orderItemsCSV.order_item_order_id.cast(IntegerType())). \\\n",
    "    withColumn('order_item_product_id', orderItemsCSV.order_item_product_id.cast(IntegerType())). \\\n",
    "    withColumn('order_item_quantity', orderItemsCSV.order_item_quantity.cast(IntegerType())). \\\n",
    "    withColumn('order_item_subtotal', orderItemsCSV.order_item_subtotal.cast(FloatType())). \\\n",
    "    withColumn('order_item_product_price', orderItemsCSV.order_item_product_price.cast(FloatType()))\n",
    "\n",
    "orderItems.printSchema()\n",
    "orderItems.show()"
   ]
  },
  {
   "cell_type": "markdown",
   "metadata": {},
   "source": [
    "* We can register both orders and orderItems as temporary views.\n",
    " * Switch to database in hive – spark.sql('use bootcampdemo')\n",
    " * orders as orders – orders.createOrReplaceTempView('orders')\n",
    " * orderItems as order_items – orderItems.createOrReplaceTempView('order_items')\n",
    " * List tables – spark.sql('show tables').show()\n",
    " * Describe table – spark.sql('describe orders').show()\n",
    "\n",
    "# Relationship with Hive\n",
    "\n",
    "Let us see how Spark is related to Hive.\n",
    "\n",
    "* Hive is a logical database on top of HDFS\n",
    "* All hive databases, tables and even partitions are nothing but directories in HDFS\n",
    "* We can create tables in Hive with column names and data types\n",
    "* Table names, column names, data types, location, file format, delimiter information is considered as metadata\n",
    "* This metadata is stored in metastore which is typically relational database such as MySQL, Postgres, Oracle etc\n",
    "* Once table is created, data can be queried or processed using HiveQL\n",
    "* HiveQL will be compiled into Spark or Map Reduce job based on the execution engine.\n",
    "* If Hive is integrated with Spark on the cluster using SparkSession object’s sql API we should be able to query and process data from Hive tables using Spark engine\n",
    "* Query output will be converted to Data Frame\n",
    "* SparkSession object’s sql API can execute standard hive commands such as show tables, show functions etc\n",
    "* Standard Hive commands (except SQL)\n",
    " * spark is of type SparkSession\n",
    " * List of tables – spark.sql(\"show tables\").show()\n",
    " * Switch database – spark.sql(\"use bootcampdemo\").show()\n",
    " * Describe table – spark.sql(\"describe table orders\").show()\n",
    " * Show functions – for f in spark.sql(\"show functions\").collect(): print(f)\n",
    " * Describe function – for f in spark.sql(\"describe function substring\").collect(): print(f)\n",
    "* We can also create/drop tables, insert/load data into tables using Hive syntax as part of sql function of SparkSession object\n",
    "* As part of SparkSession object’s read, there is an API which facilitate us to read raw data from Hive table into Data Frame\n",
    "* write package of data frame provides us APIs such as saveAsTable, insertInto etc to directly write data frame into Hive table.\n",
    "\n",
    "# Selection or Projection – select clause\n",
    "\n",
    "Now let us see how we can project data the way we want using select.\n",
    "\n",
    "* We can run queries directly from hive tables or register data frames as temporary views/tables.\n",
    "* We can use select and fetch data from the fields we are looking for.\n",
    "* We can represent data using DataFrame.ColumnName or directly ‘ColumnName’ in select clause – e.g.: spark.sql('select order_id, order_date from orders').show()\n",
    "* We can apply necessary functions to manipulate data while it is being projected – spark.sql('select substring(order_date, 1, 7) from orders').show()\n",
    "* We can give aliases to the derived fields using alias function – spark.sql('select substring(order_date, 1, 7) as order_month from orders').show()\n",
    "\n",
    "# Filtering data – where clause\n",
    "We can use where clause to filter the data.\n",
    "\n",
    "* One by using class.attributeName and comparing with values – e. g.: spark.sql('select * from orders where order_status = \"COMPLETE\"').show()\n",
    "* Make sure both orders and orderItems data frames are created\n",
    "* Let us see few more examples\n",
    " * Get orders which are either COMPLETE or CLOSED\n",
    " * Get orders which are either COMPLETE or CLOSED and placed in month of 2013 August\n",
    " * Get order items where order_item_subtotal is not equal to product of order_item_quantity and order_item_product_price\n",
    "* Get all the orders which are placed on first of every month"
   ]
  },
  {
   "cell_type": "code",
   "execution_count": null,
   "metadata": {},
   "outputs": [],
   "source": [
    "# Get orders which are either COMPLETE or CLOSED\n",
    "\n",
    "spark.sql('select * from orders where order_status = \"COMPLETE\" or order_status = \"CLOSED\"').show()\n",
    "spark.sql('select * from orders where order_status in (\"COMPLETE\", \"CLOSED\")').show()"
   ]
  },
  {
   "cell_type": "code",
   "execution_count": null,
   "metadata": {},
   "outputs": [],
   "source": [
    "# Get orders which are either COMPLETE or CLOSED and placed in month of 2013 August\n",
    "\n",
    "spark.sql('select * from orders where order_status in (\"COMPLETE\", \"CLOSED\") and order_date like \"2013-08%\"').show()"
   ]
  },
  {
   "cell_type": "code",
   "execution_count": null,
   "metadata": {},
   "outputs": [],
   "source": [
    "# Get order items where order_item_subtotal is not equal to product of order_item_quantity and order_item_product_price\n",
    "spark.sql('''select * from order_items where \n",
    "             order_item_subtotal != round(order_item_quantity * order_item_product_price, 2)''').show()"
   ]
  },
  {
   "cell_type": "code",
   "execution_count": null,
   "metadata": {},
   "outputs": [],
   "source": [
    "# Get all the orders which are placed on first of every month\n",
    "spark.sql('''select * from orders \n",
    "             where date_format(order_date, \"dd\") = \"01\"''').show()"
   ]
  },
  {
   "cell_type": "markdown",
   "metadata": {},
   "source": [
    "# Joining Data Sets\n",
    "Quite often we need to deal with multiple data sets which are related with each other.\n",
    "\n",
    "* We need to first understand the relationship with respect to data sets\n",
    "* All our data sets have relationships defined between them.\n",
    " * orders and order_items are transaction tables. orders is parent and order_items is child. Relationship is established between the two using order_id (in order_items, it is represented as order_item_order_id)\n",
    " * We also have product catalog normalized into 3 tables – products, categories and departments (with relationships established in that order)\n",
    " * We also have customers table\n",
    " * There is relationship between customers and orders – customers is parent data set as one customer can place multiple orders.\n",
    " * There is relationship between product catalog and order_items via products – products is parent data set as one product can be ordered as part of multiple order_items.\n",
    "* Determine the type of join – inner or outer (left or right or full)\n",
    "* We can perform joins using ascii syntax with join along with on clause\n",
    "* We can also perform outer joins (left or right or full)\n",
    "* Let us see few examples\n",
    " * Get all the order items corresponding to COMPLETE or CLOSED orders\n",
    " * Get all the orders where there are no corresponding order_items\n",
    " * Check if there are any order_items where there is no corresponding order in orders data set"
   ]
  },
  {
   "cell_type": "code",
   "execution_count": null,
   "metadata": {},
   "outputs": [],
   "source": [
    "# Get all the order items corresponding to COMPLETE or CLOSED orders\n",
    "\n",
    "spark.sql('select * from orders o join order_items oi '\n",
    "          'on o.order_id = oi.order_item_order_id '\n",
    "          'where o.order_status in (\"COMPLETE\", \"CLOSED\")'). \\\n",
    "  show()"
   ]
  },
  {
   "cell_type": "code",
   "execution_count": null,
   "metadata": {},
   "outputs": [],
   "source": [
    "# Get all the orders where there are no corresponding order_items\n",
    "\n",
    "spark.sql('select * from orders o left outer join order_items oi '\n",
    "          'on o.order_id = oi.order_item_order_id '\n",
    "          'where oi.order_item_order_id is null'). \\\n",
    "  show()"
   ]
  },
  {
   "cell_type": "code",
   "execution_count": null,
   "metadata": {},
   "outputs": [],
   "source": [
    "# Check if there are any order_items where there is no corresponding order in orders data set\n",
    "\n",
    "spark.sql('select * from orders o right outer join order_items oi '\n",
    "          'on o.order_id = oi.order_item_order_id '\n",
    "          'where o.order_id is null'). \\\n",
    "  show()"
   ]
  },
  {
   "cell_type": "markdown",
   "metadata": {},
   "source": [
    "### Aggregations using group by and functions\n",
    "\n",
    "Many times we want to perform aggregations such as sum, average, minimum, maximum etc with in each group. We need to first group the data and then perform aggregation.\n",
    "\n",
    "* group by is the function which can be used to group the data on one or more columns\n",
    "* Once data is grouped we can perform all supported aggregations – sum, avg, min, max etc\n",
    "* Let us see few examples\n",
    " * Get count by status from orders\n",
    " * Get revenue for each order id from order items\n",
    " * Get daily product revenue (order_date and order_item_product_id are part of keys, order_item_subtotal is used for aggregation)"
   ]
  },
  {
   "cell_type": "code",
   "execution_count": null,
   "metadata": {},
   "outputs": [],
   "source": [
    "# Get count by status from orders\n",
    "spark.sql('select order_status, count(1) status_count '\n",
    "          'from orders group by order_status'). \\\n",
    "  show()"
   ]
  },
  {
   "cell_type": "code",
   "execution_count": null,
   "metadata": {},
   "outputs": [],
   "source": [
    "# Get revenue for each order id from order items \n",
    "spark.sql('select order_item_order_id, sum(order_item_subtotal) order_revenue '\n",
    "          'from order_items group by order_item_order_id'). \\\n",
    "  show()"
   ]
  },
  {
   "cell_type": "code",
   "execution_count": null,
   "metadata": {},
   "outputs": [],
   "source": [
    "# Get daily product revenue \n",
    "# filter for complete and closed orders\n",
    "# groupBy order_date and order_item_product_id\n",
    "# Use agg and sum on order_item_subtotal to get revenue\n",
    "\n",
    "spark.conf.set('spark.sql.shuffle.partitions', '2')\n",
    "\n",
    "spark.sql('select o.order_date, oi.order_item_product_id, '\n",
    "          'sum(oi.order_item_subtotal) order_revenue '\n",
    "          'from orders o join order_items oi '\n",
    "          'on o.order_id = oi.order_item_order_id '\n",
    "          'where o.order_status in (\"COMPLETE\", \"CLOSED\") '\n",
    "          'group by o.order_date, oi.order_item_product_id'). \\\n",
    "  show()"
   ]
  },
  {
   "cell_type": "markdown",
   "metadata": {},
   "source": [
    "# Sorting data\n",
    "\n",
    "Now let us see how we can sort the data using sort or orderBy.\n",
    "\n",
    "* order by can be used to sort the data\n",
    "* We can perform composite sorting by using multiple fields\n",
    "* By default data will be sorted in ascending order\n",
    "* We can change the order by using desc\n",
    "* Let us see few examples\n",
    " * Sort orders by status\n",
    " * Sort orders by date and then by status\n",
    " * Sort order items by order_item_order_id and order_item_subtotal descending\n",
    " * Take daily product revenue data and sort in ascending order by date and then descending order by revenue."
   ]
  },
  {
   "cell_type": "code",
   "execution_count": null,
   "metadata": {},
   "outputs": [],
   "source": [
    "# Sort orders by status\n",
    "spark.sql('''select * from orders \n",
    "             order by order_status''').show()"
   ]
  },
  {
   "cell_type": "code",
   "execution_count": null,
   "metadata": {},
   "outputs": [],
   "source": [
    "#Sort orders by date and then by status\n",
    "spark.sql('''select * from orders \n",
    "             order by order_date, order_status''').show()"
   ]
  },
  {
   "cell_type": "code",
   "execution_count": null,
   "metadata": {},
   "outputs": [],
   "source": [
    "# Sort order items by order_item_order_id and order_item_subtotal descending\n",
    "spark.sql('''select * from order_items \n",
    "             order by order_item_order_id, order_item_subtotal desc''').show()"
   ]
  },
  {
   "cell_type": "code",
   "execution_count": null,
   "metadata": {},
   "outputs": [],
   "source": [
    "# Take daily product revenue data and \n",
    "# sort in ascending order by date and \n",
    "# then descending order by revenue.\n",
    "\n",
    "spark.conf.set('spark.sql.shuffle.partitions', '2')\n",
    "\n",
    "dailyProductRevenue = spark.sql('''select o.order_date, oi.order_item_product_id, \n",
    "             round(sum(oi.order_item_subtotal), 2) as revenue\n",
    "             from orders o join order_items oi\n",
    "             on o.order_id = oi.order_item_order_id\n",
    "             where o.order_status in (\"COMPLETE\", \"CLOSED\")\n",
    "             group by o.order_date, oi.order_item_product_id\n",
    "             order by o.order_date, revenue desc''')\n"
   ]
  }
 ],
 "metadata": {
  "kernelspec": {
   "display_name": "Pyspark 2",
   "language": "python",
   "name": "pyspark2"
  },
  "language_info": {
   "codemirror_mode": {
    "name": "ipython",
    "version": 3
   },
   "file_extension": ".py",
   "mimetype": "text/x-python",
   "name": "python",
   "nbconvert_exporter": "python",
   "pygments_lexer": "ipython3",
   "version": "3.6.8"
  }
 },
 "nbformat": 4,
 "nbformat_minor": 4
}
