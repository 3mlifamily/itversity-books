{
 "cells": [
  {
   "cell_type": "markdown",
   "metadata": {},
   "source": [
    "# Collections and Tuples\n",
    "\n",
    "As part of this module we will get an overview of collections and tuples that are part of the standard library of Python."
   ]
  },
  {
   "cell_type": "markdown",
   "metadata": {},
   "source": [
    "## Overview of Collections and Tuples\n",
    "Let us understand details about Collections and Tuples.\n",
    "* A Collection is nothing but a group of homogeneous elements while Tuple is a group of heterogeneous elements.\n",
    "* Collection is like a spreadsheet or a table while Tuple is like one row in them. We typically create a collection of objects or tuples.\n",
    "* Standard library of Python covers 3 types of collections.\n",
    "  * list\n",
    "  * set\n",
    "  * dict\n",
    "* Depending upon the characteristics of each collection type, we have different functions. We will see those details later.\n",
    "* There are some functions which are applicable to all.\n",
    "  * Getting a number of elements in a collection or a tuple - len\n",
    "  * Getting the sum of all elements in a collection or a tuple of integers - sum\n"
   ]
  },
  {
   "cell_type": "markdown",
   "metadata": {},
   "source": [
    "## Tuples\n",
    "Now let us understand definition and characteristics of a tuple.\n",
    "* Tuple is like object with unnamed attributes\n",
    "* Values of attributes can be accessed only using positional notation\n",
    "* It represents individual row in a table or spreadsheet with multiple attributes\n",
    "* We use () to represent tuples\n",
    "* Tuples are immutable\n",
    "* Very limited operations are available - e.g.: count, index\n",
    "\n",
    "### Tasks\n",
    "Let us perform few tasks related to tuples.\n",
    "\n",
    "* Create 3 tuples with order_id, order_date, order_customer_id, order_status.\n",
    "\n",
    "| order_id | order_date | order_customer_id | order_status |\n",
    "| --- | --- | --- | --- |\n",
    "| 1 | 2013-07-25 00:00:00.0 | 11599 | CLOSED |\n",
    "| 2 | 2013-07-25 00:00:00.0 | 256 | PENDING_PAYMENT |\n",
    "| 3 | 2013-07-25 00:00:00.0 | 12111 | COMPLETE |\n"
   ]
  },
  {
   "cell_type": "code",
   "execution_count": 21,
   "metadata": {},
   "outputs": [],
   "source": [
    "employee1 = (1, \"Scott\", \"Tiger\", 1000.0, \"united states\")\n",
    "employee2 = (2, \"Henry\", \"Ford\", 1250.0, \"India\")\n",
    "employee3 = (3, 'Nick', 'Junior', 750.0, 'united KINGDOM')"
   ]
  },
  {
   "cell_type": "code",
   "execution_count": 22,
   "metadata": {},
   "outputs": [
    {
     "data": {
      "text/plain": [
       "tuple"
      ]
     },
     "execution_count": 22,
     "metadata": {},
     "output_type": "execute_result"
    }
   ],
   "source": [
    "type(employee1)"
   ]
  },
  {
   "cell_type": "code",
   "execution_count": 23,
   "metadata": {},
   "outputs": [
    {
     "name": "stdout",
     "output_type": "stream",
     "text": [
      "Help on tuple object:\n",
      "\n",
      "class tuple(object)\n",
      " |  tuple() -> empty tuple\n",
      " |  tuple(iterable) -> tuple initialized from iterable's items\n",
      " |  \n",
      " |  If the argument is a tuple, the return value is the same object.\n",
      " |  \n",
      " |  Methods defined here:\n",
      " |  \n",
      " |  __add__(self, value, /)\n",
      " |      Return self+value.\n",
      " |  \n",
      " |  __contains__(self, key, /)\n",
      " |      Return key in self.\n",
      " |  \n",
      " |  __eq__(self, value, /)\n",
      " |      Return self==value.\n",
      " |  \n",
      " |  __ge__(self, value, /)\n",
      " |      Return self>=value.\n",
      " |  \n",
      " |  __getattribute__(self, name, /)\n",
      " |      Return getattr(self, name).\n",
      " |  \n",
      " |  __getitem__(self, key, /)\n",
      " |      Return self[key].\n",
      " |  \n",
      " |  __getnewargs__(...)\n",
      " |  \n",
      " |  __gt__(self, value, /)\n",
      " |      Return self>value.\n",
      " |  \n",
      " |  __hash__(self, /)\n",
      " |      Return hash(self).\n",
      " |  \n",
      " |  __iter__(self, /)\n",
      " |      Implement iter(self).\n",
      " |  \n",
      " |  __le__(self, value, /)\n",
      " |      Return self<=value.\n",
      " |  \n",
      " |  __len__(self, /)\n",
      " |      Return len(self).\n",
      " |  \n",
      " |  __lt__(self, value, /)\n",
      " |      Return self<value.\n",
      " |  \n",
      " |  __mul__(self, value, /)\n",
      " |      Return self*value.\n",
      " |  \n",
      " |  __ne__(self, value, /)\n",
      " |      Return self!=value.\n",
      " |  \n",
      " |  __new__(*args, **kwargs) from builtins.type\n",
      " |      Create and return a new object.  See help(type) for accurate signature.\n",
      " |  \n",
      " |  __repr__(self, /)\n",
      " |      Return repr(self).\n",
      " |  \n",
      " |  __rmul__(self, value, /)\n",
      " |      Return value*self.\n",
      " |  \n",
      " |  count(...)\n",
      " |      T.count(value) -> integer -- return number of occurrences of value\n",
      " |  \n",
      " |  index(...)\n",
      " |      T.index(value, [start, [stop]]) -> integer -- return first index of value.\n",
      " |      Raises ValueError if the value is not present.\n",
      "\n"
     ]
    }
   ],
   "source": [
    "help(employee1)"
   ]
  },
  {
   "cell_type": "markdown",
   "metadata": {},
   "source": [
    "## Collections - list\n",
    "Let us understand **list** in detail.\n",
    "* Group of elements with index and length\n",
    "* Elements can be added/inserted at a particular position\n",
    "* We can access elements in list by using index in []\n",
    "* There can be duplicates in a list\n",
    "* APIs are available to add elements to the list, delete elements from the list and sort the list\n",
    "\n",
    "### Tasks\n",
    "Let us perform few tasks to understand more about list operations.\n",
    "\n",
    "* Create list of employees. Make sure each item in the list is a tuple.\n",
    "* Adding elements into list (append, insert)\n",
    "* Deleting elements from list (pop, clear)\n",
    "* Checking how many times an element is repeated in list (count)\n",
    "* Get the position of element (index)\n",
    "* Accessing elements in list using index and range of index (from the beginning).\n",
    "* Accessing elements in list using index and range of index (from the end).\n",
    "* Sorting elements in the list (sort for in place sort and sorted for sorting and creating new collection)\n"
   ]
  },
  {
   "cell_type": "code",
   "execution_count": 24,
   "metadata": {},
   "outputs": [],
   "source": [
    "# Creating list\n",
    "# We are creating list of tuples\n",
    "\n",
    "employees = [(1, \"Scott\", \"Tiger\", 1000.0, \"united states\"),\n",
    "             (2, \"Henry\", \"Ford\", 1250.0, \"India\"),\n",
    "             (3, \"Nick\", \"Junior\", 750.0, \"united KINGDOM\"),\n",
    "             (4, \"Bill\", \"Gomes\", 1500.0, \"AUSTRALIA\")\n",
    "            ]"
   ]
  },
  {
   "cell_type": "code",
   "execution_count": 25,
   "metadata": {},
   "outputs": [
    {
     "name": "stdout",
     "output_type": "stream",
     "text": [
      "Help on built-in function append:\n",
      "\n",
      "append(...) method of builtins.list instance\n",
      "    L.append(object) -> None -- append object to end\n",
      "\n"
     ]
    }
   ],
   "source": [
    "help(employees.append)"
   ]
  },
  {
   "cell_type": "code",
   "execution_count": 26,
   "metadata": {},
   "outputs": [
    {
     "data": {
      "text/plain": [
       "[(1, 'Scott', 'Tiger', 1000.0, 'united states'),\n",
       " (2, 'Henry', 'Ford', 1250.0, 'India'),\n",
       " (3, 'Nick', 'Junior', 750.0, 'united KINGDOM'),\n",
       " (4, 'Bill', 'Gomes', 1500.0, 'AUSTRALIA'),\n",
       " (5, 'Donald', 'Duck', 1800.0, 'USA')]"
      ]
     },
     "execution_count": 26,
     "metadata": {},
     "output_type": "execute_result"
    }
   ],
   "source": [
    "# Appending element to the list\n",
    "\n",
    "employees.append((5, \"Donald\", \"Duck\", 1800.0, \"USA\"))\n",
    "\n",
    "employees"
   ]
  },
  {
   "cell_type": "code",
   "execution_count": 3,
   "metadata": {},
   "outputs": [
    {
     "name": "stdout",
     "output_type": "stream",
     "text": [
      "Help on built-in function insert:\n",
      "\n",
      "insert(...) method of builtins.list instance\n",
      "    L.insert(index, object) -- insert object before index\n",
      "\n"
     ]
    }
   ],
   "source": [
    "# Getting help about insert\n",
    "\n",
    "help(employees.insert)"
   ]
  },
  {
   "cell_type": "code",
   "execution_count": 27,
   "metadata": {},
   "outputs": [
    {
     "data": {
      "text/plain": [
       "[(1, 'Scott', 'Tiger', 1000.0, 'united states'),\n",
       " (2, 'Henry', 'Ford', 1250.0, 'India'),\n",
       " (3, 'Nick', 'Junior', 750.0, 'united KINGDOM'),\n",
       " (6, 'Mickey', 'Mouse', 2000.0, 'Disney Land'),\n",
       " (4, 'Bill', 'Gomes', 1500.0, 'AUSTRALIA'),\n",
       " (5, 'Donald', 'Duck', 1800.0, 'USA')]"
      ]
     },
     "execution_count": 27,
     "metadata": {},
     "output_type": "execute_result"
    }
   ],
   "source": [
    "# Inserting element into the list\n",
    "\n",
    "employees.insert(3, (6, \"Mickey\", \"Mouse\", 2000.0, \"Disney Land\"))\n",
    "\n",
    "employees"
   ]
  },
  {
   "cell_type": "code",
   "execution_count": 28,
   "metadata": {},
   "outputs": [
    {
     "data": {
      "text/plain": [
       "1"
      ]
     },
     "execution_count": 28,
     "metadata": {},
     "output_type": "execute_result"
    }
   ],
   "source": [
    "# Getting position of the element in the list\n",
    "\n",
    "employees.index((2, 'Henry', 'Ford', 1250.0, 'India'))"
   ]
  },
  {
   "cell_type": "code",
   "execution_count": 29,
   "metadata": {},
   "outputs": [
    {
     "data": {
      "text/plain": [
       "(1, 'Scott', 'Tiger', 1000.0, 'united states')"
      ]
     },
     "execution_count": 29,
     "metadata": {},
     "output_type": "execute_result"
    }
   ],
   "source": [
    "# Accessing elements in the list\n",
    "\n",
    "employees[0]"
   ]
  },
  {
   "cell_type": "code",
   "execution_count": 30,
   "metadata": {},
   "outputs": [
    {
     "data": {
      "text/plain": [
       "(5, 'Donald', 'Duck', 1800.0, 'USA')"
      ]
     },
     "execution_count": 30,
     "metadata": {},
     "output_type": "execute_result"
    }
   ],
   "source": [
    "employees[5]"
   ]
  },
  {
   "cell_type": "code",
   "execution_count": 31,
   "metadata": {},
   "outputs": [
    {
     "data": {
      "text/plain": [
       "[(2, 'Henry', 'Ford', 1250.0, 'India')]"
      ]
     },
     "execution_count": 31,
     "metadata": {},
     "output_type": "execute_result"
    }
   ],
   "source": [
    "employees[1:2]"
   ]
  },
  {
   "cell_type": "code",
   "execution_count": 32,
   "metadata": {},
   "outputs": [
    {
     "data": {
      "text/plain": [
       "[(1, 'Scott', 'Tiger', 1000.0, 'united states'),\n",
       " (2, 'Henry', 'Ford', 1250.0, 'India'),\n",
       " (3, 'Nick', 'Junior', 750.0, 'united KINGDOM')]"
      ]
     },
     "execution_count": 32,
     "metadata": {},
     "output_type": "execute_result"
    }
   ],
   "source": [
    "employees[:3]"
   ]
  },
  {
   "cell_type": "code",
   "execution_count": 34,
   "metadata": {},
   "outputs": [
    {
     "data": {
      "text/plain": [
       "[(6, 'Mickey', 'Mouse', 2000.0, 'Disney Land'),\n",
       " (4, 'Bill', 'Gomes', 1500.0, 'AUSTRALIA')]"
      ]
     },
     "execution_count": 34,
     "metadata": {},
     "output_type": "execute_result"
    }
   ],
   "source": [
    "employees[-3:]"
   ]
  },
  {
   "cell_type": "code",
   "execution_count": 35,
   "metadata": {},
   "outputs": [
    {
     "data": {
      "text/plain": [
       "[(1, 'Scott', 'Tiger', 1000.0, 'united states'),\n",
       " (2, 'Henry', 'Ford', 1250.0, 'India'),\n",
       " (3, 'Nick', 'Junior', 750.0, 'united KINGDOM'),\n",
       " (4, 'Bill', 'Gomes', 1500.0, 'AUSTRALIA'),\n",
       " (5, 'Donald', 'Duck', 1800.0, 'USA'),\n",
       " (6, 'Mickey', 'Mouse', 2000.0, 'Disney Land')]"
      ]
     },
     "execution_count": 35,
     "metadata": {},
     "output_type": "execute_result"
    }
   ],
   "source": [
    "# In place sorting - data in employees will be sorted\n",
    "employees.sort()\n",
    "employees"
   ]
  },
  {
   "cell_type": "code",
   "execution_count": 36,
   "metadata": {},
   "outputs": [
    {
     "data": {
      "text/plain": [
       "[(1, 'Scott', 'Tiger', 1000.0, 'united states'),\n",
       " (2, 'Henry', 'Ford', 1250.0, 'India'),\n",
       " (3, 'Nick', 'Junior', 750.0, 'united KINGDOM'),\n",
       " (4, 'Bill', 'Gomes', 1500.0, 'AUSTRALIA'),\n",
       " (5, 'Donald', 'Duck', 1800.0, 'USA'),\n",
       " (6, 'Mickey', 'Mouse', 2000.0, 'Disney Land')]"
      ]
     },
     "execution_count": 36,
     "metadata": {},
     "output_type": "execute_result"
    }
   ],
   "source": [
    "# Sorting and creating new list\n",
    "\n",
    "employees = [(1, \"Scott\", \"Tiger\", 1000.0, \"united states\"),\n",
    "             (2, \"Henry\", \"Ford\", 1250.0, \"India\"),\n",
    "             (3, \"Nick\", \"Junior\", 750.0, \"united KINGDOM\"),\n",
    "             (4, \"Bill\", \"Gomes\", 1500.0, \"AUSTRALIA\")\n",
    "            ]\n",
    "\n",
    "employees.append((5, \"Donald\", \"Duck\", 1800.0, \"USA\"))\n",
    "\n",
    "employees.insert(3, (6, \"Mickey\", \"Mouse\", 2000.0, \"Disney Land\"))\n",
    "\n",
    "# We will typically assign output of sorted to a new variable or object\n",
    "# or return it\n",
    "sorted(employees)"
   ]
  },
  {
   "cell_type": "code",
   "execution_count": 19,
   "metadata": {},
   "outputs": [
    {
     "data": {
      "text/plain": [
       "[(1, 'Scott', 'Tiger', 1000.0, 'united states'),\n",
       " (2, 'Henry', 'Ford', 1250.0, 'India'),\n",
       " (3, 'Nick', 'Junior', 750.0, 'united KINGDOM'),\n",
       " (6, 'Mickey', 'Mouse', 2000.0, 'Disney Land'),\n",
       " (4, 'Bill', 'Gomes', 1500.0, 'AUSTRALIA'),\n",
       " (5, 'Donald', 'Duck', 1800.0, 'USA')]"
      ]
     },
     "execution_count": 19,
     "metadata": {},
     "output_type": "execute_result"
    }
   ],
   "source": [
    "employees"
   ]
  },
  {
   "cell_type": "markdown",
   "metadata": {},
   "source": [
    "## Collections - set\n",
    "\n",
    "Let us understand **set** in detail.\n",
    "* Group of unique elements with no index or length\n",
    "* Elements can be added/inserted but not at a particular position\n",
    "* We can check whether the element exists using in operator\n",
    "* There can be no duplicates in a set\n",
    "* APIs are available to add elements to the set, delete elements from the set and perform set operations such as union, intersection etc\n",
    "* We need to convert set to list to sort the data or use sorted function. There is no API available in set to sort it.\n",
    "\n",
    "### Exercises\n",
    "\n",
    "We will see some basic set operations by using simple examples\n",
    "* Create a set of 3 employees with ids 1, 2 and 3 using elements from **employees** list.\n",
    "* Adding elements into set (add) - Add employees with ids 4, 5.\n",
    "* Deleting elements from set (pop/remove, clear)\n",
    "* Checking whether element is present in a set **[]** - check whether employee with ids 2 and 7 exists in the set.\n",
    "* Set operations (union, intersection, difference etc) - Create a new set with **employee ids** 4, 5 and 6, then perform all 3 set operations on the set created in first step and this step.\n"
   ]
  },
  {
   "cell_type": "markdown",
   "metadata": {},
   "source": [
    "## Collections - dict\n",
    "Let us understand **dict** in detail.\n",
    "* Group of key value pairs\n",
    "* Keys are unique\n",
    "* Values need not be unique\n",
    "* We can access values using keys\n",
    "* APIs are available to add new key value pairs to a dict, update values based on keys in dict, extract keys as set from dict, extract values as list from dict, to check whether key exists in the dict etc\n",
    "\n",
    "### Tasks\n",
    "We will see some basic dict operations by using simple examples\n",
    "* Adding elements to dict\n",
    "* Removing elements from dict (clear, pop, popitem)\n",
    "* Get all keys (keys)\n",
    "* Get all key value pairs (items)\n",
    "* Get only values (values)\n"
   ]
  },
  {
   "cell_type": "code",
   "execution_count": 46,
   "metadata": {},
   "outputs": [],
   "source": [
    "db = {\n",
    "    \"host\": \"gw01.itversity.com\",\n",
    "    \"db_name\": \"retail_db\",\n",
    "    \"username\": \"retail_fake\",\n",
    "    \"username\": \"retail_user\",\n",
    "    \"password\": \"itversity\"\n",
    "}"
   ]
  },
  {
   "cell_type": "code",
   "execution_count": 47,
   "metadata": {},
   "outputs": [
    {
     "data": {
      "text/plain": [
       "dict"
      ]
     },
     "execution_count": 47,
     "metadata": {},
     "output_type": "execute_result"
    }
   ],
   "source": [
    "type(db)"
   ]
  },
  {
   "cell_type": "code",
   "execution_count": 48,
   "metadata": {},
   "outputs": [
    {
     "data": {
      "text/plain": [
       "{'host': 'gw01.itversity.com',\n",
       " 'db_name': 'retail_db',\n",
       " 'username': 'retail_user',\n",
       " 'password': 'itversity'}"
      ]
     },
     "execution_count": 48,
     "metadata": {},
     "output_type": "execute_result"
    }
   ],
   "source": [
    "db"
   ]
  },
  {
   "cell_type": "code",
   "execution_count": 52,
   "metadata": {},
   "outputs": [],
   "source": [
    "db[\"port\"] = \"3306\""
   ]
  },
  {
   "cell_type": "code",
   "execution_count": 53,
   "metadata": {},
   "outputs": [
    {
     "data": {
      "text/plain": [
       "{'host': 'gw01.itversity.com',\n",
       " 'db_name': 'retail_db',\n",
       " 'username': 'retail_user',\n",
       " 'password': 'itversity',\n",
       " 'port': '3306'}"
      ]
     },
     "execution_count": 53,
     "metadata": {},
     "output_type": "execute_result"
    }
   ],
   "source": [
    "db"
   ]
  },
  {
   "cell_type": "code",
   "execution_count": 57,
   "metadata": {},
   "outputs": [
    {
     "data": {
      "text/plain": [
       "dict_keys(['host', 'db_name', 'username', 'password', 'port'])"
      ]
     },
     "execution_count": 57,
     "metadata": {},
     "output_type": "execute_result"
    }
   ],
   "source": [
    "db.keys()"
   ]
  },
  {
   "cell_type": "code",
   "execution_count": 58,
   "metadata": {},
   "outputs": [
    {
     "data": {
      "text/plain": [
       "dict_values(['gw01.itversity.com', 'retail_db', 'retail_user', 'itversity', '3306'])"
      ]
     },
     "execution_count": 58,
     "metadata": {},
     "output_type": "execute_result"
    }
   ],
   "source": [
    "db.values()"
   ]
  },
  {
   "cell_type": "code",
   "execution_count": 56,
   "metadata": {},
   "outputs": [
    {
     "data": {
      "text/plain": [
       "dict_items([('host', 'gw01.itversity.com'), ('db_name', 'retail_db'), ('username', 'retail_user'), ('password', 'itversity'), ('port', '3306')])"
      ]
     },
     "execution_count": 56,
     "metadata": {},
     "output_type": "execute_result"
    }
   ],
   "source": [
    "db.items()"
   ]
  },
  {
   "cell_type": "code",
   "execution_count": 60,
   "metadata": {},
   "outputs": [
    {
     "data": {
      "text/plain": [
       "'gw01.itversity.com'"
      ]
     },
     "execution_count": 60,
     "metadata": {},
     "output_type": "execute_result"
    }
   ],
   "source": [
    "db['host']"
   ]
  },
  {
   "cell_type": "code",
   "execution_count": 64,
   "metadata": {},
   "outputs": [
    {
     "data": {
      "text/plain": [
       "True"
      ]
     },
     "execution_count": 64,
     "metadata": {},
     "output_type": "execute_result"
    }
   ],
   "source": [
    "'host' in db"
   ]
  },
  {
   "cell_type": "code",
   "execution_count": null,
   "metadata": {},
   "outputs": [],
   "source": []
  }
 ],
 "metadata": {
  "kernelspec": {
   "display_name": "Python 3",
   "language": "python",
   "name": "python3"
  },
  "language_info": {
   "codemirror_mode": {
    "name": "ipython",
    "version": 3
   },
   "file_extension": ".py",
   "mimetype": "text/x-python",
   "name": "python",
   "nbconvert_exporter": "python",
   "pygments_lexer": "ipython3",
   "version": "3.6.8"
  }
 },
 "nbformat": 4,
 "nbformat_minor": 4
}
