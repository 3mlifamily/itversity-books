{
 "cells": [
  {
   "cell_type": "markdown",
   "metadata": {},
   "source": [
    "# Collections and Tuples\n",
    "\n",
    "As part of this module we will get an overview of collections and tuples that are part of the standard library of Python."
   ]
  },
  {
   "cell_type": "markdown",
   "metadata": {},
   "source": [
    "## Overview of Collections and Tuples\n",
    "Let us understand details about Collections and Tuples.\n",
    "* A Collection is nothing but a group of homogeneous elements while Tuple is a group of heterogeneous elements.\n",
    "* Collection is like a spreadsheet or a table while Tuple is like one row in them. We typically create a collection of objects or tuples.\n",
    "* Standard library of Python covers 3 types of collections.\n",
    "  * list\n",
    "  * set\n",
    "  * dict\n",
    "* Depending upon the characteristics of each collection type, we have different functions. We will see those details later.\n",
    "* There are some functions which are applicable to all.\n",
    "  * Getting a number of elements in a collection or a tuple - len\n",
    "  * Getting the sum of all elements in a collection or a tuple of integers - sum\n"
   ]
  },
  {
   "cell_type": "markdown",
   "metadata": {},
   "source": [
    "## Tuples\n",
    "Now let us understand definition and characteristics of a tuple.\n",
    "* Tuple is like object with unnamed attributes\n",
    "* Values of attributes can be accessed only using positional notation\n",
    "* It represents individual row in a table or spreadsheet with multiple attributes\n",
    "* We use () to represent tuples\n",
    "* Tuples are immutable\n",
    "* Very limited operations are available - e.g.: count, index\n",
    "\n",
    "### Tasks\n",
    "Let us perform few tasks related to tuples.\n",
    "\n",
    "* Create 3 tuples with order_id, order_date, order_customer_id, order_status.\n",
    "\n",
    "| order_id | order_date | order_customer_id | order_status |\n",
    "| --- | --- | --- | --- |\n",
    "| 1 | 2013-07-25 00:00:00.0 | 11599 | CLOSED |\n",
    "| 2 | 2013-07-25 00:00:00.0 | 256 | PENDING_PAYMENT |\n",
    "| 3 | 2013-07-25 00:00:00.0 | 12111 | COMPLETE |\n"
   ]
  },
  {
   "cell_type": "code",
   "execution_count": null,
   "metadata": {},
   "outputs": [],
   "source": [
    "employee1 = (1, \"Scott\", \"Tiger\", 1000.0, \"united states\")\n",
    "employee2 = (2, \"Henry\", \"Ford\", 1250.0, \"India\")\n",
    "employee3 = (3, 'Nick', 'Junior', 750.0, 'united KINGDOM')"
   ]
  },
  {
   "cell_type": "code",
   "execution_count": null,
   "metadata": {},
   "outputs": [],
   "source": [
    "type(employee1)"
   ]
  },
  {
   "cell_type": "code",
   "execution_count": null,
   "metadata": {},
   "outputs": [],
   "source": [
    "help(employee1)"
   ]
  },
  {
   "cell_type": "markdown",
   "metadata": {},
   "source": [
    "## Collections - list\n",
    "Let us understand **list** in detail.\n",
    "* Group of elements with index and length\n",
    "* Elements can be added/inserted at a particular position\n",
    "* We can access elements in list by using index in []\n",
    "* There can be duplicates in a list\n",
    "* APIs are available to add elements to the list, delete elements from the list and sort the list\n",
    "\n",
    "### Tasks\n",
    "Let us perform few tasks to understand more about list operations.\n",
    "\n",
    "* Create list of employees. Make sure each item in the list is a tuple.\n",
    "* Adding elements into list (append, insert)\n",
    "* Deleting elements from list (pop, clear)\n",
    "* Checking how many times an element is repeated in list (count)\n",
    "* Get the position of element (index)\n",
    "* Accessing elements in list using index and range of index (from the beginning).\n",
    "* Accessing elements in list using index and range of index (from the end).\n",
    "* Sorting elements in the list (sort for in place sort and sorted for sorting and creating new collection)\n"
   ]
  },
  {
   "cell_type": "code",
   "execution_count": null,
   "metadata": {},
   "outputs": [],
   "source": [
    "# Creating list\n",
    "# We are creating list of tuples\n",
    "\n",
    "employees = [(1, \"Scott\", \"Tiger\", 1000.0, \"united states\"),\n",
    "             (2, \"Henry\", \"Ford\", 1250.0, \"India\"),\n",
    "             (3, \"Nick\", \"Junior\", 750.0, \"united KINGDOM\"),\n",
    "             (4, \"Bill\", \"Gomes\", 1500.0, \"AUSTRALIA\")\n",
    "            ]"
   ]
  },
  {
   "cell_type": "code",
   "execution_count": null,
   "metadata": {},
   "outputs": [],
   "source": [
    "help(employees.append)"
   ]
  },
  {
   "cell_type": "code",
   "execution_count": null,
   "metadata": {},
   "outputs": [],
   "source": [
    "# Appending element to the list\n",
    "\n",
    "employees.append((5, \"Donald\", \"Duck\", 1800.0, \"USA\"))\n",
    "\n",
    "employees"
   ]
  },
  {
   "cell_type": "code",
   "execution_count": null,
   "metadata": {},
   "outputs": [],
   "source": [
    "# Getting help about insert\n",
    "\n",
    "help(employees.insert)"
   ]
  },
  {
   "cell_type": "code",
   "execution_count": null,
   "metadata": {},
   "outputs": [],
   "source": [
    "# Inserting element into the list\n",
    "\n",
    "employees.insert(3, (6, \"Mickey\", \"Mouse\", 2000.0, \"Disney Land\"))\n",
    "\n",
    "employees"
   ]
  },
  {
   "cell_type": "code",
   "execution_count": null,
   "metadata": {},
   "outputs": [],
   "source": [
    "# Getting position of the element in the list\n",
    "\n",
    "employees.index((2, 'Henry', 'Ford', 1250.0, 'India'))"
   ]
  },
  {
   "cell_type": "code",
   "execution_count": null,
   "metadata": {},
   "outputs": [],
   "source": [
    "# Accessing elements in the list\n",
    "\n",
    "employees[0]"
   ]
  },
  {
   "cell_type": "code",
   "execution_count": null,
   "metadata": {},
   "outputs": [],
   "source": [
    "employees[5]"
   ]
  },
  {
   "cell_type": "code",
   "execution_count": null,
   "metadata": {},
   "outputs": [],
   "source": [
    "employees[1:2]"
   ]
  },
  {
   "cell_type": "code",
   "execution_count": null,
   "metadata": {},
   "outputs": [],
   "source": [
    "employees[:3]"
   ]
  },
  {
   "cell_type": "code",
   "execution_count": null,
   "metadata": {},
   "outputs": [],
   "source": [
    "employees[-3:]"
   ]
  },
  {
   "cell_type": "code",
   "execution_count": null,
   "metadata": {},
   "outputs": [],
   "source": [
    "# In place sorting - data in employees will be sorted\n",
    "employees.sort()\n",
    "employees"
   ]
  },
  {
   "cell_type": "code",
   "execution_count": null,
   "metadata": {},
   "outputs": [],
   "source": [
    "# Sorting and creating new list\n",
    "\n",
    "employees = [(1, \"Scott\", \"Tiger\", 1000.0, \"united states\"),\n",
    "             (2, \"Henry\", \"Ford\", 1250.0, \"India\"),\n",
    "             (3, \"Nick\", \"Junior\", 750.0, \"united KINGDOM\"),\n",
    "             (4, \"Bill\", \"Gomes\", 1500.0, \"AUSTRALIA\")\n",
    "            ]\n",
    "\n",
    "employees.append((5, \"Donald\", \"Duck\", 1800.0, \"USA\"))\n",
    "\n",
    "employees.insert(3, (6, \"Mickey\", \"Mouse\", 2000.0, \"Disney Land\"))\n",
    "\n",
    "# We will typically assign output of sorted to a new variable or object\n",
    "# or return it\n",
    "sorted(employees)"
   ]
  },
  {
   "cell_type": "code",
   "execution_count": null,
   "metadata": {},
   "outputs": [],
   "source": [
    "employees"
   ]
  },
  {
   "cell_type": "markdown",
   "metadata": {},
   "source": [
    "## Collections - set\n",
    "\n",
    "Let us understand **set** in detail.\n",
    "* Group of unique elements with no index or length\n",
    "* Elements can be added/inserted but not at a particular position\n",
    "* We can check whether the element exists using in operator\n",
    "* There can be no duplicates in a set\n",
    "* APIs are available to add elements to the set, delete elements from the set and perform set operations such as union, intersection etc\n",
    "* We need to convert set to list to sort the data or use sorted function. There is no API available in set to sort it.\n",
    "\n",
    "### Exercises\n",
    "\n",
    "We will see some basic set operations by using simple examples\n",
    "* Create a set of 3 employees with ids 1, 2 and 3 using elements from **employees** list.\n",
    "* Adding elements into set (add) - Add employees with ids 4, 5.\n",
    "* Deleting elements from set (pop/remove, clear)\n",
    "* Checking whether element is present in a set **[]** - check whether employee with ids 2 and 7 exists in the set.\n",
    "* Set operations (union, intersection, difference etc) - Create a new set with **employee ids** 4, 5 and 6, then perform all 3 set operations on the set created in first step and this step.\n"
   ]
  },
  {
   "cell_type": "markdown",
   "metadata": {},
   "source": [
    "## Collections - dict\n",
    "Let us understand **dict** in detail.\n",
    "* Group of key value pairs\n",
    "* Keys are unique\n",
    "* Values need not be unique\n",
    "* We can access values using keys\n",
    "* APIs are available to add new key value pairs to a dict, update values based on keys in dict, extract keys as set from dict, extract values as list from dict, to check whether key exists in the dict etc\n",
    "\n",
    "### Tasks\n",
    "We will see some basic dict operations by using simple examples\n",
    "* Adding elements to dict\n",
    "* Removing elements from dict (clear, pop, popitem)\n",
    "* Get all keys (keys)\n",
    "* Get all key value pairs (items)\n",
    "* Get only values (values)\n"
   ]
  },
  {
   "cell_type": "code",
   "execution_count": null,
   "metadata": {},
   "outputs": [],
   "source": [
    "db = {\n",
    "    \"host\": \"gw01.itversity.com\",\n",
    "    \"db_name\": \"retail_db\",\n",
    "    \"username\": \"retail_fake\",\n",
    "    \"username\": \"retail_user\",\n",
    "    \"password\": \"itversity\"\n",
    "}"
   ]
  },
  {
   "cell_type": "code",
   "execution_count": null,
   "metadata": {},
   "outputs": [],
   "source": [
    "type(db)"
   ]
  },
  {
   "cell_type": "code",
   "execution_count": null,
   "metadata": {},
   "outputs": [],
   "source": [
    "db"
   ]
  },
  {
   "cell_type": "code",
   "execution_count": null,
   "metadata": {},
   "outputs": [],
   "source": [
    "db[\"port\"] = \"3306\""
   ]
  },
  {
   "cell_type": "code",
   "execution_count": null,
   "metadata": {},
   "outputs": [],
   "source": [
    "db"
   ]
  },
  {
   "cell_type": "code",
   "execution_count": null,
   "metadata": {},
   "outputs": [],
   "source": [
    "db.keys()"
   ]
  },
  {
   "cell_type": "code",
   "execution_count": null,
   "metadata": {},
   "outputs": [],
   "source": [
    "db.values()"
   ]
  },
  {
   "cell_type": "code",
   "execution_count": null,
   "metadata": {},
   "outputs": [],
   "source": [
    "db.items()"
   ]
  },
  {
   "cell_type": "code",
   "execution_count": null,
   "metadata": {},
   "outputs": [],
   "source": [
    "db['host']"
   ]
  },
  {
   "cell_type": "code",
   "execution_count": null,
   "metadata": {},
   "outputs": [],
   "source": [
    "'host' in db"
   ]
  },
  {
   "cell_type": "code",
   "execution_count": null,
   "metadata": {},
   "outputs": [],
   "source": []
  }
 ],
 "metadata": {
  "kernelspec": {
   "display_name": "Python 3",
   "language": "python",
   "name": "python3"
  },
  "language_info": {
   "codemirror_mode": {
    "name": "ipython",
    "version": 3
   },
   "file_extension": ".py",
   "mimetype": "text/x-python",
   "name": "python",
   "nbconvert_exporter": "python",
   "pygments_lexer": "ipython3",
   "version": "3.7.4"
  }
 },
 "nbformat": 4,
 "nbformat_minor": 4
}
