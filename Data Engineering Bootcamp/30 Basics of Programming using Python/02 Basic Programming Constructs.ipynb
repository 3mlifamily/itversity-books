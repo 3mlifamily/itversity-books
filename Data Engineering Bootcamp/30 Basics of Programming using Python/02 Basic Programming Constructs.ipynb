{
 "cells": [
  {
   "cell_type": "markdown",
   "metadata": {},
   "source": [
    "# Basic Programming Constructs\n",
    "\n",
    "As part of this module we will see basic programming constructs in Python.\n",
    "\n",
    "* Variables and Objects\n",
    "* Getting Help\n",
    "* Formatting Strings\n",
    "* Conditionals\n",
    "* All about for loops\n",
    "* Exception Handling - Overview\n",
    "* Running OS Commands"
   ]
  },
  {
   "cell_type": "code",
   "execution_count": null,
   "metadata": {},
   "outputs": [],
   "source": []
  }
 ],
 "metadata": {
  "kernelspec": {
   "display_name": "Python 3",
   "language": "python",
   "name": "python3"
  },
  "language_info": {
   "codemirror_mode": {
    "name": "ipython",
    "version": 3
   },
   "file_extension": ".py",
   "mimetype": "text/x-python",
   "name": "python",
   "nbconvert_exporter": "python",
   "pygments_lexer": "ipython3",
   "version": "3.7.4"
  }
 },
 "nbformat": 4,
 "nbformat_minor": 4
}
