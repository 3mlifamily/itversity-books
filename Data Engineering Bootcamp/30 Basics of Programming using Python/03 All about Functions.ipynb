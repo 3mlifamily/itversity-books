{
 "cells": [
  {
   "cell_type": "markdown",
   "metadata": {
    "slideshow": {
     "slide_type": "slide"
    }
   },
   "source": [
    "# All about Functions\n",
    "Let us talk about the functions in detail. We will primarily focus on functions that come as part of Python Standard Library and then how to develop our own functions.\n",
    "\n",
    "* Pre-defined Functions\n",
    "* Special Functions\n",
    "* String Manipulation Functions\n",
    "* Defining Functions and Returning Values\n",
    "* Function Parameters and Arguments\n",
    "* Lambda Functions"
   ]
  },
  {
   "cell_type": "markdown",
   "metadata": {},
   "source": [
    "## Pre-defined Functions\n",
    "As any programming language, Python also has robust pre-defined functions. \n",
    "\n",
    "Following are the ones Data Engineers typically use:\n",
    "* String Manipulation Functions\n",
    "* Date and Time Manipulation Functions\n",
    "* Collection Manipulation Functions\n",
    "* Sometimes we use functions that are available as part of core python. But in the case of Data Engineering Projects we use modules such as pandas, pyspark etc.\n"
   ]
  },
  {
   "cell_type": "markdown",
   "metadata": {},
   "source": [
    "## Special Functions\n",
    "Functions that are enclosed with double underscores and others.\n",
    "\n",
    "* Special Functions are typically meant for operators.\n",
    "* Here are the examples for operators.\n",
    "  * `in`\n",
    "  * Comparison Operators such as `==`\n",
    "  * `len`"
   ]
  },
  {
   "cell_type": "code",
   "execution_count": null,
   "metadata": {},
   "outputs": [],
   "source": [
    "help(str)"
   ]
  },
  {
   "cell_type": "code",
   "execution_count": 4,
   "metadata": {},
   "outputs": [],
   "source": [
    "s = 'Hello'"
   ]
  },
  {
   "cell_type": "code",
   "execution_count": 7,
   "metadata": {},
   "outputs": [
    {
     "data": {
      "text/plain": [
       "\u001b[0;31mSignature:\u001b[0m      \u001b[0ms\u001b[0m\u001b[0;34m.\u001b[0m\u001b[0m__eq__\u001b[0m\u001b[0;34m(\u001b[0m\u001b[0mvalue\u001b[0m\u001b[0;34m,\u001b[0m \u001b[0;34m/\u001b[0m\u001b[0;34m)\u001b[0m\u001b[0;34m\u001b[0m\u001b[0;34m\u001b[0m\u001b[0m\n",
       "\u001b[0;31mCall signature:\u001b[0m \u001b[0ms\u001b[0m\u001b[0;34m.\u001b[0m\u001b[0m__eq__\u001b[0m\u001b[0;34m(\u001b[0m\u001b[0;34m*\u001b[0m\u001b[0margs\u001b[0m\u001b[0;34m,\u001b[0m \u001b[0;34m**\u001b[0m\u001b[0mkwargs\u001b[0m\u001b[0;34m)\u001b[0m\u001b[0;34m\u001b[0m\u001b[0;34m\u001b[0m\u001b[0m\n",
       "\u001b[0;31mType:\u001b[0m           method-wrapper\n",
       "\u001b[0;31mString form:\u001b[0m    <method-wrapper '__eq__' of str object at 0x10f675730>\n",
       "\u001b[0;31mDocstring:\u001b[0m      Return self==value.\n"
      ]
     },
     "metadata": {},
     "output_type": "display_data"
    }
   ],
   "source": [
    "s.__eq__?"
   ]
  },
  {
   "cell_type": "code",
   "execution_count": 6,
   "metadata": {},
   "outputs": [
    {
     "data": {
      "text/plain": [
       "True"
      ]
     },
     "execution_count": 6,
     "metadata": {},
     "output_type": "execute_result"
    }
   ],
   "source": [
    "s.__eq__('Hello')"
   ]
  },
  {
   "cell_type": "code",
   "execution_count": 5,
   "metadata": {},
   "outputs": [
    {
     "data": {
      "text/plain": [
       "True"
      ]
     },
     "execution_count": 5,
     "metadata": {},
     "output_type": "execute_result"
    }
   ],
   "source": [
    "s == 'Hello'"
   ]
  },
  {
   "cell_type": "code",
   "execution_count": 9,
   "metadata": {},
   "outputs": [
    {
     "data": {
      "text/plain": [
       "\u001b[0;31mSignature:\u001b[0m      \u001b[0mstr\u001b[0m\u001b[0;34m.\u001b[0m\u001b[0m__contains__\u001b[0m\u001b[0;34m(\u001b[0m\u001b[0mself\u001b[0m\u001b[0;34m,\u001b[0m \u001b[0mkey\u001b[0m\u001b[0;34m,\u001b[0m \u001b[0;34m/\u001b[0m\u001b[0;34m)\u001b[0m\u001b[0;34m\u001b[0m\u001b[0;34m\u001b[0m\u001b[0m\n",
       "\u001b[0;31mCall signature:\u001b[0m \u001b[0mstr\u001b[0m\u001b[0;34m.\u001b[0m\u001b[0m__contains__\u001b[0m\u001b[0;34m(\u001b[0m\u001b[0;34m*\u001b[0m\u001b[0margs\u001b[0m\u001b[0;34m,\u001b[0m \u001b[0;34m**\u001b[0m\u001b[0mkwargs\u001b[0m\u001b[0;34m)\u001b[0m\u001b[0;34m\u001b[0m\u001b[0;34m\u001b[0m\u001b[0m\n",
       "\u001b[0;31mType:\u001b[0m           wrapper_descriptor\n",
       "\u001b[0;31mString form:\u001b[0m    <slot wrapper '__contains__' of 'str' objects>\n",
       "\u001b[0;31mNamespace:\u001b[0m      Python builtin\n",
       "\u001b[0;31mDocstring:\u001b[0m      Return key in self.\n"
      ]
     },
     "metadata": {},
     "output_type": "display_data"
    }
   ],
   "source": [
    "str.__contains__?"
   ]
  },
  {
   "cell_type": "code",
   "execution_count": 11,
   "metadata": {},
   "outputs": [
    {
     "data": {
      "text/plain": [
       "True"
      ]
     },
     "execution_count": 11,
     "metadata": {},
     "output_type": "execute_result"
    }
   ],
   "source": [
    "s.__contains__('e')"
   ]
  },
  {
   "cell_type": "code",
   "execution_count": 10,
   "metadata": {},
   "outputs": [
    {
     "data": {
      "text/plain": [
       "True"
      ]
     },
     "execution_count": 10,
     "metadata": {},
     "output_type": "execute_result"
    }
   ],
   "source": [
    "'e' in s"
   ]
  },
  {
   "cell_type": "code",
   "execution_count": 12,
   "metadata": {},
   "outputs": [
    {
     "data": {
      "text/plain": [
       "\u001b[0;31mSignature:\u001b[0m      \u001b[0mstr\u001b[0m\u001b[0;34m.\u001b[0m\u001b[0m__len__\u001b[0m\u001b[0;34m(\u001b[0m\u001b[0mself\u001b[0m\u001b[0;34m,\u001b[0m \u001b[0;34m/\u001b[0m\u001b[0;34m)\u001b[0m\u001b[0;34m\u001b[0m\u001b[0;34m\u001b[0m\u001b[0m\n",
       "\u001b[0;31mCall signature:\u001b[0m \u001b[0mstr\u001b[0m\u001b[0;34m.\u001b[0m\u001b[0m__len__\u001b[0m\u001b[0;34m(\u001b[0m\u001b[0;34m*\u001b[0m\u001b[0margs\u001b[0m\u001b[0;34m,\u001b[0m \u001b[0;34m**\u001b[0m\u001b[0mkwargs\u001b[0m\u001b[0;34m)\u001b[0m\u001b[0;34m\u001b[0m\u001b[0;34m\u001b[0m\u001b[0m\n",
       "\u001b[0;31mType:\u001b[0m           wrapper_descriptor\n",
       "\u001b[0;31mString form:\u001b[0m    <slot wrapper '__len__' of 'str' objects>\n",
       "\u001b[0;31mNamespace:\u001b[0m      Python builtin\n",
       "\u001b[0;31mDocstring:\u001b[0m      Return len(self).\n"
      ]
     },
     "metadata": {},
     "output_type": "display_data"
    }
   ],
   "source": [
    "str.__len__?"
   ]
  },
  {
   "cell_type": "code",
   "execution_count": 14,
   "metadata": {},
   "outputs": [
    {
     "data": {
      "text/plain": [
       "5"
      ]
     },
     "execution_count": 14,
     "metadata": {},
     "output_type": "execute_result"
    }
   ],
   "source": [
    "s.__len__()"
   ]
  },
  {
   "cell_type": "code",
   "execution_count": 13,
   "metadata": {},
   "outputs": [
    {
     "data": {
      "text/plain": [
       "5"
      ]
     },
     "execution_count": 13,
     "metadata": {},
     "output_type": "execute_result"
    }
   ],
   "source": [
    "len(s)"
   ]
  },
  {
   "cell_type": "code",
   "execution_count": 15,
   "metadata": {},
   "outputs": [],
   "source": [
    "l = [1, 6, 8, 3, 7, 2, 9]"
   ]
  },
  {
   "cell_type": "code",
   "execution_count": 16,
   "metadata": {},
   "outputs": [
    {
     "data": {
      "text/plain": [
       "list"
      ]
     },
     "execution_count": 16,
     "metadata": {},
     "output_type": "execute_result"
    }
   ],
   "source": [
    "type(l)"
   ]
  },
  {
   "cell_type": "code",
   "execution_count": 17,
   "metadata": {},
   "outputs": [
    {
     "data": {
      "text/plain": [
       "\u001b[0;31mSignature:\u001b[0m      \u001b[0ml\u001b[0m\u001b[0;34m.\u001b[0m\u001b[0m__len__\u001b[0m\u001b[0;34m(\u001b[0m\u001b[0;34m)\u001b[0m\u001b[0;34m\u001b[0m\u001b[0;34m\u001b[0m\u001b[0m\n",
       "\u001b[0;31mCall signature:\u001b[0m \u001b[0ml\u001b[0m\u001b[0;34m.\u001b[0m\u001b[0m__len__\u001b[0m\u001b[0;34m(\u001b[0m\u001b[0;34m*\u001b[0m\u001b[0margs\u001b[0m\u001b[0;34m,\u001b[0m \u001b[0;34m**\u001b[0m\u001b[0mkwargs\u001b[0m\u001b[0;34m)\u001b[0m\u001b[0;34m\u001b[0m\u001b[0;34m\u001b[0m\u001b[0m\n",
       "\u001b[0;31mType:\u001b[0m           method-wrapper\n",
       "\u001b[0;31mString form:\u001b[0m    <method-wrapper '__len__' of list object at 0x10f668870>\n",
       "\u001b[0;31mDocstring:\u001b[0m      Return len(self).\n"
      ]
     },
     "metadata": {},
     "output_type": "display_data"
    }
   ],
   "source": [
    "l.__len__?"
   ]
  },
  {
   "cell_type": "code",
   "execution_count": 18,
   "metadata": {},
   "outputs": [
    {
     "data": {
      "text/plain": [
       "7"
      ]
     },
     "execution_count": 18,
     "metadata": {},
     "output_type": "execute_result"
    }
   ],
   "source": [
    "l.__len__()"
   ]
  },
  {
   "cell_type": "code",
   "execution_count": 19,
   "metadata": {},
   "outputs": [
    {
     "data": {
      "text/plain": [
       "7"
      ]
     },
     "execution_count": 19,
     "metadata": {},
     "output_type": "execute_result"
    }
   ],
   "source": [
    "len(l)"
   ]
  },
  {
   "cell_type": "code",
   "execution_count": 20,
   "metadata": {},
   "outputs": [
    {
     "data": {
      "text/plain": [
       "\u001b[0;31mSignature:\u001b[0m \u001b[0mlen\u001b[0m\u001b[0;34m(\u001b[0m\u001b[0mobj\u001b[0m\u001b[0;34m,\u001b[0m \u001b[0;34m/\u001b[0m\u001b[0;34m)\u001b[0m\u001b[0;34m\u001b[0m\u001b[0;34m\u001b[0m\u001b[0m\n",
       "\u001b[0;31mDocstring:\u001b[0m Return the number of items in a container.\n",
       "\u001b[0;31mType:\u001b[0m      builtin_function_or_method\n"
      ]
     },
     "metadata": {},
     "output_type": "display_data"
    }
   ],
   "source": [
    "len?"
   ]
  },
  {
   "cell_type": "code",
   "execution_count": null,
   "metadata": {},
   "outputs": [],
   "source": []
  },
  {
   "cell_type": "markdown",
   "metadata": {},
   "source": [
    "## String Manipulation Functions\n",
    "In Python, depending on the nature of the project we might manipulate strings using functions that come as part of higher level modules such as pandas, pyspark etc. However, we will go through some of the string manipulation functions to get an idea about how to use existing functions.\n",
    "\n",
    "As in any programming language, a string in Python is nothing but a list of characters. We can access elements in a list using index based operations.\n",
    "\n",
    "Let us understand some common string manipulations we perform in any application.\n",
    "* Extracting information from fixed length strings (eg: last 4 digits of social security number). There is no substring function. However, we can use index based operations to extract information from fixed length strings."
   ]
  },
  {
   "cell_type": "code",
   "execution_count": 31,
   "metadata": {},
   "outputs": [
    {
     "data": {
      "text/plain": [
       "'7890'"
      ]
     },
     "execution_count": 31,
     "metadata": {},
     "output_type": "execute_result"
    }
   ],
   "source": [
    "ssn = '123 456 7890'\n",
    "ssn[-4:]"
   ]
  },
  {
   "cell_type": "markdown",
   "metadata": {},
   "source": [
    "* Extracting information from delimited strings (eg: extract first field from record where fields are comma separated)"
   ]
  },
  {
   "cell_type": "code",
   "execution_count": 39,
   "metadata": {},
   "outputs": [
    {
     "data": {
      "text/plain": [
       "7"
      ]
     },
     "execution_count": 39,
     "metadata": {},
     "output_type": "execute_result"
    }
   ],
   "source": [
    "order = '1,2013-07-25 00:00:00.0,1,CLOSED' \n",
    "int(order.split(',')[1][5:7])"
   ]
  },
  {
   "cell_type": "markdown",
   "metadata": {},
   "source": [
    "* Trimming unnecessary characters at the beginning or at the end of the string."
   ]
  },
  {
   "cell_type": "code",
   "execution_count": 42,
   "metadata": {},
   "outputs": [
    {
     "data": {
      "text/plain": [
       "\u001b[0;31mSignature:\u001b[0m \u001b[0mstr\u001b[0m\u001b[0;34m.\u001b[0m\u001b[0mstrip\u001b[0m\u001b[0;34m(\u001b[0m\u001b[0mself\u001b[0m\u001b[0;34m,\u001b[0m \u001b[0mchars\u001b[0m\u001b[0;34m=\u001b[0m\u001b[0;32mNone\u001b[0m\u001b[0;34m,\u001b[0m \u001b[0;34m/\u001b[0m\u001b[0;34m)\u001b[0m\u001b[0;34m\u001b[0m\u001b[0;34m\u001b[0m\u001b[0m\n",
       "\u001b[0;31mDocstring:\u001b[0m\n",
       "Return a copy of the string with leading and trailing whitespace remove.\n",
       "\n",
       "If chars is given and not None, remove characters in chars instead.\n",
       "\u001b[0;31mType:\u001b[0m      method_descriptor\n"
      ]
     },
     "metadata": {},
     "output_type": "display_data"
    }
   ],
   "source": [
    "str.strip?"
   ]
  },
  {
   "cell_type": "code",
   "execution_count": 46,
   "metadata": {},
   "outputs": [
    {
     "data": {
      "text/plain": [
       "'.hello'"
      ]
     },
     "execution_count": 46,
     "metadata": {},
     "output_type": "execute_result"
    }
   ],
   "source": [
    "s = '    .hello.   '\n",
    "s.strip(' ').rstrip('.')"
   ]
  },
  {
   "cell_type": "markdown",
   "metadata": {},
   "source": [
    "* Length of the string for data quality (eg: checking if telephone number is 10 digits or not)"
   ]
  },
  {
   "cell_type": "code",
   "execution_count": 47,
   "metadata": {},
   "outputs": [
    {
     "data": {
      "text/plain": [
       "10"
      ]
     },
     "execution_count": 47,
     "metadata": {},
     "output_type": "execute_result"
    }
   ],
   "source": [
    "phone_number = '1234567890'\n",
    "len(phone_number)"
   ]
  },
  {
   "cell_type": "code",
   "execution_count": 48,
   "metadata": {},
   "outputs": [
    {
     "data": {
      "text/plain": [
       "True"
      ]
     },
     "execution_count": 48,
     "metadata": {},
     "output_type": "execute_result"
    }
   ],
   "source": [
    "len(phone_number) == 10"
   ]
  },
  {
   "cell_type": "markdown",
   "metadata": {},
   "source": [
    "* Validating the type of content in string (eg: checking if social security number which is passed as string have only numbers or not)"
   ]
  },
  {
   "cell_type": "code",
   "execution_count": 53,
   "metadata": {},
   "outputs": [
    {
     "name": "stdout",
     "output_type": "stream",
     "text": [
      "None\n"
     ]
    }
   ],
   "source": [
    "ssn = '123 456 7890'\n",
    "ssn1 = None\n",
    "if ssn.isdigit(): ssn1 = int(ssn)\n",
    "    \n",
    "print(ssn1)"
   ]
  },
  {
   "cell_type": "markdown",
   "metadata": {},
   "source": [
    "* Converting case of the string"
   ]
  },
  {
   "cell_type": "code",
   "execution_count": 55,
   "metadata": {},
   "outputs": [],
   "source": [
    "company = 'iTVersity, inc'"
   ]
  },
  {
   "cell_type": "code",
   "execution_count": 56,
   "metadata": {},
   "outputs": [
    {
     "data": {
      "text/plain": [
       "'ITVERSITY, INC'"
      ]
     },
     "execution_count": 56,
     "metadata": {},
     "output_type": "execute_result"
    }
   ],
   "source": [
    "company.upper()"
   ]
  },
  {
   "cell_type": "code",
   "execution_count": 57,
   "metadata": {},
   "outputs": [
    {
     "data": {
      "text/plain": [
       "'itversity, inc'"
      ]
     },
     "execution_count": 57,
     "metadata": {},
     "output_type": "execute_result"
    }
   ],
   "source": [
    "company.lower()"
   ]
  },
  {
   "cell_type": "code",
   "execution_count": 59,
   "metadata": {},
   "outputs": [
    {
     "data": {
      "text/plain": [
       "'Itversity, inc'"
      ]
     },
     "execution_count": 59,
     "metadata": {},
     "output_type": "execute_result"
    }
   ],
   "source": [
    "company.capitalize()"
   ]
  },
  {
   "cell_type": "markdown",
   "metadata": {},
   "source": [
    "* Replacing part of the string. Replace spaces with empty string and validate if it contain numbers only"
   ]
  },
  {
   "cell_type": "code",
   "execution_count": 72,
   "metadata": {},
   "outputs": [
    {
     "data": {
      "text/plain": [
       "False"
      ]
     },
     "execution_count": 72,
     "metadata": {},
     "output_type": "execute_result"
    }
   ],
   "source": [
    "ssn = '123 45 6789'\n",
    "ssn.isdigit()"
   ]
  },
  {
   "cell_type": "code",
   "execution_count": 73,
   "metadata": {},
   "outputs": [
    {
     "data": {
      "text/plain": [
       "\u001b[0;31mSignature:\u001b[0m \u001b[0mssn\u001b[0m\u001b[0;34m.\u001b[0m\u001b[0mreplace\u001b[0m\u001b[0;34m(\u001b[0m\u001b[0mold\u001b[0m\u001b[0;34m,\u001b[0m \u001b[0mnew\u001b[0m\u001b[0;34m,\u001b[0m \u001b[0mcount\u001b[0m\u001b[0;34m=\u001b[0m\u001b[0;34m-\u001b[0m\u001b[0;36m1\u001b[0m\u001b[0;34m,\u001b[0m \u001b[0;34m/\u001b[0m\u001b[0;34m)\u001b[0m\u001b[0;34m\u001b[0m\u001b[0;34m\u001b[0m\u001b[0m\n",
       "\u001b[0;31mDocstring:\u001b[0m\n",
       "Return a copy with all occurrences of substring old replaced by new.\n",
       "\n",
       "  count\n",
       "    Maximum number of occurrences to replace.\n",
       "    -1 (the default value) means replace all occurrences.\n",
       "\n",
       "If the optional argument count is given, only the first count occurrences are\n",
       "replaced.\n",
       "\u001b[0;31mType:\u001b[0m      builtin_function_or_method\n"
      ]
     },
     "metadata": {},
     "output_type": "display_data"
    }
   ],
   "source": [
    "ssn.replace?"
   ]
  },
  {
   "cell_type": "code",
   "execution_count": 74,
   "metadata": {},
   "outputs": [
    {
     "name": "stdout",
     "output_type": "stream",
     "text": [
      "123456789\n"
     ]
    }
   ],
   "source": [
    "ssn1 = ssn.replace(' ', '')\n",
    "ssn2 = None\n",
    "if ssn1.isdigit(): ssn2 = int(ssn1)\n",
    "else: print('Invalid SSN, it cannot be typecasted to int')\n",
    "\n",
    "print(ssn2)"
   ]
  },
  {
   "cell_type": "markdown",
   "metadata": {},
   "source": [
    "* Counting how many times a particular substring is repeated in the main string."
   ]
  },
  {
   "cell_type": "code",
   "execution_count": 97,
   "metadata": {},
   "outputs": [],
   "source": [
    "#ssn = '123 45 6789'\n",
    "ssn = '123 45 6789'"
   ]
  },
  {
   "cell_type": "code",
   "execution_count": 98,
   "metadata": {},
   "outputs": [
    {
     "data": {
      "text/plain": [
       "\u001b[0;31mDocstring:\u001b[0m\n",
       "S.count(sub[, start[, end]]) -> int\n",
       "\n",
       "Return the number of non-overlapping occurrences of substring sub in\n",
       "string S[start:end].  Optional arguments start and end are\n",
       "interpreted as in slice notation.\n",
       "\u001b[0;31mType:\u001b[0m      builtin_function_or_method\n"
      ]
     },
     "metadata": {},
     "output_type": "display_data"
    }
   ],
   "source": [
    "ssn.count?"
   ]
  },
  {
   "cell_type": "code",
   "execution_count": 99,
   "metadata": {},
   "outputs": [],
   "source": [
    "if ssn.count(' ') != 2 and ssn.isdigit() == False: print('Invalid SSN, contains more or less spaces than 2')"
   ]
  },
  {
   "cell_type": "markdown",
   "metadata": {},
   "source": [
    "## Defining Functions and Returning Values\n",
    "Here are simple rules to define a function in Python -\n",
    "* Function blocks begin with the keyword def followed by the function name and parentheses ().\n",
    "* While defining functions we need to specify parameters in these parentheses.\n",
    "* The code block within every function starts with a colon (:) and is indented.\n",
    "* The statement return [expression] exits a function, passing back an expression to the caller. A return statement with no expression is the same as return None.\n",
    "* The first statement of a function can be an optional statement - the documentation string of the function or docstring.\n",
    "* When functions are invoked all arguments in the Python language are passed by reference into the function parameters.\n",
    "* Every function implicitly contains a return None statement.\n",
    "* We can return multiple expressions in Python.\n"
   ]
  },
  {
   "cell_type": "markdown",
   "metadata": {},
   "source": [
    "## Function Parameters and Arguments\n",
    "Let us get an overview of different types of Function Parameters and Arguments supported by Python.\n",
    "* Parameter is variable in the declaration of function. Argument is the actual value of this variable that gets passed to function.\n",
    "* However, in some cases they are used interchangeably.\n",
    "* In Python, parameters can be objects or even functions. We can pass named functions or lambda functions as arguments. We will talk about this later.\n",
    "\n",
    "### Tasks\n",
    "Let us perform a few tasks to understand all aspects of parameters.\n",
    "\n",
    "* Checking whether phone numbers of a given employee are valid - get_invalid_phone_count\n",
    "  * Function should take 2 arguments, employee_id and phone_numbers (variable number)\n",
    "  * Check whether each phone number have 10 digits.\n",
    "  * Return employee_id and number of phone numbers with less than 10 digits"
   ]
  },
  {
   "cell_type": "code",
   "execution_count": 100,
   "metadata": {},
   "outputs": [],
   "source": [
    "def get_invalid_phone_count(employee_id, *phone_numbers):\n",
    "    invalid_count = 0\n",
    "    for phone_number in phone_numbers:\n",
    "        if len(phone_number) != 10:\n",
    "            invalid_count += 1\n",
    "    return employee_id, invalid_count"
   ]
  },
  {
   "cell_type": "code",
   "execution_count": 102,
   "metadata": {},
   "outputs": [],
   "source": [
    "s = 'Employee {employee_id} have {invalid_count} invalid phones'"
   ]
  },
  {
   "cell_type": "code",
   "execution_count": 105,
   "metadata": {},
   "outputs": [],
   "source": [
    "employee_id, invalid_count = get_invalid_phone_count(1, '1234567890', '1234')"
   ]
  },
  {
   "cell_type": "code",
   "execution_count": 106,
   "metadata": {},
   "outputs": [
    {
     "name": "stdout",
     "output_type": "stream",
     "text": [
      "Employee 1 have 1 invalid phones\n"
     ]
    }
   ],
   "source": [
    "print(s.format(employee_id=employee_id, invalid_count=invalid_count))"
   ]
  },
  {
   "cell_type": "markdown",
   "metadata": {},
   "source": [
    "* Adding employee `add_employee`\n",
    "  * Function should take employee_id, employee_name, salary and phone_numbers (variable number), degrees (variable keyword arguments) as arguments.\n",
    "  * Degrees should be with specialization. There can be one or more degrees with specializations with keys bachelors, masters, executive, doctorate.\n",
    "  * Make sure salary is defaulted to 3000. If salary is passed and if it is less than 3000 throw exception with message “Invalid Salary, Salary should be at least 3000”\n",
    "  * Call get_invalid_phone_count and check if it is greater than 0. If invalid phone count is greater than 0, throw an exception with message “One or more phone number of an employee is not valid”\n",
    "  * Get count of degrees by processing variable keyword argument\n",
    "  * If there are no exceptions print “Employee {employee_id} with {number} degrees is successfully added”"
   ]
  },
  {
   "cell_type": "code",
   "execution_count": 140,
   "metadata": {},
   "outputs": [],
   "source": [
    "def add_employee(employee_id, employee_name, phone_numbers, salary=3000, **degrees):\n",
    "    degree_types = ('bachelors', 'masters', 'executive', 'doctorate')\n",
    "    try:\n",
    "        l_employee_id, l_invalid_count = get_invalid_phone_count(employee_id, *phone_numbers)\n",
    "        if l_invalid_count != 0 or salary < 3000:\n",
    "            raise ValueError\n",
    "            \n",
    "                \n",
    "        for degree_key in degrees:\n",
    "            if degree_key not in degree_types:\n",
    "                raise ValueError\n",
    "\n",
    "        print('Employee {} with {} degrees is successfully added and his salary is {}'.format(employee_id, len(degrees), salary))\n",
    "\n",
    "    except ValueError as ve:\n",
    "        print('Either Phone numbers are not valid or Invalid Salary, Salary should be at least 3000 or one or more degrees are not correct')"
   ]
  },
  {
   "cell_type": "code",
   "execution_count": 142,
   "metadata": {},
   "outputs": [
    {
     "name": "stdout",
     "output_type": "stream",
     "text": [
      "Either Phone numbers are not valid or Invalid Salary, Salary should be at least 3000 or one or more degrees are not correct\n"
     ]
    }
   ],
   "source": [
    "add_employee(1, 'IT', '1234567890', '1234567890', salary=5000, b='B. Sc', masters='M. C. A')"
   ]
  },
  {
   "cell_type": "markdown",
   "metadata": {},
   "source": [
    "## Recap\n",
    "Let us recap all about arguments as we have used all the examples.\n",
    "* Required Arguments or Parameters (typically starts at beginning)\n",
    "* Parameters with Defaults or Keyword Parameters\n",
    "* Variable-length Parameters or Arguments\n",
    "  * Typically starts with *\n",
    "  * It can be a normal parameter or keyword parameter.\n",
    "  * Variable number keyword parameters start with ** and is interpreted as dict in function.\n",
    "* Order of Parameters\n",
    "  * Required Parameters (with no defaults)\n",
    "  * One or more of these\n",
    "    * Parameters with defaults or Keyword Parameter \n",
    "    * Variable length Parameter\n",
    "  * Variable length Keyword Parameter\n",
    "  * In Python 2, variable length parameters cannot be before keyword argument.\n",
    "* As a Python Programmer we need to be familiar with all types of arguments as they are used quite extensively in the 3rd party libraries such as Pandas.\n"
   ]
  },
  {
   "cell_type": "code",
   "execution_count": null,
   "metadata": {},
   "outputs": [],
   "source": [
    "import pandas as pd\n",
    "pd.read_csv?"
   ]
  },
  {
   "cell_type": "markdown",
   "metadata": {},
   "source": [
    "## Lambda Functions\n",
    "\n",
    "Let us understand details related to Lambda Functions.\n",
    "\n",
    "* A lambda function is nothing but a function without a name.\n",
    "* We can assign it to a variable or use it as a argument to a function.\n",
    "* There are limitations to lambda functions.\n",
    "  *  We cannot specify return statement.\n",
    "  * We cannot create new variables.\n",
    "  * We can only pass the arguments to lambda function using simple expressions. These simple expressions will be returned automatically.\n",
    "* Let’s take the example of sum of integers between a range using loops and develop other functionality using lambda functions.\n",
    "  * Sum of squares of integers between a range\n",
    "  * Sum of cubes of integers between a range\n",
    "  * Sum of the even numbers between a range\n",
    "* Code using named functions\n"
   ]
  },
  {
   "cell_type": "code",
   "execution_count": 145,
   "metadata": {},
   "outputs": [
    {
     "data": {
      "text/plain": [
       "45"
      ]
     },
     "execution_count": 145,
     "metadata": {},
     "output_type": "execute_result"
    }
   ],
   "source": [
    "def sumOfIntegers(lb, ub):\n",
    "    total = 0\n",
    "    for i in range(lb, ub + 1):\n",
    "        total += i\n",
    "    return total\n",
    "\n",
    "sumOfIntegers(5, 10)"
   ]
  },
  {
   "cell_type": "code",
   "execution_count": 154,
   "metadata": {},
   "outputs": [
    {
     "data": {
      "text/plain": [
       "355"
      ]
     },
     "execution_count": 154,
     "metadata": {},
     "output_type": "execute_result"
    }
   ],
   "source": [
    "def sumOfSquares(lb, ub):\n",
    "    total = 0\n",
    "    for i in range(lb, ub + 1):\n",
    "        total += i * i\n",
    "    return total\n",
    "\n",
    "sumOfSquares(5, 10)"
   ]
  },
  {
   "cell_type": "code",
   "execution_count": 155,
   "metadata": {},
   "outputs": [
    {
     "data": {
      "text/plain": [
       "2925"
      ]
     },
     "execution_count": 155,
     "metadata": {},
     "output_type": "execute_result"
    }
   ],
   "source": [
    "def sumOfCubes(lb, ub):\n",
    "    total = 0\n",
    "    for i in range(lb, ub + 1):\n",
    "        total += i * i * i\n",
    "    return total\n",
    "\n",
    "sumOfCubes(5, 10)"
   ]
  },
  {
   "cell_type": "code",
   "execution_count": 156,
   "metadata": {},
   "outputs": [
    {
     "data": {
      "text/plain": [
       "24"
      ]
     },
     "execution_count": 156,
     "metadata": {},
     "output_type": "execute_result"
    }
   ],
   "source": [
    "def sumOfEvens(lb, ub):\n",
    "    total = 0\n",
    "    for i in range(lb, ub + 1):\n",
    "        total += i if i % 2 == 0 else 0\n",
    "    return total\n",
    "\n",
    "sumOfEvens(5, 10)"
   ]
  },
  {
   "cell_type": "code",
   "execution_count": 148,
   "metadata": {},
   "outputs": [],
   "source": [
    "lb = 5\n",
    "ub = 10"
   ]
  },
  {
   "cell_type": "code",
   "execution_count": 151,
   "metadata": {},
   "outputs": [],
   "source": [
    "def sumN(n):\n",
    "    return int(n * (n + 1) / 2)"
   ]
  },
  {
   "cell_type": "code",
   "execution_count": 152,
   "metadata": {},
   "outputs": [],
   "source": [
    "def sumOfIntegers(lb, ub):\n",
    "    return sumN(ub) - sumN(lb - 1)"
   ]
  },
  {
   "cell_type": "code",
   "execution_count": 153,
   "metadata": {},
   "outputs": [
    {
     "data": {
      "text/plain": [
       "45"
      ]
     },
     "execution_count": 153,
     "metadata": {},
     "output_type": "execute_result"
    }
   ],
   "source": [
    "sumOfIntegers(5, 10)"
   ]
  },
  {
   "cell_type": "code",
   "execution_count": 169,
   "metadata": {},
   "outputs": [],
   "source": [
    "def my_sum(lb, ub, f):\n",
    "    total = 0\n",
    "    for i in range(lb, ub + 1):\n",
    "        total += f(i)\n",
    "    return total "
   ]
  },
  {
   "cell_type": "code",
   "execution_count": 170,
   "metadata": {},
   "outputs": [],
   "source": [
    "def i(n): return n"
   ]
  },
  {
   "cell_type": "code",
   "execution_count": 172,
   "metadata": {},
   "outputs": [],
   "source": [
    "def sqr(n): return n * n"
   ]
  },
  {
   "cell_type": "code",
   "execution_count": 174,
   "metadata": {},
   "outputs": [],
   "source": [
    "def cube(n): return n * n * n"
   ]
  },
  {
   "cell_type": "code",
   "execution_count": 176,
   "metadata": {},
   "outputs": [],
   "source": [
    "def even(n): return n if n % 2 == 0 else 0"
   ]
  },
  {
   "cell_type": "code",
   "execution_count": 178,
   "metadata": {},
   "outputs": [
    {
     "data": {
      "text/plain": [
       "24"
      ]
     },
     "execution_count": 178,
     "metadata": {},
     "output_type": "execute_result"
    }
   ],
   "source": [
    "my_sum(5, 10, even)"
   ]
  },
  {
   "cell_type": "markdown",
   "metadata": {},
   "source": [
    "* Code using lambda functions"
   ]
  },
  {
   "cell_type": "code",
   "execution_count": 185,
   "metadata": {},
   "outputs": [],
   "source": [
    "def i(n): return n"
   ]
  },
  {
   "cell_type": "code",
   "execution_count": 190,
   "metadata": {},
   "outputs": [
    {
     "data": {
      "text/plain": [
       "45"
      ]
     },
     "execution_count": 190,
     "metadata": {},
     "output_type": "execute_result"
    }
   ],
   "source": [
    "my_sum(5, 10, lambda n: n)"
   ]
  },
  {
   "cell_type": "code",
   "execution_count": 180,
   "metadata": {},
   "outputs": [
    {
     "data": {
      "text/plain": [
       "355"
      ]
     },
     "execution_count": 180,
     "metadata": {},
     "output_type": "execute_result"
    }
   ],
   "source": [
    "my_sum(5, 10, lambda n: n * n)"
   ]
  },
  {
   "cell_type": "code",
   "execution_count": 181,
   "metadata": {},
   "outputs": [
    {
     "data": {
      "text/plain": [
       "2925"
      ]
     },
     "execution_count": 181,
     "metadata": {},
     "output_type": "execute_result"
    }
   ],
   "source": [
    "my_sum(5, 10, lambda n: n * n * n)"
   ]
  },
  {
   "cell_type": "code",
   "execution_count": 182,
   "metadata": {},
   "outputs": [
    {
     "data": {
      "text/plain": [
       "24"
      ]
     },
     "execution_count": 182,
     "metadata": {},
     "output_type": "execute_result"
    }
   ],
   "source": [
    "my_sum(5, 10, lambda n: n if n % 2 == 0 else 0)"
   ]
  },
  {
   "cell_type": "code",
   "execution_count": 183,
   "metadata": {},
   "outputs": [
    {
     "data": {
      "text/plain": [
       "15"
      ]
     },
     "execution_count": 183,
     "metadata": {},
     "output_type": "execute_result"
    }
   ],
   "source": [
    "my_sum(5, 10, lambda n: n if n % 3 == 0 else 0)"
   ]
  },
  {
   "cell_type": "markdown",
   "metadata": {},
   "source": [
    "* Without lambda functions we might have to develop 3 different functions with name. However, we have reduced the amount of coding by passing lambda functions as arguments.\n",
    "* Let us see where Lambda Functions are extensively used.\n",
    "  * Several 3rd party libraries such as itertools\n",
    "  * Functions from standard libraries such as map, filter etc"
   ]
  },
  {
   "cell_type": "code",
   "execution_count": 184,
   "metadata": {},
   "outputs": [
    {
     "data": {
      "text/plain": [
       "\u001b[0;31mInit signature:\u001b[0m \u001b[0mmap\u001b[0m\u001b[0;34m(\u001b[0m\u001b[0mself\u001b[0m\u001b[0;34m,\u001b[0m \u001b[0;34m/\u001b[0m\u001b[0;34m,\u001b[0m \u001b[0;34m*\u001b[0m\u001b[0margs\u001b[0m\u001b[0;34m,\u001b[0m \u001b[0;34m**\u001b[0m\u001b[0mkwargs\u001b[0m\u001b[0;34m)\u001b[0m\u001b[0;34m\u001b[0m\u001b[0;34m\u001b[0m\u001b[0m\n",
       "\u001b[0;31mDocstring:\u001b[0m     \n",
       "map(func, *iterables) --> map object\n",
       "\n",
       "Make an iterator that computes the function using arguments from\n",
       "each of the iterables.  Stops when the shortest iterable is exhausted.\n",
       "\u001b[0;31mType:\u001b[0m           type\n",
       "\u001b[0;31mSubclasses:\u001b[0m     \n"
      ]
     },
     "metadata": {},
     "output_type": "display_data"
    }
   ],
   "source": [
    "map?"
   ]
  },
  {
   "cell_type": "code",
   "execution_count": 210,
   "metadata": {},
   "outputs": [],
   "source": [
    "orders = open('/Users/itversity/Research/data/retail_db/orders/part-00000.csv'). \\\n",
    "    read(). \\\n",
    "    splitlines()"
   ]
  },
  {
   "cell_type": "code",
   "execution_count": 204,
   "metadata": {},
   "outputs": [
    {
     "data": {
      "text/plain": [
       "list"
      ]
     },
     "execution_count": 204,
     "metadata": {},
     "output_type": "execute_result"
    }
   ],
   "source": [
    "type(orders)"
   ]
  },
  {
   "cell_type": "code",
   "execution_count": 205,
   "metadata": {},
   "outputs": [
    {
     "data": {
      "text/plain": [
       "['1,2013-07-25 00:00:00.0,11599,CLOSED',\n",
       " '2,2013-07-25 00:00:00.0,256,PENDING_PAYMENT',\n",
       " '3,2013-07-25 00:00:00.0,12111,COMPLETE',\n",
       " '4,2013-07-25 00:00:00.0,8827,CLOSED',\n",
       " '5,2013-07-25 00:00:00.0,11318,COMPLETE',\n",
       " '6,2013-07-25 00:00:00.0,7130,COMPLETE',\n",
       " '7,2013-07-25 00:00:00.0,4530,COMPLETE',\n",
       " '8,2013-07-25 00:00:00.0,2911,PROCESSING',\n",
       " '9,2013-07-25 00:00:00.0,5657,PENDING_PAYMENT',\n",
       " '10,2013-07-25 00:00:00.0,5648,PENDING_PAYMENT']"
      ]
     },
     "execution_count": 205,
     "metadata": {},
     "output_type": "execute_result"
    }
   ],
   "source": [
    "orders[:10]"
   ]
  },
  {
   "cell_type": "code",
   "execution_count": 206,
   "metadata": {},
   "outputs": [
    {
     "data": {
      "text/plain": [
       "\u001b[0;31mInit signature:\u001b[0m \u001b[0mmap\u001b[0m\u001b[0;34m(\u001b[0m\u001b[0mself\u001b[0m\u001b[0;34m,\u001b[0m \u001b[0;34m/\u001b[0m\u001b[0;34m,\u001b[0m \u001b[0;34m*\u001b[0m\u001b[0margs\u001b[0m\u001b[0;34m,\u001b[0m \u001b[0;34m**\u001b[0m\u001b[0mkwargs\u001b[0m\u001b[0;34m)\u001b[0m\u001b[0;34m\u001b[0m\u001b[0;34m\u001b[0m\u001b[0m\n",
       "\u001b[0;31mDocstring:\u001b[0m     \n",
       "map(func, *iterables) --> map object\n",
       "\n",
       "Make an iterator that computes the function using arguments from\n",
       "each of the iterables.  Stops when the shortest iterable is exhausted.\n",
       "\u001b[0;31mType:\u001b[0m           type\n",
       "\u001b[0;31mSubclasses:\u001b[0m     \n"
      ]
     },
     "metadata": {},
     "output_type": "display_data"
    }
   ],
   "source": [
    "map?"
   ]
  },
  {
   "cell_type": "code",
   "execution_count": 207,
   "metadata": {},
   "outputs": [
    {
     "data": {
      "text/plain": [
       "'2013-07-25 00:00:00.0'"
      ]
     },
     "execution_count": 207,
     "metadata": {},
     "output_type": "execute_result"
    }
   ],
   "source": [
    "s = '10,2013-07-25 00:00:00.0,5648,PENDING_PAYMENT'\n",
    "s.split(',')[1]"
   ]
  },
  {
   "cell_type": "code",
   "execution_count": 215,
   "metadata": {},
   "outputs": [
    {
     "data": {
      "text/plain": [
       "['2013-07-25 00:00:00.0',\n",
       " '2013-07-25 00:00:00.0',\n",
       " '2013-07-25 00:00:00.0',\n",
       " '2013-07-25 00:00:00.0',\n",
       " '2013-07-25 00:00:00.0',\n",
       " '2013-07-25 00:00:00.0',\n",
       " '2013-07-25 00:00:00.0',\n",
       " '2013-07-25 00:00:00.0',\n",
       " '2013-07-25 00:00:00.0',\n",
       " '2013-07-25 00:00:00.0',\n",
       " '2013-07-25 00:00:00.0',\n",
       " '2013-07-25 00:00:00.0',\n",
       " '2013-07-25 00:00:00.0',\n",
       " '2013-07-25 00:00:00.0',\n",
       " '2013-07-25 00:00:00.0',\n",
       " '2013-07-25 00:00:00.0',\n",
       " '2013-07-25 00:00:00.0',\n",
       " '2013-07-25 00:00:00.0',\n",
       " '2013-07-25 00:00:00.0',\n",
       " '2013-07-25 00:00:00.0',\n",
       " '2013-07-25 00:00:00.0',\n",
       " '2013-07-25 00:00:00.0',\n",
       " '2013-07-25 00:00:00.0',\n",
       " '2013-07-25 00:00:00.0',\n",
       " '2013-07-25 00:00:00.0',\n",
       " '2013-07-25 00:00:00.0',\n",
       " '2013-07-25 00:00:00.0',\n",
       " '2013-07-25 00:00:00.0',\n",
       " '2013-07-25 00:00:00.0',\n",
       " '2013-07-25 00:00:00.0',\n",
       " '2013-07-25 00:00:00.0',\n",
       " '2013-07-25 00:00:00.0',\n",
       " '2013-07-25 00:00:00.0',\n",
       " '2013-07-25 00:00:00.0',\n",
       " '2013-07-25 00:00:00.0',\n",
       " '2013-07-25 00:00:00.0',\n",
       " '2013-07-25 00:00:00.0',\n",
       " '2013-07-25 00:00:00.0',\n",
       " '2013-07-25 00:00:00.0',\n",
       " '2013-07-25 00:00:00.0',\n",
       " '2013-07-25 00:00:00.0',\n",
       " '2013-07-25 00:00:00.0',\n",
       " '2013-07-25 00:00:00.0',\n",
       " '2013-07-25 00:00:00.0',\n",
       " '2013-07-25 00:00:00.0',\n",
       " '2013-07-25 00:00:00.0',\n",
       " '2013-07-25 00:00:00.0',\n",
       " '2013-07-25 00:00:00.0',\n",
       " '2013-07-25 00:00:00.0',\n",
       " '2013-07-25 00:00:00.0',\n",
       " '2013-07-25 00:00:00.0',\n",
       " '2013-07-25 00:00:00.0',\n",
       " '2013-07-25 00:00:00.0',\n",
       " '2013-07-25 00:00:00.0',\n",
       " '2013-07-25 00:00:00.0',\n",
       " '2013-07-25 00:00:00.0',\n",
       " '2013-07-25 00:00:00.0',\n",
       " '2013-07-25 00:00:00.0',\n",
       " '2013-07-25 00:00:00.0',\n",
       " '2013-07-25 00:00:00.0',\n",
       " '2013-07-25 00:00:00.0',\n",
       " '2013-07-25 00:00:00.0',\n",
       " '2013-07-25 00:00:00.0',\n",
       " '2013-07-25 00:00:00.0',\n",
       " '2013-07-25 00:00:00.0',\n",
       " '2013-07-25 00:00:00.0',\n",
       " '2013-07-25 00:00:00.0',\n",
       " '2013-07-25 00:00:00.0',\n",
       " '2013-07-25 00:00:00.0',\n",
       " '2013-07-25 00:00:00.0',\n",
       " '2013-07-25 00:00:00.0',\n",
       " '2013-07-25 00:00:00.0',\n",
       " '2013-07-25 00:00:00.0',\n",
       " '2013-07-25 00:00:00.0',\n",
       " '2013-07-25 00:00:00.0',\n",
       " '2013-07-25 00:00:00.0',\n",
       " '2013-07-25 00:00:00.0',\n",
       " '2013-07-25 00:00:00.0',\n",
       " '2013-07-25 00:00:00.0',\n",
       " '2013-07-25 00:00:00.0',\n",
       " '2013-07-25 00:00:00.0',\n",
       " '2013-07-25 00:00:00.0',\n",
       " '2013-07-25 00:00:00.0',\n",
       " '2013-07-25 00:00:00.0',\n",
       " '2013-07-25 00:00:00.0',\n",
       " '2013-07-25 00:00:00.0',\n",
       " '2013-07-25 00:00:00.0',\n",
       " '2013-07-25 00:00:00.0',\n",
       " '2013-07-25 00:00:00.0',\n",
       " '2013-07-25 00:00:00.0',\n",
       " '2013-07-25 00:00:00.0',\n",
       " '2013-07-25 00:00:00.0',\n",
       " '2013-07-25 00:00:00.0',\n",
       " '2013-07-25 00:00:00.0',\n",
       " '2013-07-25 00:00:00.0',\n",
       " '2013-07-25 00:00:00.0',\n",
       " '2013-07-25 00:00:00.0',\n",
       " '2013-07-25 00:00:00.0',\n",
       " '2013-07-25 00:00:00.0',\n",
       " '2013-07-25 00:00:00.0',\n",
       " '2013-07-25 00:00:00.0',\n",
       " '2013-07-25 00:00:00.0',\n",
       " '2013-07-25 00:00:00.0',\n",
       " '2013-07-25 00:00:00.0',\n",
       " '2013-07-26 00:00:00.0',\n",
       " '2013-07-26 00:00:00.0',\n",
       " '2013-07-26 00:00:00.0',\n",
       " '2013-07-26 00:00:00.0',\n",
       " '2013-07-26 00:00:00.0',\n",
       " '2013-07-26 00:00:00.0',\n",
       " '2013-07-26 00:00:00.0',\n",
       " '2013-07-26 00:00:00.0',\n",
       " '2013-07-26 00:00:00.0',\n",
       " '2013-07-26 00:00:00.0',\n",
       " '2013-07-26 00:00:00.0',\n",
       " '2013-07-26 00:00:00.0',\n",
       " '2013-07-26 00:00:00.0',\n",
       " '2013-07-26 00:00:00.0',\n",
       " '2013-07-26 00:00:00.0',\n",
       " '2013-07-26 00:00:00.0',\n",
       " '2013-07-26 00:00:00.0',\n",
       " '2013-07-26 00:00:00.0',\n",
       " '2013-07-26 00:00:00.0',\n",
       " '2013-07-26 00:00:00.0',\n",
       " '2013-07-26 00:00:00.0',\n",
       " '2013-07-26 00:00:00.0',\n",
       " '2013-07-26 00:00:00.0',\n",
       " '2013-07-26 00:00:00.0',\n",
       " '2013-07-26 00:00:00.0',\n",
       " '2013-07-26 00:00:00.0',\n",
       " '2013-07-26 00:00:00.0',\n",
       " '2013-07-26 00:00:00.0',\n",
       " '2013-07-26 00:00:00.0',\n",
       " '2013-07-26 00:00:00.0',\n",
       " '2013-07-26 00:00:00.0',\n",
       " '2013-07-26 00:00:00.0',\n",
       " '2013-07-26 00:00:00.0',\n",
       " '2013-07-26 00:00:00.0',\n",
       " '2013-07-26 00:00:00.0',\n",
       " '2013-07-26 00:00:00.0',\n",
       " '2013-07-26 00:00:00.0',\n",
       " '2013-07-26 00:00:00.0',\n",
       " '2013-07-26 00:00:00.0',\n",
       " '2013-07-26 00:00:00.0',\n",
       " '2013-07-26 00:00:00.0',\n",
       " '2013-07-26 00:00:00.0',\n",
       " '2013-07-26 00:00:00.0',\n",
       " '2013-07-26 00:00:00.0',\n",
       " '2013-07-26 00:00:00.0',\n",
       " '2013-07-26 00:00:00.0',\n",
       " '2013-07-26 00:00:00.0',\n",
       " '2013-07-26 00:00:00.0',\n",
       " '2013-07-26 00:00:00.0',\n",
       " '2013-07-26 00:00:00.0',\n",
       " '2013-07-26 00:00:00.0',\n",
       " '2013-07-26 00:00:00.0',\n",
       " '2013-07-26 00:00:00.0',\n",
       " '2013-07-26 00:00:00.0',\n",
       " '2013-07-26 00:00:00.0',\n",
       " '2013-07-26 00:00:00.0',\n",
       " '2013-07-26 00:00:00.0',\n",
       " '2013-07-26 00:00:00.0',\n",
       " '2013-07-26 00:00:00.0',\n",
       " '2013-07-26 00:00:00.0',\n",
       " '2013-07-26 00:00:00.0',\n",
       " '2013-07-26 00:00:00.0',\n",
       " '2013-07-26 00:00:00.0',\n",
       " '2013-07-26 00:00:00.0',\n",
       " '2013-07-26 00:00:00.0',\n",
       " '2013-07-26 00:00:00.0',\n",
       " '2013-07-26 00:00:00.0',\n",
       " '2013-07-26 00:00:00.0',\n",
       " '2013-07-26 00:00:00.0',\n",
       " '2013-07-26 00:00:00.0',\n",
       " '2013-07-26 00:00:00.0',\n",
       " '2013-07-26 00:00:00.0',\n",
       " '2013-07-26 00:00:00.0',\n",
       " '2013-07-26 00:00:00.0',\n",
       " '2013-07-26 00:00:00.0',\n",
       " '2013-07-26 00:00:00.0',\n",
       " '2013-07-26 00:00:00.0',\n",
       " '2013-07-26 00:00:00.0',\n",
       " '2013-07-26 00:00:00.0',\n",
       " '2013-07-26 00:00:00.0',\n",
       " '2013-07-26 00:00:00.0',\n",
       " '2013-07-26 00:00:00.0',\n",
       " '2013-07-26 00:00:00.0',\n",
       " '2013-07-26 00:00:00.0',\n",
       " '2013-07-26 00:00:00.0',\n",
       " '2013-07-26 00:00:00.0',\n",
       " '2013-07-26 00:00:00.0',\n",
       " '2013-07-26 00:00:00.0',\n",
       " '2013-07-26 00:00:00.0',\n",
       " '2013-07-26 00:00:00.0',\n",
       " '2013-07-26 00:00:00.0',\n",
       " '2013-07-26 00:00:00.0',\n",
       " '2013-07-26 00:00:00.0',\n",
       " '2013-07-26 00:00:00.0',\n",
       " '2013-07-26 00:00:00.0',\n",
       " '2013-07-26 00:00:00.0',\n",
       " '2013-07-26 00:00:00.0',\n",
       " '2013-07-26 00:00:00.0',\n",
       " '2013-07-26 00:00:00.0',\n",
       " '2013-07-26 00:00:00.0',\n",
       " '2013-07-26 00:00:00.0',\n",
       " '2013-07-26 00:00:00.0',\n",
       " '2013-07-26 00:00:00.0',\n",
       " '2013-07-26 00:00:00.0',\n",
       " '2013-07-26 00:00:00.0',\n",
       " '2013-07-26 00:00:00.0',\n",
       " '2013-07-26 00:00:00.0',\n",
       " '2013-07-26 00:00:00.0',\n",
       " '2013-07-26 00:00:00.0',\n",
       " '2013-07-26 00:00:00.0',\n",
       " '2013-07-26 00:00:00.0',\n",
       " '2013-07-26 00:00:00.0',\n",
       " '2013-07-26 00:00:00.0',\n",
       " '2013-07-26 00:00:00.0',\n",
       " '2013-07-26 00:00:00.0',\n",
       " '2013-07-26 00:00:00.0',\n",
       " '2013-07-26 00:00:00.0',\n",
       " '2013-07-26 00:00:00.0',\n",
       " '2013-07-26 00:00:00.0',\n",
       " '2013-07-26 00:00:00.0',\n",
       " '2013-07-26 00:00:00.0',\n",
       " '2013-07-26 00:00:00.0',\n",
       " '2013-07-26 00:00:00.0',\n",
       " '2013-07-26 00:00:00.0',\n",
       " '2013-07-26 00:00:00.0',\n",
       " '2013-07-26 00:00:00.0',\n",
       " '2013-07-26 00:00:00.0',\n",
       " '2013-07-26 00:00:00.0',\n",
       " '2013-07-26 00:00:00.0',\n",
       " '2013-07-26 00:00:00.0',\n",
       " '2013-07-26 00:00:00.0',\n",
       " '2013-07-26 00:00:00.0',\n",
       " '2013-07-26 00:00:00.0',\n",
       " '2013-07-26 00:00:00.0',\n",
       " '2013-07-26 00:00:00.0',\n",
       " '2013-07-26 00:00:00.0',\n",
       " '2013-07-26 00:00:00.0',\n",
       " '2013-07-26 00:00:00.0',\n",
       " '2013-07-26 00:00:00.0',\n",
       " '2013-07-26 00:00:00.0',\n",
       " '2013-07-26 00:00:00.0',\n",
       " '2013-07-26 00:00:00.0',\n",
       " '2013-07-26 00:00:00.0',\n",
       " '2013-07-26 00:00:00.0',\n",
       " '2013-07-26 00:00:00.0',\n",
       " '2013-07-26 00:00:00.0',\n",
       " '2013-07-26 00:00:00.0',\n",
       " '2013-07-26 00:00:00.0',\n",
       " '2013-07-26 00:00:00.0',\n",
       " '2013-07-26 00:00:00.0',\n",
       " '2013-07-26 00:00:00.0',\n",
       " '2013-07-26 00:00:00.0',\n",
       " '2013-07-26 00:00:00.0',\n",
       " '2013-07-26 00:00:00.0',\n",
       " '2013-07-26 00:00:00.0',\n",
       " '2013-07-26 00:00:00.0',\n",
       " '2013-07-26 00:00:00.0',\n",
       " '2013-07-26 00:00:00.0',\n",
       " '2013-07-26 00:00:00.0',\n",
       " '2013-07-26 00:00:00.0',\n",
       " '2013-07-26 00:00:00.0',\n",
       " '2013-07-26 00:00:00.0',\n",
       " '2013-07-26 00:00:00.0',\n",
       " '2013-07-26 00:00:00.0',\n",
       " '2013-07-26 00:00:00.0',\n",
       " '2013-07-26 00:00:00.0',\n",
       " '2013-07-26 00:00:00.0',\n",
       " '2013-07-26 00:00:00.0',\n",
       " '2013-07-26 00:00:00.0',\n",
       " '2013-07-26 00:00:00.0',\n",
       " '2013-07-26 00:00:00.0',\n",
       " '2013-07-26 00:00:00.0',\n",
       " '2013-07-26 00:00:00.0',\n",
       " '2013-07-26 00:00:00.0',\n",
       " '2013-07-26 00:00:00.0',\n",
       " '2013-07-26 00:00:00.0',\n",
       " '2013-07-26 00:00:00.0',\n",
       " '2013-07-26 00:00:00.0',\n",
       " '2013-07-26 00:00:00.0',\n",
       " '2013-07-26 00:00:00.0',\n",
       " '2013-07-26 00:00:00.0',\n",
       " '2013-07-26 00:00:00.0',\n",
       " '2013-07-26 00:00:00.0',\n",
       " '2013-07-26 00:00:00.0',\n",
       " '2013-07-26 00:00:00.0',\n",
       " '2013-07-26 00:00:00.0',\n",
       " '2013-07-26 00:00:00.0',\n",
       " '2013-07-26 00:00:00.0',\n",
       " '2013-07-26 00:00:00.0',\n",
       " '2013-07-26 00:00:00.0',\n",
       " '2013-07-26 00:00:00.0',\n",
       " '2013-07-26 00:00:00.0',\n",
       " '2013-07-26 00:00:00.0',\n",
       " '2013-07-26 00:00:00.0',\n",
       " '2013-07-26 00:00:00.0',\n",
       " '2013-07-26 00:00:00.0',\n",
       " '2013-07-26 00:00:00.0',\n",
       " '2013-07-26 00:00:00.0',\n",
       " '2013-07-26 00:00:00.0',\n",
       " '2013-07-26 00:00:00.0',\n",
       " '2013-07-26 00:00:00.0',\n",
       " '2013-07-26 00:00:00.0',\n",
       " '2013-07-26 00:00:00.0',\n",
       " '2013-07-26 00:00:00.0',\n",
       " '2013-07-26 00:00:00.0',\n",
       " '2013-07-26 00:00:00.0',\n",
       " '2013-07-26 00:00:00.0',\n",
       " '2013-07-26 00:00:00.0',\n",
       " '2013-07-26 00:00:00.0',\n",
       " '2013-07-26 00:00:00.0',\n",
       " '2013-07-26 00:00:00.0',\n",
       " '2013-07-26 00:00:00.0',\n",
       " '2013-07-26 00:00:00.0',\n",
       " '2013-07-26 00:00:00.0',\n",
       " '2013-07-26 00:00:00.0',\n",
       " '2013-07-26 00:00:00.0',\n",
       " '2013-07-26 00:00:00.0',\n",
       " '2013-07-26 00:00:00.0',\n",
       " '2013-07-26 00:00:00.0',\n",
       " '2013-07-26 00:00:00.0',\n",
       " '2013-07-26 00:00:00.0',\n",
       " '2013-07-26 00:00:00.0',\n",
       " '2013-07-26 00:00:00.0',\n",
       " '2013-07-26 00:00:00.0',\n",
       " '2013-07-26 00:00:00.0',\n",
       " '2013-07-26 00:00:00.0',\n",
       " '2013-07-26 00:00:00.0',\n",
       " '2013-07-26 00:00:00.0',\n",
       " '2013-07-26 00:00:00.0',\n",
       " '2013-07-26 00:00:00.0',\n",
       " '2013-07-26 00:00:00.0',\n",
       " '2013-07-26 00:00:00.0',\n",
       " '2013-07-26 00:00:00.0',\n",
       " '2013-07-26 00:00:00.0',\n",
       " '2013-07-26 00:00:00.0',\n",
       " '2013-07-26 00:00:00.0',\n",
       " '2013-07-26 00:00:00.0',\n",
       " '2013-07-26 00:00:00.0',\n",
       " '2013-07-26 00:00:00.0',\n",
       " '2013-07-26 00:00:00.0',\n",
       " '2013-07-26 00:00:00.0',\n",
       " '2013-07-26 00:00:00.0',\n",
       " '2013-07-27 00:00:00.0',\n",
       " '2013-07-27 00:00:00.0',\n",
       " '2013-07-27 00:00:00.0',\n",
       " '2013-07-27 00:00:00.0',\n",
       " '2013-07-27 00:00:00.0',\n",
       " '2013-07-27 00:00:00.0',\n",
       " '2013-07-27 00:00:00.0',\n",
       " '2013-07-27 00:00:00.0',\n",
       " '2013-07-27 00:00:00.0',\n",
       " '2013-07-27 00:00:00.0',\n",
       " '2013-07-27 00:00:00.0',\n",
       " '2013-07-27 00:00:00.0',\n",
       " '2013-07-27 00:00:00.0',\n",
       " '2013-07-27 00:00:00.0',\n",
       " '2013-07-27 00:00:00.0',\n",
       " '2013-07-27 00:00:00.0',\n",
       " '2013-07-27 00:00:00.0',\n",
       " '2013-07-27 00:00:00.0',\n",
       " '2013-07-27 00:00:00.0',\n",
       " '2013-07-27 00:00:00.0',\n",
       " '2013-07-27 00:00:00.0',\n",
       " '2013-07-27 00:00:00.0',\n",
       " '2013-07-27 00:00:00.0',\n",
       " '2013-07-27 00:00:00.0',\n",
       " '2013-07-27 00:00:00.0',\n",
       " '2013-07-27 00:00:00.0',\n",
       " '2013-07-27 00:00:00.0',\n",
       " '2013-07-27 00:00:00.0',\n",
       " '2013-07-27 00:00:00.0',\n",
       " '2013-07-27 00:00:00.0',\n",
       " '2013-07-27 00:00:00.0',\n",
       " '2013-07-27 00:00:00.0',\n",
       " '2013-07-27 00:00:00.0',\n",
       " '2013-07-27 00:00:00.0',\n",
       " '2013-07-27 00:00:00.0',\n",
       " '2013-07-27 00:00:00.0',\n",
       " '2013-07-27 00:00:00.0',\n",
       " '2013-07-27 00:00:00.0',\n",
       " '2013-07-27 00:00:00.0',\n",
       " '2013-07-27 00:00:00.0',\n",
       " '2013-07-27 00:00:00.0',\n",
       " '2013-07-27 00:00:00.0',\n",
       " '2013-07-27 00:00:00.0',\n",
       " '2013-07-27 00:00:00.0',\n",
       " '2013-07-27 00:00:00.0',\n",
       " '2013-07-27 00:00:00.0',\n",
       " '2013-07-27 00:00:00.0',\n",
       " '2013-07-27 00:00:00.0',\n",
       " '2013-07-27 00:00:00.0',\n",
       " '2013-07-27 00:00:00.0',\n",
       " '2013-07-27 00:00:00.0',\n",
       " '2013-07-27 00:00:00.0',\n",
       " '2013-07-27 00:00:00.0',\n",
       " '2013-07-27 00:00:00.0',\n",
       " '2013-07-27 00:00:00.0',\n",
       " '2013-07-27 00:00:00.0',\n",
       " '2013-07-27 00:00:00.0',\n",
       " '2013-07-27 00:00:00.0',\n",
       " '2013-07-27 00:00:00.0',\n",
       " '2013-07-27 00:00:00.0',\n",
       " '2013-07-27 00:00:00.0',\n",
       " '2013-07-27 00:00:00.0',\n",
       " '2013-07-27 00:00:00.0',\n",
       " '2013-07-27 00:00:00.0',\n",
       " '2013-07-27 00:00:00.0',\n",
       " '2013-07-27 00:00:00.0',\n",
       " '2013-07-27 00:00:00.0',\n",
       " '2013-07-27 00:00:00.0',\n",
       " '2013-07-27 00:00:00.0',\n",
       " '2013-07-27 00:00:00.0',\n",
       " '2013-07-27 00:00:00.0',\n",
       " '2013-07-27 00:00:00.0',\n",
       " '2013-07-27 00:00:00.0',\n",
       " '2013-07-27 00:00:00.0',\n",
       " '2013-07-27 00:00:00.0',\n",
       " '2013-07-27 00:00:00.0',\n",
       " '2013-07-27 00:00:00.0',\n",
       " '2013-07-27 00:00:00.0',\n",
       " '2013-07-27 00:00:00.0',\n",
       " '2013-07-27 00:00:00.0',\n",
       " '2013-07-27 00:00:00.0',\n",
       " '2013-07-27 00:00:00.0',\n",
       " '2013-07-27 00:00:00.0',\n",
       " '2013-07-27 00:00:00.0',\n",
       " '2013-07-27 00:00:00.0',\n",
       " '2013-07-27 00:00:00.0',\n",
       " '2013-07-27 00:00:00.0',\n",
       " '2013-07-27 00:00:00.0',\n",
       " '2013-07-27 00:00:00.0',\n",
       " '2013-07-27 00:00:00.0',\n",
       " '2013-07-27 00:00:00.0',\n",
       " '2013-07-27 00:00:00.0',\n",
       " '2013-07-27 00:00:00.0',\n",
       " '2013-07-27 00:00:00.0',\n",
       " '2013-07-27 00:00:00.0',\n",
       " '2013-07-27 00:00:00.0',\n",
       " '2013-07-27 00:00:00.0',\n",
       " '2013-07-27 00:00:00.0',\n",
       " '2013-07-27 00:00:00.0',\n",
       " '2013-07-27 00:00:00.0',\n",
       " '2013-07-27 00:00:00.0',\n",
       " '2013-07-27 00:00:00.0',\n",
       " '2013-07-27 00:00:00.0',\n",
       " '2013-07-27 00:00:00.0',\n",
       " '2013-07-27 00:00:00.0',\n",
       " '2013-07-27 00:00:00.0',\n",
       " '2013-07-27 00:00:00.0',\n",
       " '2013-07-27 00:00:00.0',\n",
       " '2013-07-27 00:00:00.0',\n",
       " '2013-07-27 00:00:00.0',\n",
       " '2013-07-27 00:00:00.0',\n",
       " '2013-07-27 00:00:00.0',\n",
       " '2013-07-27 00:00:00.0',\n",
       " '2013-07-27 00:00:00.0',\n",
       " '2013-07-27 00:00:00.0',\n",
       " '2013-07-27 00:00:00.0',\n",
       " '2013-07-27 00:00:00.0',\n",
       " '2013-07-27 00:00:00.0',\n",
       " '2013-07-27 00:00:00.0',\n",
       " '2013-07-27 00:00:00.0',\n",
       " '2013-07-27 00:00:00.0',\n",
       " '2013-07-27 00:00:00.0',\n",
       " '2013-07-27 00:00:00.0',\n",
       " '2013-07-27 00:00:00.0',\n",
       " '2013-07-27 00:00:00.0',\n",
       " '2013-07-27 00:00:00.0',\n",
       " '2013-07-27 00:00:00.0',\n",
       " '2013-07-27 00:00:00.0',\n",
       " '2013-07-27 00:00:00.0',\n",
       " '2013-07-27 00:00:00.0',\n",
       " '2013-07-27 00:00:00.0',\n",
       " '2013-07-27 00:00:00.0',\n",
       " '2013-07-27 00:00:00.0',\n",
       " '2013-07-27 00:00:00.0',\n",
       " '2013-07-27 00:00:00.0',\n",
       " '2013-07-27 00:00:00.0',\n",
       " '2013-07-27 00:00:00.0',\n",
       " '2013-07-27 00:00:00.0',\n",
       " '2013-07-27 00:00:00.0',\n",
       " '2013-07-27 00:00:00.0',\n",
       " '2013-07-27 00:00:00.0',\n",
       " '2013-07-27 00:00:00.0',\n",
       " '2013-07-27 00:00:00.0',\n",
       " '2013-07-27 00:00:00.0',\n",
       " '2013-07-27 00:00:00.0',\n",
       " '2013-07-27 00:00:00.0',\n",
       " '2013-07-27 00:00:00.0',\n",
       " '2013-07-27 00:00:00.0',\n",
       " '2013-07-27 00:00:00.0',\n",
       " '2013-07-27 00:00:00.0',\n",
       " '2013-07-27 00:00:00.0',\n",
       " '2013-07-27 00:00:00.0',\n",
       " '2013-07-27 00:00:00.0',\n",
       " '2013-07-27 00:00:00.0',\n",
       " '2013-07-27 00:00:00.0',\n",
       " '2013-07-27 00:00:00.0',\n",
       " '2013-07-27 00:00:00.0',\n",
       " '2013-07-27 00:00:00.0',\n",
       " '2013-07-27 00:00:00.0',\n",
       " '2013-07-27 00:00:00.0',\n",
       " '2013-07-27 00:00:00.0',\n",
       " '2013-07-27 00:00:00.0',\n",
       " '2013-07-27 00:00:00.0',\n",
       " '2013-07-28 00:00:00.0',\n",
       " '2013-07-28 00:00:00.0',\n",
       " '2013-07-28 00:00:00.0',\n",
       " '2013-07-28 00:00:00.0',\n",
       " '2013-07-28 00:00:00.0',\n",
       " '2013-07-28 00:00:00.0',\n",
       " '2013-07-28 00:00:00.0',\n",
       " '2013-07-28 00:00:00.0',\n",
       " '2013-07-28 00:00:00.0',\n",
       " '2013-07-28 00:00:00.0',\n",
       " '2013-07-28 00:00:00.0',\n",
       " '2013-07-28 00:00:00.0',\n",
       " '2013-07-28 00:00:00.0',\n",
       " '2013-07-28 00:00:00.0',\n",
       " '2013-07-28 00:00:00.0',\n",
       " '2013-07-28 00:00:00.0',\n",
       " '2013-07-28 00:00:00.0',\n",
       " '2013-07-28 00:00:00.0',\n",
       " '2013-07-28 00:00:00.0',\n",
       " '2013-07-28 00:00:00.0',\n",
       " '2013-07-28 00:00:00.0',\n",
       " '2013-07-28 00:00:00.0',\n",
       " '2013-07-28 00:00:00.0',\n",
       " '2013-07-28 00:00:00.0',\n",
       " '2013-07-28 00:00:00.0',\n",
       " '2013-07-28 00:00:00.0',\n",
       " '2013-07-28 00:00:00.0',\n",
       " '2013-07-28 00:00:00.0',\n",
       " '2013-07-28 00:00:00.0',\n",
       " '2013-07-28 00:00:00.0',\n",
       " '2013-07-28 00:00:00.0',\n",
       " '2013-07-28 00:00:00.0',\n",
       " '2013-07-28 00:00:00.0',\n",
       " '2013-07-28 00:00:00.0',\n",
       " '2013-07-28 00:00:00.0',\n",
       " '2013-07-28 00:00:00.0',\n",
       " '2013-07-28 00:00:00.0',\n",
       " '2013-07-28 00:00:00.0',\n",
       " '2013-07-28 00:00:00.0',\n",
       " '2013-07-28 00:00:00.0',\n",
       " '2013-07-28 00:00:00.0',\n",
       " '2013-07-28 00:00:00.0',\n",
       " '2013-07-28 00:00:00.0',\n",
       " '2013-07-28 00:00:00.0',\n",
       " '2013-07-28 00:00:00.0',\n",
       " '2013-07-28 00:00:00.0',\n",
       " '2013-07-28 00:00:00.0',\n",
       " '2013-07-28 00:00:00.0',\n",
       " '2013-07-28 00:00:00.0',\n",
       " '2013-07-28 00:00:00.0',\n",
       " '2013-07-28 00:00:00.0',\n",
       " '2013-07-28 00:00:00.0',\n",
       " '2013-07-28 00:00:00.0',\n",
       " '2013-07-28 00:00:00.0',\n",
       " '2013-07-28 00:00:00.0',\n",
       " '2013-07-28 00:00:00.0',\n",
       " '2013-07-28 00:00:00.0',\n",
       " '2013-07-28 00:00:00.0',\n",
       " '2013-07-28 00:00:00.0',\n",
       " '2013-07-28 00:00:00.0',\n",
       " '2013-07-28 00:00:00.0',\n",
       " '2013-07-28 00:00:00.0',\n",
       " '2013-07-28 00:00:00.0',\n",
       " '2013-07-28 00:00:00.0',\n",
       " '2013-07-28 00:00:00.0',\n",
       " '2013-07-28 00:00:00.0',\n",
       " '2013-07-28 00:00:00.0',\n",
       " '2013-07-28 00:00:00.0',\n",
       " '2013-07-28 00:00:00.0',\n",
       " '2013-07-28 00:00:00.0',\n",
       " '2013-07-28 00:00:00.0',\n",
       " '2013-07-28 00:00:00.0',\n",
       " '2013-07-28 00:00:00.0',\n",
       " '2013-07-28 00:00:00.0',\n",
       " '2013-07-28 00:00:00.0',\n",
       " '2013-07-28 00:00:00.0',\n",
       " '2013-07-28 00:00:00.0',\n",
       " '2013-07-28 00:00:00.0',\n",
       " '2013-07-28 00:00:00.0',\n",
       " '2013-07-28 00:00:00.0',\n",
       " '2013-07-28 00:00:00.0',\n",
       " '2013-07-28 00:00:00.0',\n",
       " '2013-07-28 00:00:00.0',\n",
       " '2013-07-28 00:00:00.0',\n",
       " '2013-07-28 00:00:00.0',\n",
       " '2013-07-28 00:00:00.0',\n",
       " '2013-07-28 00:00:00.0',\n",
       " '2013-07-28 00:00:00.0',\n",
       " '2013-07-28 00:00:00.0',\n",
       " '2013-07-28 00:00:00.0',\n",
       " '2013-07-28 00:00:00.0',\n",
       " '2013-07-28 00:00:00.0',\n",
       " '2013-07-28 00:00:00.0',\n",
       " '2013-07-28 00:00:00.0',\n",
       " '2013-07-28 00:00:00.0',\n",
       " '2013-07-28 00:00:00.0',\n",
       " '2013-07-28 00:00:00.0',\n",
       " '2013-07-28 00:00:00.0',\n",
       " '2013-07-28 00:00:00.0',\n",
       " '2013-07-28 00:00:00.0',\n",
       " '2013-07-28 00:00:00.0',\n",
       " '2013-07-28 00:00:00.0',\n",
       " '2013-07-28 00:00:00.0',\n",
       " '2013-07-28 00:00:00.0',\n",
       " '2013-07-28 00:00:00.0',\n",
       " '2013-07-28 00:00:00.0',\n",
       " '2013-07-28 00:00:00.0',\n",
       " '2013-07-28 00:00:00.0',\n",
       " '2013-07-28 00:00:00.0',\n",
       " '2013-07-28 00:00:00.0',\n",
       " '2013-07-28 00:00:00.0',\n",
       " '2013-07-28 00:00:00.0',\n",
       " '2013-07-28 00:00:00.0',\n",
       " '2013-07-28 00:00:00.0',\n",
       " '2013-07-28 00:00:00.0',\n",
       " '2013-07-28 00:00:00.0',\n",
       " '2013-07-28 00:00:00.0',\n",
       " '2013-07-28 00:00:00.0',\n",
       " '2013-07-28 00:00:00.0',\n",
       " '2013-07-28 00:00:00.0',\n",
       " '2013-07-28 00:00:00.0',\n",
       " '2013-07-28 00:00:00.0',\n",
       " '2013-07-28 00:00:00.0',\n",
       " '2013-07-28 00:00:00.0',\n",
       " '2013-07-28 00:00:00.0',\n",
       " '2013-07-28 00:00:00.0',\n",
       " '2013-07-28 00:00:00.0',\n",
       " '2013-07-28 00:00:00.0',\n",
       " '2013-07-28 00:00:00.0',\n",
       " '2013-07-28 00:00:00.0',\n",
       " '2013-07-28 00:00:00.0',\n",
       " '2013-07-28 00:00:00.0',\n",
       " '2013-07-28 00:00:00.0',\n",
       " '2013-07-28 00:00:00.0',\n",
       " '2013-07-28 00:00:00.0',\n",
       " '2013-07-28 00:00:00.0',\n",
       " '2013-07-28 00:00:00.0',\n",
       " '2013-07-28 00:00:00.0',\n",
       " '2013-07-28 00:00:00.0',\n",
       " '2013-07-28 00:00:00.0',\n",
       " '2013-07-28 00:00:00.0',\n",
       " '2013-07-28 00:00:00.0',\n",
       " '2013-07-28 00:00:00.0',\n",
       " '2013-07-28 00:00:00.0',\n",
       " '2013-07-28 00:00:00.0',\n",
       " '2013-07-28 00:00:00.0',\n",
       " '2013-07-28 00:00:00.0',\n",
       " '2013-07-28 00:00:00.0',\n",
       " '2013-07-28 00:00:00.0',\n",
       " '2013-07-28 00:00:00.0',\n",
       " '2013-07-28 00:00:00.0',\n",
       " '2013-07-28 00:00:00.0',\n",
       " '2013-07-28 00:00:00.0',\n",
       " '2013-07-28 00:00:00.0',\n",
       " '2013-07-28 00:00:00.0',\n",
       " '2013-07-28 00:00:00.0',\n",
       " '2013-07-28 00:00:00.0',\n",
       " '2013-07-28 00:00:00.0',\n",
       " '2013-07-28 00:00:00.0',\n",
       " '2013-07-28 00:00:00.0',\n",
       " '2013-07-28 00:00:00.0',\n",
       " '2013-07-28 00:00:00.0',\n",
       " '2013-07-29 00:00:00.0',\n",
       " '2013-07-29 00:00:00.0',\n",
       " '2013-07-29 00:00:00.0',\n",
       " '2013-07-29 00:00:00.0',\n",
       " '2013-07-29 00:00:00.0',\n",
       " '2013-07-29 00:00:00.0',\n",
       " '2013-07-29 00:00:00.0',\n",
       " '2013-07-29 00:00:00.0',\n",
       " '2013-07-29 00:00:00.0',\n",
       " '2013-07-29 00:00:00.0',\n",
       " '2013-07-29 00:00:00.0',\n",
       " '2013-07-29 00:00:00.0',\n",
       " '2013-07-29 00:00:00.0',\n",
       " '2013-07-29 00:00:00.0',\n",
       " '2013-07-29 00:00:00.0',\n",
       " '2013-07-29 00:00:00.0',\n",
       " '2013-07-29 00:00:00.0',\n",
       " '2013-07-29 00:00:00.0',\n",
       " '2013-07-29 00:00:00.0',\n",
       " '2013-07-29 00:00:00.0',\n",
       " '2013-07-29 00:00:00.0',\n",
       " '2013-07-29 00:00:00.0',\n",
       " '2013-07-29 00:00:00.0',\n",
       " '2013-07-29 00:00:00.0',\n",
       " '2013-07-29 00:00:00.0',\n",
       " '2013-07-29 00:00:00.0',\n",
       " '2013-07-29 00:00:00.0',\n",
       " '2013-07-29 00:00:00.0',\n",
       " '2013-07-29 00:00:00.0',\n",
       " '2013-07-29 00:00:00.0',\n",
       " '2013-07-29 00:00:00.0',\n",
       " '2013-07-29 00:00:00.0',\n",
       " '2013-07-29 00:00:00.0',\n",
       " '2013-07-29 00:00:00.0',\n",
       " '2013-07-29 00:00:00.0',\n",
       " '2013-07-29 00:00:00.0',\n",
       " '2013-07-29 00:00:00.0',\n",
       " '2013-07-29 00:00:00.0',\n",
       " '2013-07-29 00:00:00.0',\n",
       " '2013-07-29 00:00:00.0',\n",
       " '2013-07-29 00:00:00.0',\n",
       " '2013-07-29 00:00:00.0',\n",
       " '2013-07-29 00:00:00.0',\n",
       " '2013-07-29 00:00:00.0',\n",
       " '2013-07-29 00:00:00.0',\n",
       " '2013-07-29 00:00:00.0',\n",
       " '2013-07-29 00:00:00.0',\n",
       " '2013-07-29 00:00:00.0',\n",
       " '2013-07-29 00:00:00.0',\n",
       " '2013-07-29 00:00:00.0',\n",
       " '2013-07-29 00:00:00.0',\n",
       " '2013-07-29 00:00:00.0',\n",
       " '2013-07-29 00:00:00.0',\n",
       " '2013-07-29 00:00:00.0',\n",
       " '2013-07-29 00:00:00.0',\n",
       " '2013-07-29 00:00:00.0',\n",
       " '2013-07-29 00:00:00.0',\n",
       " '2013-07-29 00:00:00.0',\n",
       " '2013-07-29 00:00:00.0',\n",
       " '2013-07-29 00:00:00.0',\n",
       " '2013-07-29 00:00:00.0',\n",
       " '2013-07-29 00:00:00.0',\n",
       " '2013-07-29 00:00:00.0',\n",
       " '2013-07-29 00:00:00.0',\n",
       " '2013-07-29 00:00:00.0',\n",
       " '2013-07-29 00:00:00.0',\n",
       " '2013-07-29 00:00:00.0',\n",
       " '2013-07-29 00:00:00.0',\n",
       " '2013-07-29 00:00:00.0',\n",
       " '2013-07-29 00:00:00.0',\n",
       " '2013-07-29 00:00:00.0',\n",
       " '2013-07-29 00:00:00.0',\n",
       " '2013-07-29 00:00:00.0',\n",
       " '2013-07-29 00:00:00.0',\n",
       " '2013-07-29 00:00:00.0',\n",
       " '2013-07-29 00:00:00.0',\n",
       " '2013-07-29 00:00:00.0',\n",
       " '2013-07-29 00:00:00.0',\n",
       " '2013-07-29 00:00:00.0',\n",
       " '2013-07-29 00:00:00.0',\n",
       " '2013-07-29 00:00:00.0',\n",
       " '2013-07-29 00:00:00.0',\n",
       " '2013-07-29 00:00:00.0',\n",
       " '2013-07-29 00:00:00.0',\n",
       " '2013-07-29 00:00:00.0',\n",
       " '2013-07-29 00:00:00.0',\n",
       " '2013-07-29 00:00:00.0',\n",
       " '2013-07-29 00:00:00.0',\n",
       " '2013-07-29 00:00:00.0',\n",
       " '2013-07-29 00:00:00.0',\n",
       " '2013-07-29 00:00:00.0',\n",
       " '2013-07-29 00:00:00.0',\n",
       " '2013-07-29 00:00:00.0',\n",
       " '2013-07-29 00:00:00.0',\n",
       " '2013-07-29 00:00:00.0',\n",
       " '2013-07-29 00:00:00.0',\n",
       " '2013-07-29 00:00:00.0',\n",
       " '2013-07-29 00:00:00.0',\n",
       " '2013-07-29 00:00:00.0',\n",
       " '2013-07-29 00:00:00.0',\n",
       " '2013-07-29 00:00:00.0',\n",
       " '2013-07-29 00:00:00.0',\n",
       " '2013-07-29 00:00:00.0',\n",
       " '2013-07-29 00:00:00.0',\n",
       " '2013-07-29 00:00:00.0',\n",
       " '2013-07-29 00:00:00.0',\n",
       " '2013-07-29 00:00:00.0',\n",
       " '2013-07-29 00:00:00.0',\n",
       " '2013-07-29 00:00:00.0',\n",
       " '2013-07-29 00:00:00.0',\n",
       " '2013-07-29 00:00:00.0',\n",
       " '2013-07-29 00:00:00.0',\n",
       " '2013-07-29 00:00:00.0',\n",
       " '2013-07-29 00:00:00.0',\n",
       " '2013-07-29 00:00:00.0',\n",
       " '2013-07-29 00:00:00.0',\n",
       " '2013-07-29 00:00:00.0',\n",
       " '2013-07-29 00:00:00.0',\n",
       " '2013-07-29 00:00:00.0',\n",
       " '2013-07-29 00:00:00.0',\n",
       " '2013-07-29 00:00:00.0',\n",
       " '2013-07-29 00:00:00.0',\n",
       " '2013-07-29 00:00:00.0',\n",
       " '2013-07-29 00:00:00.0',\n",
       " '2013-07-29 00:00:00.0',\n",
       " '2013-07-29 00:00:00.0',\n",
       " '2013-07-29 00:00:00.0',\n",
       " '2013-07-29 00:00:00.0',\n",
       " '2013-07-29 00:00:00.0',\n",
       " '2013-07-29 00:00:00.0',\n",
       " '2013-07-29 00:00:00.0',\n",
       " '2013-07-29 00:00:00.0',\n",
       " '2013-07-29 00:00:00.0',\n",
       " '2013-07-29 00:00:00.0',\n",
       " '2013-07-29 00:00:00.0',\n",
       " '2013-07-29 00:00:00.0',\n",
       " '2013-07-29 00:00:00.0',\n",
       " '2013-07-29 00:00:00.0',\n",
       " '2013-07-29 00:00:00.0',\n",
       " '2013-07-29 00:00:00.0',\n",
       " '2013-07-29 00:00:00.0',\n",
       " '2013-07-29 00:00:00.0',\n",
       " '2013-07-29 00:00:00.0',\n",
       " '2013-07-29 00:00:00.0',\n",
       " '2013-07-29 00:00:00.0',\n",
       " '2013-07-29 00:00:00.0',\n",
       " '2013-07-29 00:00:00.0',\n",
       " '2013-07-29 00:00:00.0',\n",
       " '2013-07-29 00:00:00.0',\n",
       " '2013-07-29 00:00:00.0',\n",
       " '2013-07-29 00:00:00.0',\n",
       " '2013-07-29 00:00:00.0',\n",
       " '2013-07-29 00:00:00.0',\n",
       " '2013-07-29 00:00:00.0',\n",
       " '2013-07-29 00:00:00.0',\n",
       " '2013-07-29 00:00:00.0',\n",
       " '2013-07-29 00:00:00.0',\n",
       " '2013-07-29 00:00:00.0',\n",
       " '2013-07-29 00:00:00.0',\n",
       " '2013-07-29 00:00:00.0',\n",
       " '2013-07-29 00:00:00.0',\n",
       " '2013-07-29 00:00:00.0',\n",
       " '2013-07-29 00:00:00.0',\n",
       " '2013-07-29 00:00:00.0',\n",
       " '2013-07-29 00:00:00.0',\n",
       " '2013-07-29 00:00:00.0',\n",
       " '2013-07-29 00:00:00.0',\n",
       " '2013-07-29 00:00:00.0',\n",
       " '2013-07-29 00:00:00.0',\n",
       " '2013-07-29 00:00:00.0',\n",
       " '2013-07-29 00:00:00.0',\n",
       " '2013-07-29 00:00:00.0',\n",
       " '2013-07-29 00:00:00.0',\n",
       " '2013-07-29 00:00:00.0',\n",
       " '2013-07-29 00:00:00.0',\n",
       " '2013-07-29 00:00:00.0',\n",
       " '2013-07-29 00:00:00.0',\n",
       " '2013-07-29 00:00:00.0',\n",
       " '2013-07-29 00:00:00.0',\n",
       " '2013-07-29 00:00:00.0',\n",
       " '2013-07-29 00:00:00.0',\n",
       " '2013-07-29 00:00:00.0',\n",
       " '2013-07-29 00:00:00.0',\n",
       " '2013-07-29 00:00:00.0',\n",
       " '2013-07-29 00:00:00.0',\n",
       " '2013-07-29 00:00:00.0',\n",
       " '2013-07-29 00:00:00.0',\n",
       " '2013-07-29 00:00:00.0',\n",
       " '2013-07-29 00:00:00.0',\n",
       " '2013-07-29 00:00:00.0',\n",
       " '2013-07-29 00:00:00.0',\n",
       " '2013-07-29 00:00:00.0',\n",
       " '2013-07-29 00:00:00.0',\n",
       " '2013-07-29 00:00:00.0',\n",
       " '2013-07-29 00:00:00.0',\n",
       " '2013-07-29 00:00:00.0',\n",
       " '2013-07-29 00:00:00.0',\n",
       " '2013-07-29 00:00:00.0',\n",
       " '2013-07-29 00:00:00.0',\n",
       " '2013-07-29 00:00:00.0',\n",
       " '2013-07-29 00:00:00.0',\n",
       " '2013-07-29 00:00:00.0',\n",
       " '2013-07-29 00:00:00.0',\n",
       " '2013-07-29 00:00:00.0',\n",
       " '2013-07-29 00:00:00.0',\n",
       " '2013-07-29 00:00:00.0',\n",
       " '2013-07-30 00:00:00.0',\n",
       " '2013-07-30 00:00:00.0',\n",
       " '2013-07-30 00:00:00.0',\n",
       " '2013-07-30 00:00:00.0',\n",
       " '2013-07-30 00:00:00.0',\n",
       " '2013-07-30 00:00:00.0',\n",
       " '2013-07-30 00:00:00.0',\n",
       " '2013-07-30 00:00:00.0',\n",
       " '2013-07-30 00:00:00.0',\n",
       " '2013-07-30 00:00:00.0',\n",
       " '2013-07-30 00:00:00.0',\n",
       " '2013-07-30 00:00:00.0',\n",
       " '2013-07-30 00:00:00.0',\n",
       " '2013-07-30 00:00:00.0',\n",
       " '2013-07-30 00:00:00.0',\n",
       " '2013-07-30 00:00:00.0',\n",
       " '2013-07-30 00:00:00.0',\n",
       " '2013-07-30 00:00:00.0',\n",
       " '2013-07-30 00:00:00.0',\n",
       " '2013-07-30 00:00:00.0',\n",
       " '2013-07-30 00:00:00.0',\n",
       " '2013-07-30 00:00:00.0',\n",
       " '2013-07-30 00:00:00.0',\n",
       " '2013-07-30 00:00:00.0',\n",
       " '2013-07-30 00:00:00.0',\n",
       " '2013-07-30 00:00:00.0',\n",
       " '2013-07-30 00:00:00.0',\n",
       " '2013-07-30 00:00:00.0',\n",
       " '2013-07-30 00:00:00.0',\n",
       " '2013-07-30 00:00:00.0',\n",
       " '2013-07-30 00:00:00.0',\n",
       " '2013-07-30 00:00:00.0',\n",
       " '2013-07-30 00:00:00.0',\n",
       " '2013-07-30 00:00:00.0',\n",
       " '2013-07-30 00:00:00.0',\n",
       " '2013-07-30 00:00:00.0',\n",
       " '2013-07-30 00:00:00.0',\n",
       " '2013-07-30 00:00:00.0',\n",
       " '2013-07-30 00:00:00.0',\n",
       " '2013-07-30 00:00:00.0',\n",
       " '2013-07-30 00:00:00.0',\n",
       " '2013-07-30 00:00:00.0',\n",
       " '2013-07-30 00:00:00.0',\n",
       " '2013-07-30 00:00:00.0',\n",
       " '2013-07-30 00:00:00.0',\n",
       " '2013-07-30 00:00:00.0',\n",
       " '2013-07-30 00:00:00.0',\n",
       " '2013-07-30 00:00:00.0',\n",
       " '2013-07-30 00:00:00.0',\n",
       " '2013-07-30 00:00:00.0',\n",
       " '2013-07-30 00:00:00.0',\n",
       " '2013-07-30 00:00:00.0',\n",
       " '2013-07-30 00:00:00.0',\n",
       " '2013-07-30 00:00:00.0',\n",
       " '2013-07-30 00:00:00.0',\n",
       " '2013-07-30 00:00:00.0',\n",
       " '2013-07-30 00:00:00.0',\n",
       " '2013-07-30 00:00:00.0',\n",
       " '2013-07-30 00:00:00.0',\n",
       " '2013-07-30 00:00:00.0',\n",
       " '2013-07-30 00:00:00.0',\n",
       " '2013-07-30 00:00:00.0',\n",
       " '2013-07-30 00:00:00.0',\n",
       " '2013-07-30 00:00:00.0',\n",
       " '2013-07-30 00:00:00.0',\n",
       " '2013-07-30 00:00:00.0',\n",
       " '2013-07-30 00:00:00.0',\n",
       " '2013-07-30 00:00:00.0',\n",
       " '2013-07-30 00:00:00.0',\n",
       " '2013-07-30 00:00:00.0',\n",
       " '2013-07-30 00:00:00.0',\n",
       " '2013-07-30 00:00:00.0',\n",
       " '2013-07-30 00:00:00.0',\n",
       " '2013-07-30 00:00:00.0',\n",
       " '2013-07-30 00:00:00.0',\n",
       " '2013-07-30 00:00:00.0',\n",
       " '2013-07-30 00:00:00.0',\n",
       " '2013-07-30 00:00:00.0',\n",
       " '2013-07-30 00:00:00.0',\n",
       " '2013-07-30 00:00:00.0',\n",
       " '2013-07-30 00:00:00.0',\n",
       " '2013-07-30 00:00:00.0',\n",
       " '2013-07-30 00:00:00.0',\n",
       " '2013-07-30 00:00:00.0',\n",
       " '2013-07-30 00:00:00.0',\n",
       " '2013-07-30 00:00:00.0',\n",
       " '2013-07-30 00:00:00.0',\n",
       " '2013-07-30 00:00:00.0',\n",
       " '2013-07-30 00:00:00.0',\n",
       " '2013-07-30 00:00:00.0',\n",
       " '2013-07-30 00:00:00.0',\n",
       " '2013-07-30 00:00:00.0',\n",
       " '2013-07-30 00:00:00.0',\n",
       " '2013-07-30 00:00:00.0',\n",
       " '2013-07-30 00:00:00.0',\n",
       " '2013-07-30 00:00:00.0',\n",
       " '2013-07-30 00:00:00.0',\n",
       " '2013-07-30 00:00:00.0',\n",
       " '2013-07-30 00:00:00.0',\n",
       " '2013-07-30 00:00:00.0',\n",
       " '2013-07-30 00:00:00.0',\n",
       " '2013-07-30 00:00:00.0',\n",
       " '2013-07-30 00:00:00.0',\n",
       " '2013-07-30 00:00:00.0',\n",
       " '2013-07-30 00:00:00.0',\n",
       " '2013-07-30 00:00:00.0',\n",
       " '2013-07-30 00:00:00.0',\n",
       " '2013-07-30 00:00:00.0',\n",
       " '2013-07-30 00:00:00.0',\n",
       " '2013-07-30 00:00:00.0',\n",
       " '2013-07-30 00:00:00.0',\n",
       " '2013-07-30 00:00:00.0',\n",
       " '2013-07-30 00:00:00.0',\n",
       " '2013-07-30 00:00:00.0',\n",
       " '2013-07-30 00:00:00.0',\n",
       " '2013-07-30 00:00:00.0',\n",
       " '2013-07-30 00:00:00.0',\n",
       " '2013-07-30 00:00:00.0',\n",
       " '2013-07-30 00:00:00.0',\n",
       " '2013-07-30 00:00:00.0',\n",
       " '2013-07-30 00:00:00.0',\n",
       " '2013-07-30 00:00:00.0',\n",
       " '2013-07-30 00:00:00.0',\n",
       " ...]"
      ]
     },
     "execution_count": 215,
     "metadata": {},
     "output_type": "execute_result"
    }
   ],
   "source": [
    "list(map(lambda s: s.split(',')[1], orders))"
   ]
  },
  {
   "cell_type": "code",
   "execution_count": 213,
   "metadata": {},
   "outputs": [],
   "source": [
    "def get_date(s): return s.split(',')[1]"
   ]
  },
  {
   "cell_type": "code",
   "execution_count": 214,
   "metadata": {},
   "outputs": [
    {
     "data": {
      "text/plain": [
       "['2013-07-25 00:00:00.0',\n",
       " '2013-07-25 00:00:00.0',\n",
       " '2013-07-25 00:00:00.0',\n",
       " '2013-07-25 00:00:00.0',\n",
       " '2013-07-25 00:00:00.0',\n",
       " '2013-07-25 00:00:00.0',\n",
       " '2013-07-25 00:00:00.0',\n",
       " '2013-07-25 00:00:00.0',\n",
       " '2013-07-25 00:00:00.0',\n",
       " '2013-07-25 00:00:00.0']"
      ]
     },
     "execution_count": 214,
     "metadata": {},
     "output_type": "execute_result"
    }
   ],
   "source": [
    "list(map(get_date, orders))[:10]"
   ]
  },
  {
   "cell_type": "code",
   "execution_count": null,
   "metadata": {},
   "outputs": [],
   "source": []
  }
 ],
 "metadata": {
  "kernelspec": {
   "display_name": "Python 3",
   "language": "python",
   "name": "python3"
  },
  "language_info": {
   "codemirror_mode": {
    "name": "ipython",
    "version": 3
   },
   "file_extension": ".py",
   "mimetype": "text/x-python",
   "name": "python",
   "nbconvert_exporter": "python",
   "pygments_lexer": "ipython3",
   "version": "3.7.4"
  }
 },
 "nbformat": 4,
 "nbformat_minor": 4
}
