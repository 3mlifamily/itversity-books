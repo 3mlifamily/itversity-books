{
 "cells": [
  {
   "cell_type": "markdown",
   "metadata": {
    "slideshow": {
     "slide_type": "slide"
    }
   },
   "source": [
    "# All about Functions\n",
    "Let us talk about the functions in detail. We will primarily focus on functions that come as part of Python Standard Library and then how to develop our own functions."
   ]
  },
  {
   "cell_type": "markdown",
   "metadata": {},
   "source": [
    "## Pre-defined Functions\n",
    "As any programming language, Python also has robust pre-defined functions. \n",
    "\n",
    "Following are the ones Data Engineers typically use:\n",
    "* String Manipulation Functions\n",
    "* Date and Time Manipulation Functions\n",
    "* Collection Manipulation Functions\n",
    "* Sometimes we use functions that are available as part of core python. But in the case of Data Engineering Projects we use modules such as pandas, pyspark etc.\n"
   ]
  },
  {
   "cell_type": "markdown",
   "metadata": {},
   "source": [
    "## Special Functions\n",
    "Functions that are enclosed with double underscores and others."
   ]
  },
  {
   "cell_type": "code",
   "execution_count": null,
   "metadata": {},
   "outputs": [],
   "source": [
    "help(str)"
   ]
  },
  {
   "cell_type": "markdown",
   "metadata": {},
   "source": [
    "## String Manipulation Functions\n",
    "In Python, depending on the nature of the project we might manipulate strings using functions that come as part of higher level modules such as pandas, pyspark etc. However, we will go through some of the string manipulation functions to get an idea about how to use existing functions.\n",
    "\n",
    "As in any programming language, a string in Python is nothing but a list of characters. We can access elements in a list using index based operations.\n",
    "\n",
    "Let us understand some common string manipulations we perform in any application.\n",
    "* Extracting information from fixed length strings (eg: last 4 digits of social security number). There is no substring function. However, we can use index based operations to extract information from fixed length strings.\n",
    "* Extracting information from delimited strings (eg: extract first field from record where fields are comma separated)\n",
    "* Trimming unnecessary characters at the beginning or at the end of the string.\n",
    "* Length of the string for data quality (eg: checking if telephone number is 10 digits or not)\n",
    "* Validating the type of content in string (eg: checking if social security number which is passed as string have only numbers or not)\n",
    "* Converting case of the string\n",
    "* Replacing part of the string\n",
    "* Counting how many times a particular substring is repeated in the main string.\n"
   ]
  },
  {
   "cell_type": "code",
   "execution_count": null,
   "metadata": {},
   "outputs": [],
   "source": [
    "# Last 4 digits of SSN\n",
    "ssn = '1234567890'\n",
    "# ssn[6:10]\n",
    "ssn[6:]"
   ]
  },
  {
   "cell_type": "code",
   "execution_count": null,
   "metadata": {},
   "outputs": [],
   "source": [
    "# Last 4 digits of SSN (alternative)\n",
    "ssn[-4:]"
   ]
  },
  {
   "cell_type": "code",
   "execution_count": null,
   "metadata": {},
   "outputs": [],
   "source": [
    "# Extracting first item from delimited string\n",
    "order = '1,2013-07-25 00:00:00.0,1,CLOSED'"
   ]
  },
  {
   "cell_type": "code",
   "execution_count": null,
   "metadata": {},
   "outputs": [],
   "source": [
    "order.split(',') # Convert string into array of strings"
   ]
  },
  {
   "cell_type": "code",
   "execution_count": null,
   "metadata": {},
   "outputs": [],
   "source": [
    "order.split(',')[0] # Extracts first element"
   ]
  },
  {
   "cell_type": "code",
   "execution_count": null,
   "metadata": {},
   "outputs": [],
   "source": [
    "# Getting help on the string\n",
    "help(str)"
   ]
  },
  {
   "cell_type": "code",
   "execution_count": null,
   "metadata": {},
   "outputs": [],
   "source": [
    "# Strip leading and trailing spaces as well as dots (.)\n",
    "s = '   hello.  '\n",
    "s.strip(' ').strip('.')"
   ]
  },
  {
   "cell_type": "markdown",
   "metadata": {},
   "source": [
    "## Defining Functions and Returning Values\n",
    "Here are simple rules to define a function in Python -\n",
    "* Function blocks begin with the keyword def followed by the function name and parentheses ().\n",
    "* While defining functions we need to specify parameters in these parentheses.\n",
    "* The code block within every function starts with a colon (:) and is indented.\n",
    "* The statement return [expression] exits a function, passing back an expression to the caller. A return statement with no expression is the same as return None.\n",
    "* The first statement of a function can be an optional statement - the documentation string of the function or docstring.\n",
    "* When functions are invoked all arguments in the Python language are passed by reference into the function parameters.\n",
    "* Every function implicitly contains a return None statement.\n",
    "* We can return multiple expressions in Python.\n"
   ]
  },
  {
   "cell_type": "code",
   "execution_count": null,
   "metadata": {},
   "outputs": [],
   "source": [
    "def function_name(a, b):\n",
    "    \"\"\"Sample function\"\"\"\n",
    "    return a, b"
   ]
  },
  {
   "cell_type": "code",
   "execution_count": null,
   "metadata": {},
   "outputs": [],
   "source": [
    "print(str(function_name(1, 2)))"
   ]
  },
  {
   "cell_type": "markdown",
   "metadata": {},
   "source": [
    "## Function Parameters and Arguments\n",
    "Let us get an overview of different types of Function Parameters and Arguments supported by Python.\n",
    "* Parameter is variable in the declaration of function. Argument is the actual value of this variable that gets passed to function.\n",
    "* However, in some cases they are used interchangeably.\n",
    "* In Python, parameters can be objects or even functions. We can pass named functions or lambda functions as arguments. We will talk about this later.\n",
    "\n",
    "### Tasks\n",
    "Let us perform a few tasks to understand all aspects of parameters.\n",
    "\n",
    "* Checking whether phone numbers of a given employee are valid - get_invalid_phone_count\n",
    "  * Function should take 2 arguments, employee_id and phone_numbers (variable number)\n",
    "  * Check whether each phone number have 10 digits.\n",
    "  * Return employee_id and number of phone numbers with less than 10 digits\n",
    "* Adding employee add_employee\n",
    "  * Function should take employee_id, employee_name, salary and phone_numbers (variable number), degrees (variable keyword arguments) as arguments.\n",
    "  * Degrees should be with specialization. There can be one or more degrees with specializations with keys bachelors, masters, executive, doctorate.\n",
    "  * Make sure salary is defaulted to 3000. If salary is passed and if it is less than 3000 throw exception with message “Invalid Salary, Salary should be at least 3000”\n",
    "  * Call get_invalid_phone_count and check if it is greater than 0. If invalid phone count is greater than 0, throw an exception with message “One or more phone number of an employee is not valid”\n",
    "  * Get count of degrees by processing variable keyword argument\n",
    "  * If there are no exceptions print “Employee {employee_id} with {number} of degrees is successfully added”\n"
   ]
  },
  {
   "cell_type": "code",
   "execution_count": null,
   "metadata": {},
   "outputs": [],
   "source": [
    "def get_invalid_phone_count(employee_id, *phone_numbers):\n",
    "    invalid_count = 0\n",
    "    for phone_number in phone_numbers:\n",
    "        if len(phone_number) < 10:\n",
    "            invalid_count += 1\n",
    "    return employee_id, invalid_count\n",
    "\n",
    "s = 'Employee {employee_id} have {invalid_count} invalid phones'\n",
    "employee_id, invalid_count = get_invalid_phone_count(1, '1234', '1234567890')\n",
    "# print(f'Employee {employee_id} have {invalid_count} invalid phones')\n",
    "print(s.format(employee_id=employee_id, invalid_count=invalid_count))"
   ]
  },
  {
   "cell_type": "markdown",
   "metadata": {},
   "source": [
    "## Recap\n",
    "Let us recap all about arguments as we have used all the examples.\n",
    "* Required Arguments or Parameters (typically starts at beginning)\n",
    "* Parameters with Defaults or Keyword Parameters\n",
    "* Variable-length Parameters or Arguments\n",
    "  * Typically starts with *\n",
    "  * It can be a normal parameter or keyword parameter.\n",
    "  * Variable number keyword parameters start with ** and is interpreted as dict in function.\n",
    "* Order of Parameters\n",
    "  * Required Parameters (with no defaults)\n",
    "  * One or more of these\n",
    "    * Parameters with defaults or Keyword Parameter \n",
    "    * Variable length Parameter\n",
    "  * Variable length Keyword Parameter\n",
    "  * In Python 2, variable length parameters cannot be before keyword argument.\n",
    "* As a Python Programmer we need to be familiar with all types of arguments as they are used quite extensively in the 3rd party libraries such as Pandas.\n"
   ]
  },
  {
   "cell_type": "markdown",
   "metadata": {},
   "source": [
    "## Lambda Functions\n",
    "\n",
    "Let us understand details related to Lambda Functions.\n",
    "\n",
    "* A lambda function is nothing but a function without a name.\n",
    "* We can assign it to a variable or use it as a parameter to a function.\n",
    "* There are limitations to lambda functions.\n",
    "  *  We cannot specify return statement.\n",
    "  * We cannot create new variables.\n",
    "  * We can only process the arguments to lambda function using simple expressions. These simple expressions will be returned automatically.\n",
    "* Let’s take the example of sum of integers between a range using loops and develop other functionality using lambda functions.\n",
    "  * Sum of squares of integers between a range\n",
    "  * Sum of cubes of integers between a range\n",
    "  * Sum of the even numbers between a range\n",
    "* Code using named functions\n"
   ]
  },
  {
   "cell_type": "code",
   "execution_count": null,
   "metadata": {},
   "outputs": [],
   "source": [
    "def sumOfIntegers(lb, ub):\n",
    "    total = 0\n",
    "    for i in range(lb,ub+1):\n",
    "        total += i\n",
    "    return total\n",
    "\n",
    "sumOfIntegers(1, 10)"
   ]
  },
  {
   "cell_type": "code",
   "execution_count": null,
   "metadata": {},
   "outputs": [],
   "source": [
    "def sumOfSquares(lb, ub):\n",
    "    total = 0\n",
    "    for i in range(lb,ub+1):\n",
    "        total += i * i\n",
    "    return total\n",
    "\n",
    "sumOfSquares(1, 10)"
   ]
  },
  {
   "cell_type": "code",
   "execution_count": null,
   "metadata": {},
   "outputs": [],
   "source": [
    "def my_sum(lb, ub, f):\n",
    "    total = 0\n",
    "    for i in range(lb, ub+1):\n",
    "        total += f(i)\n",
    "    return total"
   ]
  },
  {
   "cell_type": "code",
   "execution_count": null,
   "metadata": {},
   "outputs": [],
   "source": [
    "def i(n): return n\n",
    "\n",
    "my_sum(5, 10, i)"
   ]
  },
  {
   "cell_type": "code",
   "execution_count": null,
   "metadata": {},
   "outputs": [],
   "source": [
    "def sqr(n): return n * n\n",
    "\n",
    "my_sum(5, 10, sqr)"
   ]
  },
  {
   "cell_type": "code",
   "execution_count": null,
   "metadata": {},
   "outputs": [],
   "source": [
    "def cube(n): return n * n * n\n",
    "\n",
    "my_sum(5, 10, cube)"
   ]
  },
  {
   "cell_type": "code",
   "execution_count": null,
   "metadata": {},
   "outputs": [],
   "source": [
    "def even(n): return n if (n%2 == 0) else 0\n",
    "\n",
    "my_sum(5, 10, even)"
   ]
  },
  {
   "cell_type": "markdown",
   "metadata": {},
   "source": [
    "* Code using lambda functions"
   ]
  },
  {
   "cell_type": "code",
   "execution_count": null,
   "metadata": {},
   "outputs": [],
   "source": [
    "def my_sum(lb, ub, f):\n",
    "    total = 0\n",
    "    for i in range(lb, ub+1):\n",
    "        total += f(i)\n",
    "    return total"
   ]
  },
  {
   "cell_type": "code",
   "execution_count": null,
   "metadata": {},
   "outputs": [],
   "source": [
    "my_sum(5, 10, lambda n: n)"
   ]
  },
  {
   "cell_type": "code",
   "execution_count": null,
   "metadata": {},
   "outputs": [],
   "source": [
    "my_sum(5, 10, lambda n: n * n)"
   ]
  },
  {
   "cell_type": "code",
   "execution_count": null,
   "metadata": {},
   "outputs": [],
   "source": [
    "my_sum(5, 10, lambda n: n * n * n)"
   ]
  },
  {
   "cell_type": "code",
   "execution_count": null,
   "metadata": {},
   "outputs": [],
   "source": [
    "my_sum(5, 10, lambda n: n if(n%2==0) else 0)"
   ]
  },
  {
   "cell_type": "markdown",
   "metadata": {},
   "source": [
    "* Without lambda functions we might have to develop 3 different functions with name. However, we have reduced the amount of coding by passing lambda functions as arguments.\n",
    "* Let us see where Lambda Functions are extensively used.\n",
    "  * Several 3rd party libraries such as itertools\n",
    "  * Functions from standard libraries such as map, filter etc"
   ]
  }
 ],
 "metadata": {
  "kernelspec": {
   "display_name": "Python 3",
   "language": "python",
   "name": "python3"
  },
  "language_info": {
   "codemirror_mode": {
    "name": "ipython",
    "version": 3
   },
   "file_extension": ".py",
   "mimetype": "text/x-python",
   "name": "python",
   "nbconvert_exporter": "python",
   "pygments_lexer": "ipython3",
   "version": "3.7.4"
  }
 },
 "nbformat": 4,
 "nbformat_minor": 4
}
