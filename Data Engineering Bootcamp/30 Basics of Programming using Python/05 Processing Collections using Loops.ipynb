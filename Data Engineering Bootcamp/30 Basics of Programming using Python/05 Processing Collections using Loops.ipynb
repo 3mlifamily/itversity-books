{
 "cells": [
  {
   "cell_type": "markdown",
   "metadata": {},
   "source": [
    "# Processing Collections using loops\n",
    "As part of this module we will see how to manipulate collections using loops. We typically don’t use loops but this module will help in improving our programming skills.\n",
    "\n",
    "* Reading files into collections\n",
    "* Standard Transformations\n",
    "* Filtering Data\n",
    "* Performing Aggregations\n",
    "* Joining Data Sets\n",
    "* Exercises\n",
    "* Limitations of using Loops"
   ]
  },
  {
   "cell_type": "markdown",
   "metadata": {},
   "source": [
    "## Reading files into collections\n",
    "\n",
    "Let us understand how to read data from files into collections. \n",
    "* Python have simple and yet rich APIs to perform file I/O\n",
    "* We can create a file object with `open` in different modes (by default read only mode)\n",
    "* To read the contents from the file into memory, we have APIs on top of file object such as `read()`\n",
    "* `read()` will create large string using contents of the files\n",
    "* If the data have multiple records with new line character as delimiter, we can apply `splitlines()` on the output of read\n",
    "* `splitlines()` will convert the string into list with new line character as delimiter"
   ]
  },
  {
   "cell_type": "markdown",
   "metadata": {},
   "source": [
    "## Standard Transformations\n",
    "\n",
    "Let us understand standard transformations we perform on top of data in collections.\n",
    "* Filtering\n",
    "* Row level transformations such as standardization, cleansing etc.\n",
    "* Aggregations\n",
    "* Grouped Aggregations\n",
    "* Sorting and Ranking\n",
    "\n",
    "Typically we use external libraries such as Pandas, Pyspark etc to perform these standard transformations. However, we will try to develop using conventional loops to understand how they are implemented and also to get better with respect to programming.\n"
   ]
  },
  {
   "cell_type": "markdown",
   "metadata": {},
   "source": [
    "## Filtering Data\n",
    "Let us perform few tasks to understand how to filter the data in collections using loops and conditionals.\n",
    "\n",
    "* Here are the details about orders.\n",
    "  * Data is in text file format\n",
    "  * Each line in the file contains one record.\n",
    "  * Each record contains 4 attributes which are separated by “,”\n",
    "    * order_id\n",
    "    * order_date\n",
    "    * order_customer_id\n",
    "    * order_status\n",
    "  * Create a function by name get_customer_orders which take orders list and customer_id as arguments and return all the orders placed by customer_id\n"
   ]
  },
  {
   "cell_type": "markdown",
   "metadata": {},
   "source": [
    "* Use the function and get all the orders which are placed by customer with id 12431"
   ]
  },
  {
   "cell_type": "markdown",
   "metadata": {},
   "source": [
    "* Create a function by name get_customer_orders_for_month which take orders list, customer_id and month in the format YYYY-MM as arguments and return all the orders placed by customer_id for a given month."
   ]
  },
  {
   "cell_type": "markdown",
   "metadata": {},
   "source": [
    "* Use the function and get all the orders which are placed by customer with id 12431 in January 2014"
   ]
  },
  {
   "cell_type": "markdown",
   "metadata": {},
   "source": [
    "* Write ad hoc code to get all the orders which are placed by customer with id 12431 in January 2014 and status is in PENDING_PAYMENT or PROCESSING"
   ]
  },
  {
   "cell_type": "markdown",
   "metadata": {},
   "source": [
    "## Performing Aggregations\n",
    "\n",
    "Let us perform few tasks to understand how to perform aggregations by key over the data in collections using loops and conditionals.\n",
    "* Here are the details about orders.\n",
    "  * Data is in text file format\n",
    "  * Each line in the file contains one record.\n",
    "  * Each record contains 4 attributes which are separated by “,”\n",
    "    * order_id\n",
    "    * order_date\n",
    "    * order_customer_id\n",
    "    * order_status\n",
    "* Here are the details about order_items.\n",
    "  * Data is in text file format\n",
    "  * Each line in the file contains one record.\n",
    "  * Each record contains 6 attributes which are separated by “,”\n",
    "    * order_item_id\n",
    "    * order_item_order_id\n",
    "    * order_item_product_id\n",
    "    * order_item_quantity\n",
    "    * order_item_subtotal\n",
    "    * order_item_product_price\n",
    "* Create a function get_count_by_order_status which takes orders list as argument and returns a dict which contain order_status and corresponding count.\n"
   ]
  },
  {
   "cell_type": "markdown",
   "metadata": {},
   "source": [
    "* Use the function to get count by status and preview the output."
   ]
  },
  {
   "cell_type": "markdown",
   "metadata": {},
   "source": [
    "* Create a function get_revenue_per_order which takes order_items list as argument and returns a dict which contain order_item_order_id and corresponding order_revenue."
   ]
  },
  {
   "cell_type": "markdown",
   "metadata": {},
   "source": [
    "* Use the function to get revenue for each order_item_order_id and preview the output."
   ]
  },
  {
   "cell_type": "markdown",
   "metadata": {},
   "source": [
    "* Create a function get_order_count_by_month which takes orders list and order_status as arguments and returns a dict which contain order_month and count. We only have to count those orders which belong to the passed order_status"
   ]
  },
  {
   "cell_type": "markdown",
   "metadata": {},
   "source": [
    "* Use the function to get count for each order_date and preview the output. We need to pass the status also as an argument."
   ]
  },
  {
   "cell_type": "markdown",
   "metadata": {},
   "source": [
    "## Joining Data Sets\n",
    "\n",
    "Let us perform few tasks to understand how to perform  joins over multiple collections using loops and conditionals.\n",
    "* There are different strategies for joins.\n",
    "  * Nested Loops\n",
    "  * Sort Merge\n",
    "  * Hash Join\n",
    "* We will be using Nested Loops approach using orders and order_items.\n",
    "  * Build dict for one data set - orders.\n",
    "  * Iteratively lookup into the orders data set while processing the other one  - order_items\n",
    "* Develop a function get_daily_revenue which takes orders, order_items and order_status as arguments and return dict containing order_date and order_revenue. We need to get revenue considering only those orders which satisfy the status passed."
   ]
  },
  {
   "cell_type": "markdown",
   "metadata": {},
   "source": [
    "* Use the function to get daily revenue considering only COMPLETE orders."
   ]
  },
  {
   "cell_type": "markdown",
   "metadata": {},
   "source": [
    "## Exercises\n",
    "Here are some of the exercises you can work on to process collection using conventional loops and conditionals. Create functions for each of the below problem statement.\n",
    "\n",
    "* Get number of COMPLETE orders placed by each customer\n",
    "* Get total number of PENDING or PENDING_PAYMENT orders for the month of 2014 January.\n",
    "* Get outstanding amount for each month considering orders with status PAYMENT_REVIEW, PENDING, PENDING_PAYMENT and PROCESSING."
   ]
  },
  {
   "cell_type": "markdown",
   "metadata": {},
   "source": [
    "## Limitations of using Loops\n",
    "\n",
    "There are several limitations using loops.\n",
    "* If you look at the above examples, most of the functions have similar logic to iterate through elements.\n",
    "* We are spending more time on coding non business logic.\n",
    "* It results in too much of code and it can become a maintenance problem.\n",
    "* Map Reduce APIs will solve these problems.\n",
    "  * We do not have to develop loops and conditionals.\n",
    "  * Loops and Conditionals are taken care by the existing APIs.\n",
    "  * We can just focus on business logic. It can be passed using Lambda Functions.\n"
   ]
  },
  {
   "cell_type": "code",
   "execution_count": null,
   "metadata": {},
   "outputs": [],
   "source": []
  }
 ],
 "metadata": {
  "kernelspec": {
   "display_name": "Python 3",
   "language": "python",
   "name": "python3"
  },
  "language_info": {
   "codemirror_mode": {
    "name": "ipython",
    "version": 3
   },
   "file_extension": ".py",
   "mimetype": "text/x-python",
   "name": "python",
   "nbconvert_exporter": "python",
   "pygments_lexer": "ipython3",
   "version": "3.7.4"
  }
 },
 "nbformat": 4,
 "nbformat_minor": 4
}
