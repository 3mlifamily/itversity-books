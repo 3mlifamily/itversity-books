{
 "cells": [
  {
   "cell_type": "markdown",
   "metadata": {},
   "source": [
    "## Getting Started\n",
    "\n",
    "* Setting up of Python and PyCharm\n",
    "* Understanding Python Virtual Environments\n",
    "* Overview of Git\n",
    "  * Only source code should be added and committed.\n",
    "  * Virtual Environments, dependencies etc should be added to gitignore. It means they should not be committed or checked into the code repository.\n",
    "* Overview of pip to install and manage Python Packages\n",
    "  * Managing 3rd party Python libraries\n",
    "  * Collecting or Freezing the libraries used for the project `pip freeze`"
   ]
  },
  {
   "cell_type": "markdown",
   "metadata": {},
   "source": [
    "## Basic Program Constructs\n",
    "\n",
    "* Getting help\n",
    "* Literals, Variables and Objects\n",
    "* Checking type of objects\n",
    "* Conditionals (if condition) and Ternary Operators\n",
    "* Loops (for loops)\n",
    "* Functions and Arguments"
   ]
  },
  {
   "cell_type": "markdown",
   "metadata": {},
   "source": [
    "## Functions and Arguments\n",
    "\n",
    "* Function Specification\n",
    "* Normal Arguments\n",
    "* Returning Values\n",
    "* Arguments with defaults or key word arguments\n",
    "* Varrying Arguments\n",
    "* Varrying key word arguments"
   ]
  },
  {
   "cell_type": "markdown",
   "metadata": {},
   "source": [
    "## Exercises\n",
    "\n",
    "* Develop function to get sum of given range of integers (using formula)\n",
    "* Develop function to get sum of given range of integers (using loops)\n",
    "* Develop function to get sum of squares of given range of integers (using loops)\n",
    "* Develop function to get sum of even numbers in a given range of integers (using loops and if condition)\n",
    "* Go through some of the basics of collections (they will be covered as part of next session)"
   ]
  },
  {
   "cell_type": "code",
   "execution_count": null,
   "metadata": {},
   "outputs": [],
   "source": []
  }
 ],
 "metadata": {
  "kernelspec": {
   "display_name": "Python 3",
   "language": "python",
   "name": "python3"
  },
  "language_info": {
   "codemirror_mode": {
    "name": "ipython",
    "version": 3
   },
   "file_extension": ".py",
   "mimetype": "text/x-python",
   "name": "python",
   "nbconvert_exporter": "python",
   "pygments_lexer": "ipython3",
   "version": "3.7.4"
  }
 },
 "nbformat": 4,
 "nbformat_minor": 4
}
