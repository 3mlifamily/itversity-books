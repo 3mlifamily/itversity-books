{
 "cells": [
  {
   "cell_type": "markdown",
   "metadata": {},
   "source": [
    "# Set Operations and Analytics Functions"
   ]
  },
  {
   "cell_type": "markdown",
   "metadata": {},
   "source": [
    "Now let us have a look into set operations and analytics functions to get rank, aggregations etc.\n",
    "\n",
    "* Set Operations\n",
    "    * UNION and UNION ALL\n",
    "    * INTERSECT\n",
    "    * MINUS\n",
    "* Analytics Functions\n",
    "    * Aggregations\n",
    "    * Ranking\n",
    "    * Windowing Functions\n",
    "\n",
    "### Set Operations"
   ]
  },
  {
   "cell_type": "code",
   "execution_count": null,
   "metadata": {},
   "outputs": [],
   "source": [
    "#sql-queries-set-operations.sql\n",
    "-- UNION/UNION ALL\n",
    "-- (1, 2, 3), (2, 3, 4) -> (1, 2, 3, 4)\n",
    "\n",
    "SELECT * FROM\n",
    "  (SELECT 1 FROM dual\n",
    "   UNION\n",
    "   SELECT 1 FROM dual\n",
    "   UNION\n",
    "   SELECT 2 FROM dual\n",
    "  );\n",
    "\n",
    "-- INTERSECT\n",
    "SELECT * FROM (\n",
    "  (SELECT 1 FROM dual\n",
    "   UNION\n",
    "   SELECT 1 FROM dual\n",
    "   UNION\n",
    "   SELECT 2 FROM dual\n",
    "  )\n",
    "  INTERSECT\n",
    "  (SELECT 2 FROM dual\n",
    "   UNION\n",
    "   SELECT 3 FROM dual\n",
    "   UNION\n",
    "   SELECT 4 FROM dual)\n",
    "  );\n",
    "\n",
    "-- MINUS\n",
    "SELECT * FROM (\n",
    "  (SELECT 1 FROM dual\n",
    "   UNION\n",
    "   SELECT 1 FROM dual\n",
    "   UNION\n",
    "   SELECT 2 FROM dual\n",
    "  )\n",
    "  MINUS\n",
    "  (SELECT 2 FROM dual\n",
    "   UNION\n",
    "   SELECT 3 FROM dual\n",
    "   UNION\n",
    "   SELECT 4 FROM dual\n",
    "  )\n",
    ");"
   ]
  },
  {
   "cell_type": "markdown",
   "metadata": {},
   "source": [
    "### SQL – Execution Flow\n",
    "Let us understand SQL Execution Flow.\n",
    "\n",
    "* There are different clauses in SQL. Below are the clauses and we typically develop queries in that order.\n",
    "    * SELECT – Projection of columns and transformations\n",
    "    * FROM – Tables or Views or Nested Queries\n",
    "    * WHERE – Filtering on Data\n",
    "    * JOIN – Join data from multiple tables\n",
    "    * GROUP BY – Grouping data for aggregations\n",
    "        * HAVING – Filtering after grouping\n",
    "    * ORDER BY\n",
    "* But when it comes to execution flow, it is a bit different\n",
    "    * FROM\n",
    "    * WHERE\n",
    "    * JOIN\n",
    "    * GROUP BY\n",
    "        * HAVING\n",
    "    * SELECT\n",
    "    * ORDER BY\n",
    "* One of the side effects of the above execution flow is that the aliases specified in SELECT is only available in ORDER BY not in other clauses.\n",
    "\n",
    "### Analytics Functions\n",
    "Let us understand APIs related to aggregations, ranking and windowing functions.\n",
    "\n",
    "* Analytics Functions can be used only in SELECT clause. Due to that if we have to filter data after applying Analytics Functions, then we have to use nested sub queries.\n",
    "* There are multiple clauses within SQL to accomplish these\n",
    "    * over\n",
    "    * partition by\n",
    "    * order by\n",
    "* All aggregate functions, rank functions and windowing functions can be used with over clause to get aggregations per partition or group\n",
    "* It is mandatory to specify over clause\n",
    "* e.g.: rank() over(spec) where spec can be a partition by or order by or both\n",
    "* Aggregations – sum, avg, min, max etc\n",
    "* Ranking – rank, dense_rank, row_number etc\n",
    "* Windowing – lead, lag etc\n",
    "* We typically use partition by clause for aggregations and then partition by as well as an order by for ranking and windowing functions.\n",
    "\n",
    "### Understanding Clauses\n",
    "Let us understand different clauses required for analytics functions.\n",
    "\n",
    "* Typical syntax – function(argument) over (partition by groupcolumn [order by [desc] ordercolumn])\n",
    "* For aggregations we can define group by using partition by\n",
    "* For ranking or windowing we need to use partition by and then order by. partition by is to group the data and order by is to sort the data to assign rank.\n",
    "* We will not be able to use these any where except for select clause\n",
    "* If we have to filter on these derived fields in select clause, we need to nest the whole query into another query.\n",
    "\n",
    "### Performing aggregations\n",
    "Let us see how to perform aggregations with in each group.\n",
    "\n",
    "* We have functions such as sum, avg, min, max etc which can be used to aggregate the data.\n",
    "* We need to use over (partition by) to get aggregations with in each group.\n",
    "* Some realistic use cases\n",
    "    * Get average salary for each department and get all employee details who earn more than average salary\n",
    "    * Get average revenue for each day and get all the orders who earn revenue more than average revenue\n",
    "    * Get highest order revenue and get all the orders which have revenue more than 75% of the revenue\n",
    "\n",
    "### Using windowing functions\n",
    "Let us see details about windowing functions with in each group\n",
    "\n",
    "* We have functions such as lead, lag etc\n",
    "* We need to use partition by and then order by for most of the windowing functions\n",
    "* Some realistic use cases\n",
    "    * Salary difference between current and next/previous employee with in each department\n",
    "\n",
    "### Ranking with in each partition or group\n",
    "Let us talk about ranking functions with in each group.\n",
    "\n",
    "* We have functions like rank, dense_rank, row_number, first, last etc\n",
    "* We need to use partition by and then order by for most of the windowing functions\n",
    "* Some realistic use cases\n",
    "    * Assign rank to employees based on salary with in each department\n",
    "    * Assign ranks to products based on revenue each day or month"
   ]
  },
  {
   "cell_type": "code",
   "execution_count": null,
   "metadata": {},
   "outputs": [],
   "source": [
    "#sql-queries-analytics-functions.sql\n",
    "-- Get % salary of each employee with in his department\n",
    "SELECT first_name, last_name, department_id, salary,\n",
    "  sum(salary) OVER (PARTITION BY department_id) department_expense,\n",
    "  round((salary / sum(salary) OVER (PARTITION BY department_id)) * 100, 2) percentage_salary\n",
    "FROM employees\n",
    "ORDER BY department_id;"
   ]
  },
  {
   "cell_type": "code",
   "execution_count": null,
   "metadata": {},
   "outputs": [],
   "source": [
    "-- Get top 3 paid employees with in each department\n",
    "--rank\n",
    "SELECT * FROM (\n",
    "  SELECT first_name, last_name, department_id, salary,\n",
    "  rank() OVER (PARTITION BY department_id ORDER BY salary DESC) rnk\n",
    "  FROM employees)\n",
    "WHERE rnk <= 5 AND department_id = 60\n",
    "ORDER BY department_id;"
   ]
  },
  {
   "cell_type": "code",
   "execution_count": null,
   "metadata": {},
   "outputs": [],
   "source": [
    "--dense_rank\n",
    "SELECT * FROM (\n",
    "  SELECT first_name, last_name, department_id, salary,\n",
    "  dense_rank() OVER (PARTITION BY department_id ORDER BY salary DESC) rnk\n",
    "  FROM employees)\n",
    "WHERE rnk <= 5 AND department_id = 60\n",
    "ORDER BY department_id;"
   ]
  },
  {
   "cell_type": "code",
   "execution_count": null,
   "metadata": {},
   "outputs": [],
   "source": [
    "SELECT * FROM employees WHERE department_id = 60;"
   ]
  },
  {
   "cell_type": "code",
   "execution_count": null,
   "metadata": {},
   "outputs": [],
   "source": [
    "-- Get number of days it took to add each employee with in department\n",
    "SELECT first_name, last_name, department_id, hire_date,\n",
    "  lag(hire_date) OVER (PARTITION BY department_id ORDER BY hire_date) prev_hire_date,\n",
    "  hire_date - lag(hire_date) OVER (PARTITION BY department_id ORDER BY hire_date) diff\n",
    "FROM employees\n",
    "ORDER BY department_id, hire_date;"
   ]
  },
  {
   "cell_type": "code",
   "execution_count": null,
   "metadata": {},
   "outputs": [],
   "source": [
    "-- Get salary difference between top paid employee and least paid employee with in each department\n",
    "SELECT DISTINCT department_id,\n",
    "  max(salary) OVER (PARTITION BY department_id)\n",
    "    - min(salary) OVER (PARTITION BY department_id) salary_diff\n",
    "FROM employees\n",
    "ORDER BY department_id;"
   ]
  },
  {
   "cell_type": "markdown",
   "metadata": {},
   "source": [
    "### Exercises\n",
    "*ORDERS   \n",
    "ORDER_ITEMS  \n",
    "PRODUCTS  \n",
    "CATEGORIES  \n",
    "DEPARTMENTS  \n",
    "CUSTOMERS* \n",
    "\n",
    "* Using products, get top 3 priced products (dense rank) with in each category by price – product id, product name, product category name, product price and rank\n",
    "* Get top 3 customers for each month by revenue – customer first name, customer last name, month, revenue and rank\n",
    "* Get top 3 products for each month by revenue – month, product name, revenue and rank\n",
    "* Get top 3 orders by revenue for each day – order date, order revenue, rank\n"
   ]
  },
  {
   "cell_type": "code",
   "execution_count": null,
   "metadata": {},
   "outputs": [],
   "source": []
  }
 ],
 "metadata": {
  "kernelspec": {
   "display_name": "Apache Toree - SQL",
   "language": "sql",
   "name": "apache_toree_sql"
  },
  "language_info": {
   "codemirror_mode": "text/x-sql",
   "file_extension": ".sql",
   "mimetype": "text/x-sql",
   "name": "sql",
   "pygments_lexer": "sql",
   "version": "2.2.2"
  }
 },
 "nbformat": 4,
 "nbformat_minor": 4
}
