{
 "cells": [
  {
   "cell_type": "markdown",
   "metadata": {},
   "source": [
    "# MongoDB – CRUD Operations\n",
    "\n",
    "As part of this session we will be exploring MongoDB in detail with CRUD operations, Data Structure, Loading MongoDB\n",
    "\n",
    "* MongoDB CRUD Operations\n",
    "* Querying nested documents\n",
    "* Creating denormalized table using python script and creating indexes\n",
    "* Use of aggregate and project.\n",
    "\n",
    "## MongoDB CRUD operations\n",
    "* *show collections*– To list collections(which is similar to tables in RDBMS) -show collections;\n",
    "* list databases – show databases;\n",
    "* use retail_db – switch to database retail_db\n",
    "* NOTE: MongoDB uses JSON documents to store data\n",
    "\n",
    "*Projection of Data*\n",
    "* Write a query to get only COMPLETE orders\n",
    "    * <mark>db.orders.find({\"order_status\" : \"COMPLETE\"})</mark>By default 20 are displayed\n",
    "    * <mark>db.orders.find({\"order_status\" : \"COMPLETE\"})</mark>.pretty() is used to beautify.\n",
    "    * <mark>db.order.find </mark> with enter key gives you the syntax of the function\n",
    "* Project only order_id, order_date and order_status and not order_customer_id.\n",
    "* <mark>db.orders.find({\"order_status\" : \"COMPLETE\"}, {\"order_customer_id\" : 0})</mark>(use 1 for displaying output and 0 for not displaying the field)\n",
    "* Count number of records falling under “COMPLETE” status\n",
    "* <mark>db.orders.find({\"order_status\" : \"COMPLETE\"}).count()</mark>\n",
    "\n",
    "## Querying nested document\n",
    "* Look into order_details\n",
    "    * <mark>db.order_details({\"order_id\"  :  2})</mark>\n",
    "* Here we see list of order_items associated with order.We can have denormalized data in mongodb by creating nesting of data like in order_items thus removing redundancy.\n",
    "* How to query from nested document?\n",
    "    * In order_items check only those records where order_quantity is greater than 1"
   ]
  },
  {
   "cell_type": "code",
   "execution_count": null,
   "metadata": {},
   "outputs": [],
   "source": [
    "db.order_details.\n",
    "  aggregate(\n",
    "    [{$unwind : '$order_items'}, \n",
    "     {$match : {\n",
    "      'order_id' : 2, \n",
    "      'order_items.order_item_quantity' : 5\n",
    "     }}\n",
    "    ])    "
   ]
  },
  {
   "cell_type": "markdown",
   "metadata": {},
   "source": [
    "**Use of unwind**  – for deconstructing an array field from the input documents to output a document for each element and get the data in a way as in RDBMS.This function comes as part of aggregate.You can also apply filtering on top of it using match.\n",
    "\n",
    "* In order_items check only those records where order_quantity is less than 5"
   ]
  },
  {
   "cell_type": "code",
   "execution_count": null,
   "metadata": {},
   "outputs": [],
   "source": [
    "db.order_details.\n",
    "  aggregate(\n",
    "    [{$unwind : '$order_items'},\n",
    "     {$match  : {\n",
    "       'order_id' : 2,\n",
    "       $lt  : 'order_items.order_item_quantity' : {$lt  : 5}\n",
    "       }}\n",
    "    ])"
   ]
  },
  {
   "cell_type": "markdown",
   "metadata": {},
   "source": [
    "*Connecting to MongoBooster*\n",
    "Go to connect -> ssh -> check use ssh tunnel -> ip add gw02.itversity.com -> username :training\n",
    "\n",
    "Go to basic -> gw01.itversity.com  -> save and connect\n",
    "\n",
    "*Dropping  the table and indexes*\n",
    "* <mark>db.order_details.drop()</mark>\n",
    "* <mark>db.order_items.getIndexes()</mark>\n",
    "* <mark>db.order_items.dropIndex(“order_item_order_id_1”)</mark>\n",
    "* If in output ok is 1 then it is successfull\n",
    "\n",
    "## Create denormalized table\n",
    "* First we write the python script as Python can seemlessly work with Python. Python dict is more closer to json. The script creates denormalised table order_details, for each and every orders if there are corresponding child elements in order_items, I want to create collections under each order and insert in order_details.\n",
    "* Run the script in background\n",
    "* <mark>nohup python orders_load.py &</mark>\n",
    "* Connect to mongoDB and use retail_db\n",
    "    * <mark>db.order_details.find({}).count()</mark>\n",
    "* We need to create index to improve performance\n",
    "    * <mark>db.order_items.createIndex({\"order_item_order_id\" : 1})</mark>\n",
    "    * <mark>db.order_items.getIndexes()</mark>\n",
    "\n",
    "## Using aggregate and project"
   ]
  },
  {
   "cell_type": "code",
   "execution_count": null,
   "metadata": {},
   "outputs": [],
   "source": [
    "//mongodb-queries-01-count-by-order-status.json\n",
    "// Count by order_status\n",
    "db.orders.\n",
    "  aggregate([{\"$group\" : \n",
    "                { \"_id\" : \"$order_status\", \"status_count\" : {\"$sum\" :1 }}\n",
    "             }, \n",
    "             {\"$project\" : \n",
    "               { \"order_status\" : \"$_id\" , \"status_count\" : 1, \"_id\" : 0 }\n",
    "             }])"
   ]
  },
  {
   "cell_type": "code",
   "execution_count": null,
   "metadata": {},
   "outputs": [],
   "source": [
    "//mongodb-queries-02-revenue-for-eachorder-status.json\n",
    "// Get revenue for each order\n",
    "db.order_items.find({\"order_item_order_id\" : 2})   \n",
    "\n",
    "db.order_items.\n",
    "  aggregate([{\"$group\" : \n",
    "               { \"_id\" : \"$order_item_order_id\", \"order_revenue\" :{ \"$sum\" : \"$order_item_subtotal\" }}\n",
    "             },\n",
    "             {\"$project\" : \n",
    "               { \"order_item_order_id\" : \"$_id\", \"order_revenue\" : 1, \"_id\" : 0 }\n",
    "             }])"
   ]
  },
  {
   "cell_type": "code",
   "execution_count": null,
   "metadata": {},
   "outputs": [],
   "source": [
    "//mongodb-queries-03-filter-for-order-id.json\n",
    "// Get revenue for order_id 2\n",
    "db.order_items.\n",
    "  aggregate([{ \"$match\" : {\"order_item_order_id\" : 2}},\n",
    "             {\"$group\" : \n",
    "               { \"_id\" : \"$order_item_order_id\", \"order_revenue\" : {\"$sum\" : \"$order_item_subtotal\"}}\n",
    "             },\n",
    "             {\"$project\" : { \"order_item_order_id\": \"$_id\", \"order_revenue\" : 1, \"_id\" : 0 }\n",
    "             }])"
   ]
  },
  {
   "cell_type": "markdown",
   "metadata": {},
   "source": [
    "*Refer documentation*\n",
    "\n",
    "https://docs.mongodb.com/manual/crud/"
   ]
  },
  {
   "cell_type": "code",
   "execution_count": null,
   "metadata": {},
   "outputs": [],
   "source": []
  }
 ],
 "metadata": {
  "kernelspec": {
   "display_name": "Apache Toree - SQL",
   "language": "sql",
   "name": "apache_toree_sql"
  },
  "language_info": {
   "codemirror_mode": "text/x-sql",
   "file_extension": ".sql",
   "mimetype": "text/x-sql",
   "name": "sql",
   "pygments_lexer": "sql",
   "version": "2.2.2"
  }
 },
 "nbformat": 4,
 "nbformat_minor": 4
}
