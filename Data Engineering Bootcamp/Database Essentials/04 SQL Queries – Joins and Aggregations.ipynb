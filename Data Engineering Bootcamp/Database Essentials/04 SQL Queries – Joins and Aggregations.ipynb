{
 "cells": [
  {
   "cell_type": "markdown",
   "metadata": {},
   "source": [
    "# SQL Queries – Joins and Aggregations"
   ]
  },
  {
   "cell_type": "markdown",
   "metadata": {},
   "source": [
    "Below topics are covered as part of this session:\n",
    "\n",
    "* Joins\n",
    "* Aggregations\n",
    "* Let us consider an example of retrieving department name of an employee for this we need to get the information of department no from employee table and by using the department no we can fetch the department name from departments table as shown below."
   ]
  },
  {
   "cell_type": "raw",
   "metadata": {},
   "source": [
    "SELECT * FROM employees WHERE first_name = 'Neena';\n",
    "\n",
    "SELECT * FROM departments WHERE department_id = 90;"
   ]
  },
  {
   "cell_type": "markdown",
   "metadata": {},
   "source": [
    "* From the application perspective when these kinds of requests are performed we can use the above approach but for better performance it is recommended to use a correlated query as shown below."
   ]
  },
  {
   "cell_type": "raw",
   "metadata": {},
   "source": [
    "SELECT * \n",
    "  FROM departments \n",
    "  WHERE department_id = \n",
    "    (SELECT department_id \n",
    "      FROM employees \n",
    "      WHERE first_name = 'Neena'\n",
    "    );"
   ]
  },
  {
   "cell_type": "markdown",
   "metadata": {},
   "source": [
    "* There is a disadvantage with the above query consider a case where there are n employees with the same first name and it will be difficult to get other details. So, it is always recommended to use joins.\n",
    "* When there is a relationship between tables like one to one or one to many or many to one it is recommended to use joins.\n",
    "* Joins are similar to set operations.\n",
    "\n",
    "***Legacy way of writing a join***"
   ]
  },
  {
   "cell_type": "raw",
   "metadata": {},
   "source": [
    "SELECT * \n",
    "  FROM employees e, departments d \n",
    "  WHERE e.department_id = d.department_id;"
   ]
  },
  {
   "cell_type": "markdown",
   "metadata": {},
   "source": [
    "#### *ASCII*"
   ]
  },
  {
   "cell_type": "raw",
   "metadata": {},
   "source": [
    "SELECT * \n",
    "  FROM employees e JOIN departments d \n",
    "  ON e.department_id = d.department_id; "
   ]
  },
  {
   "cell_type": "markdown",
   "metadata": {},
   "source": [
    "* It is always recommended to use alias names for tables since there can be same column names with multiple tables.\n",
    "* Get all the employees with corresponding department if exists"
   ]
  },
  {
   "cell_type": "raw",
   "metadata": {},
   "source": [
    "SELECT * \n",
    "  FROM employees e LEFT OUTER JOIN departments d \n",
    "  ON e.department_id = d.department_id;"
   ]
  },
  {
   "cell_type": "markdown",
   "metadata": {},
   "source": [
    "* Since we are trying to fetch the employees details we have used left outer join. Depending up on the position of the table and the requirement we will using left outer join, right outer join, and outer join accordingly.\n",
    "* Get the details of employee where there is no department."
   ]
  },
  {
   "cell_type": "raw",
   "metadata": {},
   "source": [
    "SELECT * \n",
    "  FROM employees e LEFT OUTER JOIN departments d \n",
    "  ON e.department_id = d.department_id \n",
    "  WHERE d.department_id IS NULL;  "
   ]
  },
  {
   "cell_type": "markdown",
   "metadata": {},
   "source": [
    "* There is one to many relationship between departments and employees and there can be records in employees with no department_id assigned.\n",
    "* In some cases where constraint is not enforced. There can be department_id in employees for which there is no record in departments.\n",
    "* Get all the details of departments where there are no employees assigned to it."
   ]
  },
  {
   "cell_type": "raw",
   "metadata": {},
   "source": [
    "SELECT d.* \n",
    "  FROM employees e RIGHT OUTER JOIN departments d \n",
    "  ON e.department_id = d.department_id \n",
    "  WHERE e.department_id IS NULL;"
   ]
  },
  {
   "cell_type": "markdown",
   "metadata": {},
   "source": [
    "* Full outer join is a union of left outer join and right outer join.\n",
    "* Get employees count for each department using department_id."
   ]
  },
  {
   "cell_type": "raw",
   "metadata": {},
   "source": [
    "SELECT department_id, count(1) \n",
    "  FROM employees \n",
    "  GROUP BY department_id;  "
   ]
  },
  {
   "cell_type": "markdown",
   "metadata": {},
   "source": [
    "* GROUP BY is an aggregate function whatever column we specify in select we should specify them in GROUP BY.\n",
    "* Get employee count for each department using department_name"
   ]
  },
  {
   "cell_type": "raw",
   "metadata": {},
   "source": [
    "SELECT department_name, count(1) \n",
    "  FROM employees e JOIN departments d \n",
    "  ON e.department_id = d.department_id \n",
    "  GROUP BY department_name; "
   ]
  },
  {
   "cell_type": "markdown",
   "metadata": {},
   "source": [
    "* ORDER BY is an aggregate function to perform sorting on the records. We can specify either the column name or the position while using ORDER BY clause.\n",
    "* Get employee count for each department using department_name sorted by count"
   ]
  },
  {
   "cell_type": "raw",
   "metadata": {},
   "source": [
    "SELECT department_name, count(1) cnt \n",
    "  FROM employees e JOIN departments d \n",
    "  ON e.department_id = d.department_id \n",
    "  GROUP BY department_name \n",
    "  ORDER BY 2;"
   ]
  },
  {
   "cell_type": "markdown",
   "metadata": {},
   "source": [
    "* Get employee count and cost for each department using department_name sorted by count cost can be calculated by salary + salary * commission_pct\n",
    "* In some cases, the commission_pct might be null and if we are adding that to a salary it returns Null value. To validate it use the below query"
   ]
  },
  {
   "cell_type": "raw",
   "metadata": {},
   "source": [
    "SELECT 1000 + NULL FROM dual;"
   ]
  },
  {
   "cell_type": "markdown",
   "metadata": {},
   "source": [
    "* We can also validate the formula the calculate the cost by using the below query where rownum returns only the first row."
   ]
  },
  {
   "cell_type": "raw",
   "metadata": {},
   "source": [
    "SELECT salary, commission_pct, \n",
    "    salary + (salary * commission_pct)  as cost \n",
    "  FROM employees \n",
    "  WHERE rownum = 1;"
   ]
  },
  {
   "cell_type": "markdown",
   "metadata": {},
   "source": [
    "* When we execute the above query, we see a value for salary but commission_pct is null for which we are seeing the cost value as NULL. The cost column should return a value even the commsion_pct is NULL we can achieve that by using NVL function."
   ]
  },
  {
   "cell_type": "raw",
   "metadata": {},
   "source": [
    "SELECT  department_name, count(1) cnt, \n",
    "    sum(salary + (salary * nvl(commission_pct,0))) as department_cost \n",
    "  FROM employees e JOIN departments d \n",
    "  ON e.department_id = d.department_id \n",
    "  GROUP BY department_name \n",
    "  ORDER BY 2;"
   ]
  },
  {
   "cell_type": "markdown",
   "metadata": {},
   "source": [
    "* By using nvl function on a column it returns 0 if the column values are null. Decode function allows to have IF-THEN-ELSE logic.\n",
    "* Get shortnames for departments using decode function"
   ]
  },
  {
   "cell_type": "raw",
   "metadata": {},
   "source": [
    "SELECT department_name, \n",
    "    decode(department_name, \n",
    "      'Administration', 'Admin', \n",
    "      'Marketing', 'Mktg', \n",
    "      'Human Resources', 'HR', \n",
    "      'others') \n",
    "  FROM departments;"
   ]
  },
  {
   "cell_type": "markdown",
   "metadata": {},
   "source": [
    "* Get shortnames for departments using CASE function"
   ]
  },
  {
   "cell_type": "raw",
   "metadata": {},
   "source": [
    "SELECT department_name, CASE WHEN department_name = 'Administration' THEN 'Admin' ELSE department_name END dept_name FROM departments;"
   ]
  },
  {
   "cell_type": "markdown",
   "metadata": {},
   "source": [
    "* Get bonus amount for each employee calculate the bonus amount by using the below if salary <= 5000 then 10% if salary between 5001 and 10000 then 5% if salary > 10000 then 2%"
   ]
  },
  {
   "cell_type": "raw",
   "metadata": {},
   "source": [
    "SELECT first_name, last_name, salary, CASE WHEN salary <= 5000 THEN salary * .10 WHEN salary between 5001 and 10000 THEN salary * .05 ELSE salary * 0.02 END bonus_amount FROM employees;"
   ]
  },
  {
   "cell_type": "markdown",
   "metadata": {},
   "source": [
    "* If we want to apply a filter after grouping the data, we using HAVING clause. HAVING clause can only be used with GROUP BY.\n",
    "* Get employee count for each department using department_name sorted by count and employee count less than 5."
   ]
  },
  {
   "cell_type": "raw",
   "metadata": {},
   "source": [
    "SELECT department_name, count(1) cnt FROM employees e JOIN departments d ON e.department_id = d.department_id GROUP BY department_name ORDER BY 2;"
   ]
  },
  {
   "cell_type": "markdown",
   "metadata": {},
   "source": [
    "***Exercises***\n",
    "\n",
    "* Get order revenue per each order_id (order_id and revenue) Hint: Use order_items.order_items_subtotal to get the revenue per order_id\n",
    "* Get daily revenue for only COMPLETE and CLOSED orders(order_date,revenue_per_day)\n",
    "* Get daily revenue per product for only COMPLETE and CLOSED (order_date,product_name,revenue_per_day_per_product)\n",
    "* Get count of orders by status. Hint: Use CASE if status is COMPLETE, CLOSED consider it as CLOSED if PENDING,PENDING_PAYMENT,PROCESSING consider it as PENDING, if ON-HOLD,PAYMENT_REVIEW consider as ON-HOLD, rest of others as OTHERS."
   ]
  }
 ],
 "metadata": {
  "kernelspec": {
   "display_name": "Apache Toree - SQL",
   "language": "sql",
   "name": "apache_toree_sql"
  },
  "language_info": {
   "codemirror_mode": "text/x-sql",
   "file_extension": ".sql",
   "mimetype": "text/x-sql",
   "name": "sql",
   "pygments_lexer": "sql",
   "version": "2.2.2"
  }
 },
 "nbformat": 4,
 "nbformat_minor": 4
}
