{
 "cells": [
  {
   "cell_type": "markdown",
   "metadata": {},
   "source": [
    "# Basic SQL Queries"
   ]
  },
  {
   "cell_type": "markdown",
   "metadata": {},
   "source": [
    "As part of this class we have covered basic SQL\n",
    "\n",
    "* Projection using SELECT clause\n",
    "* Filtering using WHERE clause\n",
    "    * Comparison operators\n",
    "    * Boolean operators\n",
    "    * Special operators such as IN, LIKE\n",
    "\n",
    "### Projection using SELECT Clause\n",
    "* To fetch set of columns we can explicitly specify the columns names as below"
   ]
  },
  {
   "cell_type": "raw",
   "metadata": {},
   "source": [
    "SELECT first_name,last_name,salary,hire_date FROM employees;"
   ]
  },
  {
   "cell_type": "markdown",
   "metadata": {},
   "source": [
    "* We can also use a function and give a alias name to it as specified below"
   ]
  },
  {
   "cell_type": "raw",
   "metadata": {},
   "source": [
    "SELECT first_name,last_name,salary,to_char(hire_date,'YYYY-MM-DD') AS hire_date FROM employees;"
   ]
  },
  {
   "cell_type": "markdown",
   "metadata": {},
   "source": [
    "* We can also apply some arithmetic operations between two columns. For example, to get the commission amount of an employee we multiply the salary with commission percentage.\n",
    "* Below query is used to get the commission amount for an employee."
   ]
  },
  {
   "cell_type": "raw",
   "metadata": {},
   "source": [
    "SELECT first_name,last_name,salary,to_char(hire_date,'YYYY-MM-DD') AS hire_date, salary * commission_pct AS commission_amount FROM employees;"
   ]
  },
  {
   "cell_type": "markdown",
   "metadata": {},
   "source": [
    "### Filtering the data\n",
    "* We can perform the filter operation on the above query to get the records of list employees who are eligible and has a commission amount (Not Null).\n",
    "* We can remove the null values in the commission amount column by using the below query."
   ]
  },
  {
   "cell_type": "raw",
   "metadata": {},
   "source": [
    "SELECT first_name,last_name,salary,to_char(hire_date,'YYYY-MM-DD') AS hire_date, salary * commission_pct AS commission_amount  FROM employees WHERE commission_pct is NOT NULL;"
   ]
  },
  {
   "cell_type": "markdown",
   "metadata": {},
   "source": [
    "* Similarly, to get the list of employees who are not eligible for the commission amount use IS NULL in WHERE clause.\n",
    "* The only place where we can use Positional Notations is in order by clause."
   ]
  },
  {
   "cell_type": "markdown",
   "metadata": {},
   "source": [
    "***Queries*** \n",
    "* Get top employee in the company"
   ]
  },
  {
   "cell_type": "raw",
   "metadata": {},
   "source": [
    "SELECT * FROM employees WHERE manager_id is null;"
   ]
  },
  {
   "cell_type": "markdown",
   "metadata": {},
   "source": [
    "* Get direct reportees for top employee in the company"
   ]
  },
  {
   "cell_type": "raw",
   "metadata": {},
   "source": [
    "SELECT * FROM employees WHERE manager_id = 100;"
   ]
  },
  {
   "cell_type": "markdown",
   "metadata": {},
   "source": [
    "* Get all the employees reporting to president who are eligible for commission"
   ]
  },
  {
   "cell_type": "raw",
   "metadata": {},
   "source": [
    "SELECT * FROM employees WHERE manager_id = 100 AND commission_pct IS NOT NULL;"
   ]
  },
  {
   "cell_type": "markdown",
   "metadata": {},
   "source": [
    "* Get all the employees reporting to president and earn more than $5000 in commission"
   ]
  },
  {
   "cell_type": "raw",
   "metadata": {},
   "source": [
    "SELECT * FROM employees WHERE manager_id = 100 AND commission_pct * salary >= 5000;"
   ]
  },
  {
   "cell_type": "markdown",
   "metadata": {},
   "source": [
    "* Get all those employees for whom either commission amount is less than 1000 or no commission"
   ]
  },
  {
   "cell_type": "raw",
   "metadata": {},
   "source": [
    "SELECT first_name, last_name, salary, commission_pct, salary * commission_pct AS \n",
    "commission_amount FROM employees WHERE commission_pct is NULL OR commission_pct * salary < 1000;"
   ]
  },
  {
   "cell_type": "markdown",
   "metadata": {},
   "source": [
    "* Get all those employees who got hired in or after 1995 and fetch less than 5000 salary or 1000 commission"
   ]
  },
  {
   "cell_type": "raw",
   "metadata": {},
   "source": [
    "SELECT first_name, last_name, salary, commission_pct, salary * commission_pct AS \n",
    "commission_amount, hire_date FROM employees WHERE hire_date >= to_date('01-01-1995', 'MM-DD-YYYY')AND (salary < 5000 OR commission_pct is null OR salary * commission_pct < 1000)"
   ]
  },
  {
   "cell_type": "markdown",
   "metadata": {},
   "source": [
    "* Check if there is any sales guy where there is no commission"
   ]
  },
  {
   "cell_type": "raw",
   "metadata": {},
   "source": [
    "SELECT * FROM employees WHERE job_id IN (‘SA_MAN’, ‘SA_REP’) AND commission_pct IS NULL;\n",
    "SELECT * FROM employees WHERE job_id LIKE ‘SA_%’ AND commission_pct IS NULL;"
   ]
  },
  {
   "cell_type": "markdown",
   "metadata": {},
   "source": [
    "### *Exercises*\n",
    "* Valid environment with Oracle (https://apex.oracle.com)\n",
    "* Make sure retail_db tables are created\n",
    "* Load data using bulk utilities\n",
    "* Then go through the exercises and come up with queries\n",
    "\n",
    "**Exercise 1:** Get all the orders which are in COMPLETE or CLOSED status\n",
    "\n",
    "**Exercise 2:** Get all the orders which are placed in 2013-11 or 2013-12 with COMPLETE or CLOSED status\n",
    "\n",
    "**Exercise 3:** Get all the orders which are in PENDING or PENDING_PAYMENT or PROCESSING\n",
    "\n",
    "**Exercise 4:** Get all the order_items where order_id is 2\n",
    "\n",
    "**Exercise 5:** Get all the order_items where order_id is 5 and order_item_subtotal < 200\n",
    "\n",
    "**Exercise 6:** Get all the order_items where order_item_subtotal is not equal to order_item_quantity * order_item_product_price\n",
    "\n",
    "*Answers for above Exercises*"
   ]
  },
  {
   "cell_type": "raw",
   "metadata": {},
   "source": [
    "1.SELECT * FROM orders WHERE order_status IN (‘CLOSED’,’COMPLETE’);\n",
    "2.SELECT * FROM orders WHERE order_status IN (‘COMPLETE’,’CLOSED’) AND order_date BETWEEN TO_DATE(‘01/11/2013’,’DD/MM/YYYY’) AND TO_DATE(‘01/12/2013’,’DD/MM/YYYY’);\n",
    "3.SELECT * FROM orders WHERE order_status IN(‘PENDING’,’PENDING_PAYMENT’,’PROCESSING’);\n",
    "4.SELECT * FROM order_items WHERE order_item_order_id = 2;\n",
    "5.SELECT * FROM order_items WHERE order_item_order_id = 2 and order_item_subtotal <200;\n",
    "6.SELECT * FROM order_items WHERE order_item_subtotal <> order_item_quantity *  order_item_product_price;"
   ]
  }
 ],
 "metadata": {
  "kernelspec": {
   "display_name": "Apache Toree - SQL",
   "language": "sql",
   "name": "apache_toree_sql"
  },
  "language_info": {
   "codemirror_mode": "text/x-sql",
   "file_extension": ".sql",
   "mimetype": "text/x-sql",
   "name": "sql",
   "pygments_lexer": "sql",
   "version": "2.2.2"
  }
 },
 "nbformat": 4,
 "nbformat_minor": 4
}
