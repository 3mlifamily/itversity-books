{
 "cells": [
  {
   "cell_type": "markdown",
   "metadata": {},
   "source": [
    "# CRUD Operations"
   ]
  },
  {
   "cell_type": "markdown",
   "metadata": {},
   "source": [
    "As part of this course, we have covered\n",
    "* CRUD Operations – DML\n",
    "    * Insert\n",
    "    * Update\n",
    "    * Delete\n",
    "* Life cycle of order and relationship with CRUD operations\n",
    "* Basics of SQL\n",
    "    * Relevance of dual in Oracle\n",
    "    * Simple queries – projection of data\n",
    "    * Columns and Expressions in SELECT clause\n",
    "    * We work typically with primitive types. Some of the special data types are LONG, LOB, CLOB etc\n",
    "    * The primitive data types are INTEGER, FLOAT, DATE, CHAR, VARCHAR, NUMBER etc.\n",
    "    * To get the history use history tab under SQL commands section.\n",
    "    * DML commands are INSERT, DELETE, UPDATE\n",
    "    * INSERT command is used to insert the values into table. There are two ways of using it we can specify values of all the columns and we can also insert values for respective columns. Below s the syntax for both."
   ]
  },
  {
   "cell_type": "markdown",
   "metadata": {},
   "source": [
    "### Loading Data into Tables:\n",
    "Syntax:\n",
    "    \n",
    "INSERT INTO < TABLE_NAME > VALUES (value1, value2, value3);"
   ]
  },
  {
   "cell_type": "markdown",
   "metadata": {},
   "source": [
    "    \n",
    "INSERT INTO < TABLE_NAME > (COLUMN1, COLUMN3) VALUES (value1,value2);"
   ]
  },
  {
   "cell_type": "markdown",
   "metadata": {},
   "source": [
    "INSERT INTO orders VALUES (1,’04/11/2018’,1000,’NEW’);"
   ]
  },
  {
   "cell_type": "markdown",
   "metadata": {},
   "source": [
    "* Use select sysdate from dual; to get the date format used by the database.\n",
    "* If we try to insert a record with a different date format other than the default it fails. We can even alter the date format by using a field called <mark>NLS_DATE_FORMAT</mark>.\n",
    "* <mark>alter session set NLS_DATE_FORMAT='<my_format>';</mark> The change is only altered for current session.\n",
    "* There might be a different date format used in the front end but at the database level it must be converted into the way the database accepts.\n",
    "* UPDATE command is used to update a column value. Typically update statement is used with where condition based on the primary key field to change the value of respective record."
   ]
  },
  {
   "cell_type": "markdown",
   "metadata": {},
   "source": [
    "Syntax:\n",
    "   "
   ]
  },
  {
   "cell_type": "markdown",
   "metadata": {},
   "source": [
    " \n",
    "UPDATE < TABLE_NAME > SET < COLUMN3 > = < VALUE3 > where < COLUMN1 >= < VALUE1 >;"
   ]
  },
  {
   "cell_type": "markdown",
   "metadata": {},
   "source": [
    "UPDATE orders SET ORDER_STATUS = 'COMPLETE' where order_id=1;"
   ]
  },
  {
   "cell_type": "markdown",
   "metadata": {},
   "source": [
    "* DELETE command is used to delete a record. Typically, a delete command is followed by where condition."
   ]
  },
  {
   "cell_type": "markdown",
   "metadata": {},
   "source": [
    "Syntax:\n",
    "    \n",
    "DELETE FROM < TABLE_NAME > where < COLUMN1 >=<VALUE1>;"
   ]
  },
  {
   "cell_type": "markdown",
   "metadata": {},
   "source": [
    "DELETE FROM ORDERS where order_id=1;"
   ]
  },
  {
   "cell_type": "markdown",
   "metadata": {},
   "source": [
    "* If we want to insert only values for some columns it is recommended to use the list of column names followed by values. Ex: <mark>INSERT INTO orders (order_id, order_date, order_customer_id) VALUES (3, ‘04/11/2018’, 1000);</mark>\n",
    "* We cannot insert other column values into a record without PRIMARY KEY value. We cannot insert null values into a not null constraint column.\n",
    "* We can even alter the table definition and set not null constraint to a column by using the below command. Ex: <mark>ALTER TABLE orders MODIFY order_date NOT NULL;</mark>\n",
    "* Make sure the column that we are altering a not null constraint should not have null values.\n",
    "* By altering the table using <mark>NOT NULL CONSTRAINT</mark> we make sure that the application users enter all the values or else we can even throw an exception from database level.\n",
    "* We can also set default values in a table while adding columns."
   ]
  },
  {
   "cell_type": "markdown",
   "metadata": {},
   "source": [
    "Syntax:\n",
    "    \n",
    "ALTER TABLE orders MODIFY order_date DEFAULT sysdate;\n",
    "\n",
    "ALTER TABLE orders MODIFY order_status DEFAULT ‘NEW’;"
   ]
  },
  {
   "cell_type": "markdown",
   "metadata": {},
   "source": [
    "* COMMIT and ROLLBACK are transnational commands. To preserve all the commands, we use COMMIT command and to undo the those we use ROLLBACK.\n",
    "* INSERT, UPDATE, DELETE are considered as CRUD operations which means CREATE, READ, UPDATE and DELETE\n",
    "\n",
    "### Querying Data:\n",
    "\n",
    "* Go to /data/retail_db. To get the number of records from all the directories use <mark>wc -l */part*</mark>\n",
    "* We can load/unload the data from a text file or csv file or any similar files using utilities that are available within database.\n",
    "* One such utility with apex is Data Workshop which is under SQL Workshop under utilities section.\n",
    "* Load the data from a text select all the mandatory fields and map all the columns with their respective data types and load the data."
   ]
  },
  {
   "cell_type": "code",
   "execution_count": null,
   "metadata": {},
   "outputs": [],
   "source": []
  }
 ],
 "metadata": {
  "kernelspec": {
   "display_name": "Apache Toree - SQL",
   "language": "sql",
   "name": "apache_toree_sql"
  },
  "language_info": {
   "codemirror_mode": "text/x-sql",
   "file_extension": ".sql",
   "mimetype": "text/x-sql",
   "name": "sql",
   "pygments_lexer": "sql",
   "version": "2.2.2"
  }
 },
 "nbformat": 4,
 "nbformat_minor": 4
}
