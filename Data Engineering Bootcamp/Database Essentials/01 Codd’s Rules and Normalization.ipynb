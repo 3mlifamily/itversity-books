{
 "cells": [
  {
   "cell_type": "markdown",
   "metadata": {},
   "source": [
    "# Codd’s Rules and Normalization"
   ]
  },
  {
   "cell_type": "markdown",
   "metadata": {},
   "source": [
    "As part of this class we have covered\n",
    "\n",
    "* Rationale behind DBMS/RDBMS\n",
    "* Database principles such as Codd’s rules\n",
    "* Normalization principles\n",
    "* Data Definition Language\n",
    "\n",
    "### CODD’s Rules:\n",
    "\n",
    "* E F Codd has defined some principles for RDBMS that need to be followed.\n",
    "    * **Rule 0**: The foundation rule: relational Capabilities\n",
    "    * **Rule 1**: The information rule: Information => values in table\n",
    "    * **Rule 2**: The guaranteed access rule: Each and every row should be accessible by using names – such as tables, columns etc\n",
    "    * **Rule 3**: Systematic treatment of null values.\n",
    "    * **Rule 4**: Dynamic online catalog based on the relational model.\n",
    "    * **Rule 5**: The comprehensive data sublanguage rule.\n",
    "    * **Rule 6**: The View updating rule.\n",
    "    * **Rule 7**: High level insert, update and delete.\n",
    "    * **Rule 8**: Physical data independence: No impact on changing the physical layer of data.\n",
    "    * **Rule 9**: Logical data Independence: No impact on changing table structures.\n",
    "    * **Rule 10**: Integrity Independence: Constraints\n",
    "    * **Rule 11**: Distribution Independence.\n",
    "    * **Rule 12**: The nonsubversion rule.\n",
    "* The information must be values in the table Ex: <mark>**select * from employees;**</mark>\n",
    "* Guaranteed access rule means query the data by using appropriate column name and table name Ex: <mark>**select employee_id,first_name,last_name from employees;**</mark>\n",
    "* Systematic treatment of null values. Ex:<mark>**select * from employees;**</mark> for some of the commission records the values are null.\n",
    "* To get all the not null values for commission use <mark>**select * from employees where commission_pct is not null;**</mark>\n",
    "* To get the list of tables for a user use <mark>**select * from user_tables;**</mark>\n",
    "* select * from user_tab_cols retrieves the list of all columns for corresponding tables.\n",
    "* **DDL** commands update the structure of data Ex: <mark>**CREATE, DROP, ALTER.**</mark>\n",
    "* **DML** commands are <mark>**SELECT, INSERT, UPDATE, DELETE.**</mark>\n",
    "* **TCL** (Transaction Control Language) commands are <mark>**COMMIT, ROLLBACK.**</mark>\n",
    "* Constraints are <mark>**PRIMARY KEY, FOREIGN KEY, NOT NULL, CHECK, UNIQUE.**</mark>\n",
    "\n",
    "### Normalization:\n",
    "\n",
    "Normalization is all about defining relationship between tables.\n",
    "* **1st Normal Form**\n",
    "* **2nd Normal Form**\n",
    "* **3rd Normal Form**\n",
    "* **BCNF**\n",
    "* Typically, we normalize the raw data and store it in multiple tables.\n",
    "* Normalization has come into picture to address Update anomaly, Insertion anomaly and deletion anomaly issues. For more detailed information go through https://en.wikipedia.org/wiki/Database_normalization\n",
    "* The first normalization form says the data should always be represented in same format for every record.\n",
    "* The second normalization form defies about **functional dependency.** It means if one attribute is functionally dependent on other then we need to create a new table and insert all the attributes which are functionally dependent on other table.\n",
    "* Ex: order item is functionally dependent on order and order is functionally dependent on customer. It means one customer can place as many orders and one order can have multiple order items.\n",
    "* If there is one to many relationships between two attributes, then it is called as functional dependency.\n",
    "* If there is **transitive dependency** example customer derives order and order derives order items and even if there is a one to one relationship between tables we need to divide the tables into multiple tables.\n",
    "* BCNF is Boyce Codd normal form is implemented only if a primary key has multiple columns.\n",
    "\n",
    "### Creating Tables:\n",
    "\n",
    "* CREATE command is used to create table definition. It is a DDL command.\n",
    "* A typical table should contain a primary key constraint which is unique and not null."
   ]
  },
  {
   "cell_type": "markdown",
   "metadata": {},
   "source": [
    "SYNTAX:\n",
    "\n",
    "```CREATE TABLE <TABLE_NAME> ( <COLUMN_NAME>, <COLUMN_NAME> )```"
   ]
  },
  {
   "cell_type": "markdown",
   "metadata": {},
   "source": [
    "CREATE TABLE orders (\n",
    "\n",
    "order_id INTEGER,\n",
    "\n",
    "order_date DATE,\n",
    "\n",
    "order_customer_id INTEGER,\n",
    "\n",
    "order_status VARCHAR2(30),\n",
    "\n",
    "CONSTRAINT orders_pk PRIMARY KEY (order_id)\n",
    "\n",
    ");"
   ]
  },
  {
   "cell_type": "markdown",
   "metadata": {},
   "source": [
    "CREATE TABLE order_items (\n",
    "\n",
    "order_item_id INTEGER,\n",
    "\n",
    "order_item_order_id INTEGER,\n",
    "\n",
    "order_item_product_id INTEGER,\n",
    "\n",
    "order_item_quantity INTEGER,\n",
    "\n",
    "order_item_subtotal NUMBER(8,2),\n",
    "\n",
    "order_item_product_price NUMBER(8,2)\n",
    "\n",
    ");"
   ]
  },
  {
   "cell_type": "markdown",
   "metadata": {},
   "source": [
    "ALTER TABLE order_items ADD CONSTRAINT order_item_pk PRIMARY KEY (order_item_id);"
   ]
  },
  {
   "cell_type": "markdown",
   "metadata": {},
   "source": [
    "ALTER TABLE order_items ADD CONSTRAINT order_item_fk FOREIGN KEY (order_item_order_id) REFERENCES orders (order_id);"
   ]
  },
  {
   "cell_type": "markdown",
   "metadata": {},
   "source": [
    "* There are multiple ways to define a primary key for table. We can create primary key while creating a table or after creating table.\n",
    "* Similarly create the rest of the tables as per the data model.\n",
    "* Whenever we create a primary key there will be a index associated with it. The reason is index on top of unique sorts the data. Searching on index is faster."
   ]
  }
 ],
 "metadata": {
  "kernelspec": {
   "display_name": "Apache Toree - SQL",
   "language": "sql",
   "name": "apache_toree_sql"
  },
  "language_info": {
   "codemirror_mode": "text/x-sql",
   "file_extension": ".sql",
   "mimetype": "text/x-sql",
   "name": "sql",
   "pygments_lexer": "sql",
   "version": "2.2.2"
  }
 },
 "nbformat": 4,
 "nbformat_minor": 4
}
